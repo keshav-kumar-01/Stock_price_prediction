{
  "cells": [
    {
      "cell_type": "code",
      "execution_count": 1,
      "metadata": {
        "id": "xnLAPSyf-aRl",
        "colab": {
          "base_uri": "https://localhost:8080/"
        },
        "outputId": "1a11eacf-434a-4b6f-b808-f4ff312435d8"
      },
      "outputs": [
        {
          "output_type": "stream",
          "name": "stdout",
          "text": [
            "Requirement already satisfied: pandas in /usr/local/lib/python3.10/dist-packages (2.1.4)\n",
            "Requirement already satisfied: numpy<2,>=1.22.4 in /usr/local/lib/python3.10/dist-packages (from pandas) (1.26.4)\n",
            "Requirement already satisfied: python-dateutil>=2.8.2 in /usr/local/lib/python3.10/dist-packages (from pandas) (2.9.0.post0)\n",
            "Requirement already satisfied: pytz>=2020.1 in /usr/local/lib/python3.10/dist-packages (from pandas) (2024.2)\n",
            "Requirement already satisfied: tzdata>=2022.1 in /usr/local/lib/python3.10/dist-packages (from pandas) (2024.1)\n",
            "Requirement already satisfied: six>=1.5 in /usr/local/lib/python3.10/dist-packages (from python-dateutil>=2.8.2->pandas) (1.16.0)\n"
          ]
        }
      ],
      "source": [
        "!pip install pandas"
      ]
    },
    {
      "cell_type": "code",
      "execution_count": 2,
      "metadata": {
        "id": "823IyHF1m3pD"
      },
      "outputs": [],
      "source": [
        "import pandas as pd"
      ]
    },
    {
      "cell_type": "code",
      "execution_count": 3,
      "metadata": {
        "id": "xGp7greM-jG5",
        "colab": {
          "base_uri": "https://localhost:8080/"
        },
        "outputId": "1bda8f71-1805-43a0-98ed-a11606009dfa"
      },
      "outputs": [
        {
          "output_type": "stream",
          "name": "stdout",
          "text": [
            "Collecting pandas_datareader\n",
            "  Downloading pandas_datareader-0.10.0-py3-none-any.whl.metadata (2.9 kB)\n",
            "Collecting lxml (from pandas_datareader)\n",
            "  Downloading lxml-5.3.0-cp310-cp310-manylinux_2_28_x86_64.whl.metadata (3.8 kB)\n",
            "Requirement already satisfied: pandas>=0.23 in /usr/local/lib/python3.10/dist-packages (from pandas_datareader) (2.1.4)\n",
            "Requirement already satisfied: requests>=2.19.0 in /usr/local/lib/python3.10/dist-packages (from pandas_datareader) (2.32.3)\n",
            "Requirement already satisfied: numpy<2,>=1.22.4 in /usr/local/lib/python3.10/dist-packages (from pandas>=0.23->pandas_datareader) (1.26.4)\n",
            "Requirement already satisfied: python-dateutil>=2.8.2 in /usr/local/lib/python3.10/dist-packages (from pandas>=0.23->pandas_datareader) (2.9.0.post0)\n",
            "Requirement already satisfied: pytz>=2020.1 in /usr/local/lib/python3.10/dist-packages (from pandas>=0.23->pandas_datareader) (2024.2)\n",
            "Requirement already satisfied: tzdata>=2022.1 in /usr/local/lib/python3.10/dist-packages (from pandas>=0.23->pandas_datareader) (2024.1)\n",
            "Requirement already satisfied: charset-normalizer<4,>=2 in /usr/local/lib/python3.10/dist-packages (from requests>=2.19.0->pandas_datareader) (3.3.2)\n",
            "Requirement already satisfied: idna<4,>=2.5 in /usr/local/lib/python3.10/dist-packages (from requests>=2.19.0->pandas_datareader) (3.10)\n",
            "Requirement already satisfied: urllib3<3,>=1.21.1 in /usr/local/lib/python3.10/dist-packages (from requests>=2.19.0->pandas_datareader) (2.0.7)\n",
            "Requirement already satisfied: certifi>=2017.4.17 in /usr/local/lib/python3.10/dist-packages (from requests>=2.19.0->pandas_datareader) (2024.8.30)\n",
            "Requirement already satisfied: six>=1.5 in /usr/local/lib/python3.10/dist-packages (from python-dateutil>=2.8.2->pandas>=0.23->pandas_datareader) (1.16.0)\n",
            "Downloading pandas_datareader-0.10.0-py3-none-any.whl (109 kB)\n",
            "\u001b[2K   \u001b[90m━━━━━━━━━━━━━━━━━━━━━━━━━━━━━━━━━━━━━━━━\u001b[0m \u001b[32m109.5/109.5 kB\u001b[0m \u001b[31m1.0 MB/s\u001b[0m eta \u001b[36m0:00:00\u001b[0m\n",
            "\u001b[?25hDownloading lxml-5.3.0-cp310-cp310-manylinux_2_28_x86_64.whl (5.0 MB)\n",
            "\u001b[2K   \u001b[90m━━━━━━━━━━━━━━━━━━━━━━━━━━━━━━━━━━━━━━━━\u001b[0m \u001b[32m5.0/5.0 MB\u001b[0m \u001b[31m4.2 MB/s\u001b[0m eta \u001b[36m0:00:00\u001b[0m\n",
            "\u001b[?25hInstalling collected packages: lxml, pandas_datareader\n",
            "Successfully installed lxml-5.3.0 pandas_datareader-0.10.0\n"
          ]
        }
      ],
      "source": [
        "!pip install pandas_datareader"
      ]
    },
    {
      "cell_type": "code",
      "execution_count": 4,
      "metadata": {
        "id": "Pj0CS6chpRKi"
      },
      "outputs": [],
      "source": [
        "import pandas_datareader as pdr\n",
        "key = \"d3714db27b99121d6264b51aa3cc403791fad850\""
      ]
    },
    {
      "cell_type": "code",
      "execution_count": 5,
      "metadata": {
        "id": "mH0ICh8_paq2",
        "colab": {
          "base_uri": "https://localhost:8080/"
        },
        "outputId": "2c703c4c-ca1a-4ee8-b777-3196f7a43a4c"
      },
      "outputs": [
        {
          "output_type": "stream",
          "name": "stdout",
          "text": [
            "2.1.4\n",
            "0.10.0\n"
          ]
        }
      ],
      "source": [
        "print(pd.__version__)\n",
        "print(pdr.__version__)"
      ]
    },
    {
      "cell_type": "code",
      "execution_count": 6,
      "metadata": {
        "id": "tiQsZVNC-wjk",
        "colab": {
          "base_uri": "https://localhost:8080/"
        },
        "outputId": "72d4f570-2c0c-4119-e3da-47e968ed181b"
      },
      "outputs": [
        {
          "output_type": "stream",
          "name": "stdout",
          "text": [
            "Collecting yfinance\n",
            "  Downloading yfinance-0.2.43-py2.py3-none-any.whl.metadata (11 kB)\n",
            "Requirement already satisfied: pandas>=1.3.0 in /usr/local/lib/python3.10/dist-packages (from yfinance) (2.1.4)\n",
            "Requirement already satisfied: numpy>=1.16.5 in /usr/local/lib/python3.10/dist-packages (from yfinance) (1.26.4)\n",
            "Requirement already satisfied: requests>=2.31 in /usr/local/lib/python3.10/dist-packages (from yfinance) (2.32.3)\n",
            "Collecting multitasking>=0.0.7 (from yfinance)\n",
            "  Downloading multitasking-0.0.11-py3-none-any.whl.metadata (5.5 kB)\n",
            "Requirement already satisfied: lxml>=4.9.1 in /usr/local/lib/python3.10/dist-packages (from yfinance) (5.3.0)\n",
            "Requirement already satisfied: platformdirs>=2.0.0 in /usr/local/lib/python3.10/dist-packages (from yfinance) (4.3.6)\n",
            "Requirement already satisfied: pytz>=2022.5 in /usr/local/lib/python3.10/dist-packages (from yfinance) (2024.2)\n",
            "Collecting frozendict>=2.3.4 (from yfinance)\n",
            "  Downloading frozendict-2.4.4-cp310-cp310-manylinux_2_17_x86_64.manylinux2014_x86_64.whl.metadata (23 kB)\n",
            "Collecting peewee>=3.16.2 (from yfinance)\n",
            "  Downloading peewee-3.17.6.tar.gz (3.0 MB)\n",
            "\u001b[2K     \u001b[90m━━━━━━━━━━━━━━━━━━━━━━━━━━━━━━━━━━━━━━━━\u001b[0m \u001b[32m3.0/3.0 MB\u001b[0m \u001b[31m13.5 MB/s\u001b[0m eta \u001b[36m0:00:00\u001b[0m\n",
            "\u001b[?25h  Installing build dependencies ... \u001b[?25l\u001b[?25hdone\n",
            "  Getting requirements to build wheel ... \u001b[?25l\u001b[?25hdone\n",
            "  Preparing metadata (pyproject.toml) ... \u001b[?25l\u001b[?25hdone\n",
            "Requirement already satisfied: beautifulsoup4>=4.11.1 in /usr/local/lib/python3.10/dist-packages (from yfinance) (4.12.3)\n",
            "Collecting html5lib>=1.1 (from yfinance)\n",
            "  Downloading html5lib-1.1-py2.py3-none-any.whl.metadata (16 kB)\n",
            "Requirement already satisfied: soupsieve>1.2 in /usr/local/lib/python3.10/dist-packages (from beautifulsoup4>=4.11.1->yfinance) (2.6)\n",
            "Requirement already satisfied: six>=1.9 in /usr/local/lib/python3.10/dist-packages (from html5lib>=1.1->yfinance) (1.16.0)\n",
            "Requirement already satisfied: webencodings in /usr/local/lib/python3.10/dist-packages (from html5lib>=1.1->yfinance) (0.5.1)\n",
            "Requirement already satisfied: python-dateutil>=2.8.2 in /usr/local/lib/python3.10/dist-packages (from pandas>=1.3.0->yfinance) (2.9.0.post0)\n",
            "Requirement already satisfied: tzdata>=2022.1 in /usr/local/lib/python3.10/dist-packages (from pandas>=1.3.0->yfinance) (2024.1)\n",
            "Requirement already satisfied: charset-normalizer<4,>=2 in /usr/local/lib/python3.10/dist-packages (from requests>=2.31->yfinance) (3.3.2)\n",
            "Requirement already satisfied: idna<4,>=2.5 in /usr/local/lib/python3.10/dist-packages (from requests>=2.31->yfinance) (3.10)\n",
            "Requirement already satisfied: urllib3<3,>=1.21.1 in /usr/local/lib/python3.10/dist-packages (from requests>=2.31->yfinance) (2.0.7)\n",
            "Requirement already satisfied: certifi>=2017.4.17 in /usr/local/lib/python3.10/dist-packages (from requests>=2.31->yfinance) (2024.8.30)\n",
            "Downloading yfinance-0.2.43-py2.py3-none-any.whl (84 kB)\n",
            "\u001b[2K   \u001b[90m━━━━━━━━━━━━━━━━━━━━━━━━━━━━━━━━━━━━━━━━\u001b[0m \u001b[32m84.6/84.6 kB\u001b[0m \u001b[31m6.0 MB/s\u001b[0m eta \u001b[36m0:00:00\u001b[0m\n",
            "\u001b[?25hDownloading frozendict-2.4.4-cp310-cp310-manylinux_2_17_x86_64.manylinux2014_x86_64.whl (117 kB)\n",
            "\u001b[2K   \u001b[90m━━━━━━━━━━━━━━━━━━━━━━━━━━━━━━━━━━━━━━━━\u001b[0m \u001b[32m117.3/117.3 kB\u001b[0m \u001b[31m7.8 MB/s\u001b[0m eta \u001b[36m0:00:00\u001b[0m\n",
            "\u001b[?25hDownloading html5lib-1.1-py2.py3-none-any.whl (112 kB)\n",
            "\u001b[2K   \u001b[90m━━━━━━━━━━━━━━━━━━━━━━━━━━━━━━━━━━━━━━━━\u001b[0m \u001b[32m112.2/112.2 kB\u001b[0m \u001b[31m6.7 MB/s\u001b[0m eta \u001b[36m0:00:00\u001b[0m\n",
            "\u001b[?25hDownloading multitasking-0.0.11-py3-none-any.whl (8.5 kB)\n",
            "Building wheels for collected packages: peewee\n",
            "  Building wheel for peewee (pyproject.toml) ... \u001b[?25l\u001b[?25hdone\n",
            "  Created wheel for peewee: filename=peewee-3.17.6-cp310-cp310-linux_x86_64.whl size=728061 sha256=087e129e273a02c3e463551e0e08595e1ca5365e048bb133ddee0799cebc0b59\n",
            "  Stored in directory: /root/.cache/pip/wheels/4b/b9/b0/83d6e258e8f963f5ff111a2cd8c483ca59372a86e6a2535212\n",
            "Successfully built peewee\n",
            "Installing collected packages: peewee, multitasking, html5lib, frozendict, yfinance\n",
            "Successfully installed frozendict-2.4.4 html5lib-1.1 multitasking-0.0.11 peewee-3.17.6 yfinance-0.2.43\n"
          ]
        }
      ],
      "source": [
        "!pip install yfinance"
      ]
    },
    {
      "cell_type": "code",
      "execution_count": 96,
      "metadata": {
        "id": "Mjyl02chnuPI",
        "colab": {
          "base_uri": "https://localhost:8080/"
        },
        "outputId": "ef082833-7d18-48d2-f60f-98bf77ba86ff"
      },
      "outputs": [
        {
          "output_type": "stream",
          "name": "stderr",
          "text": [
            "\r[*********************100%***********************]  1 of 1 completed"
          ]
        },
        {
          "output_type": "stream",
          "name": "stdout",
          "text": [
            "                 Open       High        Low      Close  Adj Close    Volume\n",
            "Date                                                                       \n",
            "1999-01-01  31.599886  32.155613  31.053738  31.839424  24.690235  18835718\n",
            "1999-01-04  32.021473  32.663437  31.561560  31.676538  24.563919  18245781\n",
            "1999-01-05  31.714865  34.215645  31.283695  34.215645  26.532898  38938718\n",
            "1999-01-06  34.637230  35.317520  33.870708  35.221703  27.313057  40059886\n",
            "1999-01-07  35.269611  36.850563  35.164215  36.697258  28.457291  35983032\n"
          ]
        },
        {
          "output_type": "stream",
          "name": "stderr",
          "text": [
            "\n"
          ]
        }
      ],
      "source": [
        "import yfinance as yf\n",
        "\n",
        "# Fetch historical market data for Apple (AAPL)\n",
        "df = yf.download('TATAMOTORS.NS', start='1999-01-01', end='2024-09-20')\n",
        "\n",
        "# Show the data\n",
        "print(df.head())\n"
      ]
    },
    {
      "cell_type": "code",
      "execution_count": 97,
      "metadata": {
        "id": "fzOEoH0fq2Dd"
      },
      "outputs": [],
      "source": [
        "df.to_csv('TATAMOTORS.NS.csv')"
      ]
    },
    {
      "cell_type": "code",
      "execution_count": 9,
      "metadata": {
        "id": "GXeu0vQLrCCF"
      },
      "outputs": [],
      "source": [
        "import pandas as pd"
      ]
    },
    {
      "cell_type": "code",
      "execution_count": 98,
      "metadata": {
        "id": "fMjcCwqeq8XW"
      },
      "outputs": [],
      "source": [
        "df=pd.read_csv('TATAMOTORS.NS.csv')"
      ]
    },
    {
      "cell_type": "code",
      "execution_count": 99,
      "metadata": {
        "id": "IYnCkKVhrMbG",
        "colab": {
          "base_uri": "https://localhost:8080/",
          "height": 206
        },
        "outputId": "fee71c8c-8a36-4f3c-92e3-fa47908e21a6"
      },
      "outputs": [
        {
          "output_type": "execute_result",
          "data": {
            "text/plain": [
              "         Date       Open       High        Low      Close  Adj Close    Volume\n",
              "0  1999-01-01  31.599886  32.155613  31.053738  31.839424  24.690235  18835718\n",
              "1  1999-01-04  32.021473  32.663437  31.561560  31.676538  24.563919  18245781\n",
              "2  1999-01-05  31.714865  34.215645  31.283695  34.215645  26.532898  38938718\n",
              "3  1999-01-06  34.637230  35.317520  33.870708  35.221703  27.313057  40059886\n",
              "4  1999-01-07  35.269611  36.850563  35.164215  36.697258  28.457291  35983032"
            ],
            "text/html": [
              "\n",
              "  <div id=\"df-e278b05f-bddd-45a1-96f0-a278a680f18d\" class=\"colab-df-container\">\n",
              "    <div>\n",
              "<style scoped>\n",
              "    .dataframe tbody tr th:only-of-type {\n",
              "        vertical-align: middle;\n",
              "    }\n",
              "\n",
              "    .dataframe tbody tr th {\n",
              "        vertical-align: top;\n",
              "    }\n",
              "\n",
              "    .dataframe thead th {\n",
              "        text-align: right;\n",
              "    }\n",
              "</style>\n",
              "<table border=\"1\" class=\"dataframe\">\n",
              "  <thead>\n",
              "    <tr style=\"text-align: right;\">\n",
              "      <th></th>\n",
              "      <th>Date</th>\n",
              "      <th>Open</th>\n",
              "      <th>High</th>\n",
              "      <th>Low</th>\n",
              "      <th>Close</th>\n",
              "      <th>Adj Close</th>\n",
              "      <th>Volume</th>\n",
              "    </tr>\n",
              "  </thead>\n",
              "  <tbody>\n",
              "    <tr>\n",
              "      <th>0</th>\n",
              "      <td>1999-01-01</td>\n",
              "      <td>31.599886</td>\n",
              "      <td>32.155613</td>\n",
              "      <td>31.053738</td>\n",
              "      <td>31.839424</td>\n",
              "      <td>24.690235</td>\n",
              "      <td>18835718</td>\n",
              "    </tr>\n",
              "    <tr>\n",
              "      <th>1</th>\n",
              "      <td>1999-01-04</td>\n",
              "      <td>32.021473</td>\n",
              "      <td>32.663437</td>\n",
              "      <td>31.561560</td>\n",
              "      <td>31.676538</td>\n",
              "      <td>24.563919</td>\n",
              "      <td>18245781</td>\n",
              "    </tr>\n",
              "    <tr>\n",
              "      <th>2</th>\n",
              "      <td>1999-01-05</td>\n",
              "      <td>31.714865</td>\n",
              "      <td>34.215645</td>\n",
              "      <td>31.283695</td>\n",
              "      <td>34.215645</td>\n",
              "      <td>26.532898</td>\n",
              "      <td>38938718</td>\n",
              "    </tr>\n",
              "    <tr>\n",
              "      <th>3</th>\n",
              "      <td>1999-01-06</td>\n",
              "      <td>34.637230</td>\n",
              "      <td>35.317520</td>\n",
              "      <td>33.870708</td>\n",
              "      <td>35.221703</td>\n",
              "      <td>27.313057</td>\n",
              "      <td>40059886</td>\n",
              "    </tr>\n",
              "    <tr>\n",
              "      <th>4</th>\n",
              "      <td>1999-01-07</td>\n",
              "      <td>35.269611</td>\n",
              "      <td>36.850563</td>\n",
              "      <td>35.164215</td>\n",
              "      <td>36.697258</td>\n",
              "      <td>28.457291</td>\n",
              "      <td>35983032</td>\n",
              "    </tr>\n",
              "  </tbody>\n",
              "</table>\n",
              "</div>\n",
              "    <div class=\"colab-df-buttons\">\n",
              "\n",
              "  <div class=\"colab-df-container\">\n",
              "    <button class=\"colab-df-convert\" onclick=\"convertToInteractive('df-e278b05f-bddd-45a1-96f0-a278a680f18d')\"\n",
              "            title=\"Convert this dataframe to an interactive table.\"\n",
              "            style=\"display:none;\">\n",
              "\n",
              "  <svg xmlns=\"http://www.w3.org/2000/svg\" height=\"24px\" viewBox=\"0 -960 960 960\">\n",
              "    <path d=\"M120-120v-720h720v720H120Zm60-500h600v-160H180v160Zm220 220h160v-160H400v160Zm0 220h160v-160H400v160ZM180-400h160v-160H180v160Zm440 0h160v-160H620v160ZM180-180h160v-160H180v160Zm440 0h160v-160H620v160Z\"/>\n",
              "  </svg>\n",
              "    </button>\n",
              "\n",
              "  <style>\n",
              "    .colab-df-container {\n",
              "      display:flex;\n",
              "      gap: 12px;\n",
              "    }\n",
              "\n",
              "    .colab-df-convert {\n",
              "      background-color: #E8F0FE;\n",
              "      border: none;\n",
              "      border-radius: 50%;\n",
              "      cursor: pointer;\n",
              "      display: none;\n",
              "      fill: #1967D2;\n",
              "      height: 32px;\n",
              "      padding: 0 0 0 0;\n",
              "      width: 32px;\n",
              "    }\n",
              "\n",
              "    .colab-df-convert:hover {\n",
              "      background-color: #E2EBFA;\n",
              "      box-shadow: 0px 1px 2px rgba(60, 64, 67, 0.3), 0px 1px 3px 1px rgba(60, 64, 67, 0.15);\n",
              "      fill: #174EA6;\n",
              "    }\n",
              "\n",
              "    .colab-df-buttons div {\n",
              "      margin-bottom: 4px;\n",
              "    }\n",
              "\n",
              "    [theme=dark] .colab-df-convert {\n",
              "      background-color: #3B4455;\n",
              "      fill: #D2E3FC;\n",
              "    }\n",
              "\n",
              "    [theme=dark] .colab-df-convert:hover {\n",
              "      background-color: #434B5C;\n",
              "      box-shadow: 0px 1px 3px 1px rgba(0, 0, 0, 0.15);\n",
              "      filter: drop-shadow(0px 1px 2px rgba(0, 0, 0, 0.3));\n",
              "      fill: #FFFFFF;\n",
              "    }\n",
              "  </style>\n",
              "\n",
              "    <script>\n",
              "      const buttonEl =\n",
              "        document.querySelector('#df-e278b05f-bddd-45a1-96f0-a278a680f18d button.colab-df-convert');\n",
              "      buttonEl.style.display =\n",
              "        google.colab.kernel.accessAllowed ? 'block' : 'none';\n",
              "\n",
              "      async function convertToInteractive(key) {\n",
              "        const element = document.querySelector('#df-e278b05f-bddd-45a1-96f0-a278a680f18d');\n",
              "        const dataTable =\n",
              "          await google.colab.kernel.invokeFunction('convertToInteractive',\n",
              "                                                    [key], {});\n",
              "        if (!dataTable) return;\n",
              "\n",
              "        const docLinkHtml = 'Like what you see? Visit the ' +\n",
              "          '<a target=\"_blank\" href=https://colab.research.google.com/notebooks/data_table.ipynb>data table notebook</a>'\n",
              "          + ' to learn more about interactive tables.';\n",
              "        element.innerHTML = '';\n",
              "        dataTable['output_type'] = 'display_data';\n",
              "        await google.colab.output.renderOutput(dataTable, element);\n",
              "        const docLink = document.createElement('div');\n",
              "        docLink.innerHTML = docLinkHtml;\n",
              "        element.appendChild(docLink);\n",
              "      }\n",
              "    </script>\n",
              "  </div>\n",
              "\n",
              "\n",
              "<div id=\"df-6ce85a8f-8952-4e24-853a-ba15654f9596\">\n",
              "  <button class=\"colab-df-quickchart\" onclick=\"quickchart('df-6ce85a8f-8952-4e24-853a-ba15654f9596')\"\n",
              "            title=\"Suggest charts\"\n",
              "            style=\"display:none;\">\n",
              "\n",
              "<svg xmlns=\"http://www.w3.org/2000/svg\" height=\"24px\"viewBox=\"0 0 24 24\"\n",
              "     width=\"24px\">\n",
              "    <g>\n",
              "        <path d=\"M19 3H5c-1.1 0-2 .9-2 2v14c0 1.1.9 2 2 2h14c1.1 0 2-.9 2-2V5c0-1.1-.9-2-2-2zM9 17H7v-7h2v7zm4 0h-2V7h2v10zm4 0h-2v-4h2v4z\"/>\n",
              "    </g>\n",
              "</svg>\n",
              "  </button>\n",
              "\n",
              "<style>\n",
              "  .colab-df-quickchart {\n",
              "      --bg-color: #E8F0FE;\n",
              "      --fill-color: #1967D2;\n",
              "      --hover-bg-color: #E2EBFA;\n",
              "      --hover-fill-color: #174EA6;\n",
              "      --disabled-fill-color: #AAA;\n",
              "      --disabled-bg-color: #DDD;\n",
              "  }\n",
              "\n",
              "  [theme=dark] .colab-df-quickchart {\n",
              "      --bg-color: #3B4455;\n",
              "      --fill-color: #D2E3FC;\n",
              "      --hover-bg-color: #434B5C;\n",
              "      --hover-fill-color: #FFFFFF;\n",
              "      --disabled-bg-color: #3B4455;\n",
              "      --disabled-fill-color: #666;\n",
              "  }\n",
              "\n",
              "  .colab-df-quickchart {\n",
              "    background-color: var(--bg-color);\n",
              "    border: none;\n",
              "    border-radius: 50%;\n",
              "    cursor: pointer;\n",
              "    display: none;\n",
              "    fill: var(--fill-color);\n",
              "    height: 32px;\n",
              "    padding: 0;\n",
              "    width: 32px;\n",
              "  }\n",
              "\n",
              "  .colab-df-quickchart:hover {\n",
              "    background-color: var(--hover-bg-color);\n",
              "    box-shadow: 0 1px 2px rgba(60, 64, 67, 0.3), 0 1px 3px 1px rgba(60, 64, 67, 0.15);\n",
              "    fill: var(--button-hover-fill-color);\n",
              "  }\n",
              "\n",
              "  .colab-df-quickchart-complete:disabled,\n",
              "  .colab-df-quickchart-complete:disabled:hover {\n",
              "    background-color: var(--disabled-bg-color);\n",
              "    fill: var(--disabled-fill-color);\n",
              "    box-shadow: none;\n",
              "  }\n",
              "\n",
              "  .colab-df-spinner {\n",
              "    border: 2px solid var(--fill-color);\n",
              "    border-color: transparent;\n",
              "    border-bottom-color: var(--fill-color);\n",
              "    animation:\n",
              "      spin 1s steps(1) infinite;\n",
              "  }\n",
              "\n",
              "  @keyframes spin {\n",
              "    0% {\n",
              "      border-color: transparent;\n",
              "      border-bottom-color: var(--fill-color);\n",
              "      border-left-color: var(--fill-color);\n",
              "    }\n",
              "    20% {\n",
              "      border-color: transparent;\n",
              "      border-left-color: var(--fill-color);\n",
              "      border-top-color: var(--fill-color);\n",
              "    }\n",
              "    30% {\n",
              "      border-color: transparent;\n",
              "      border-left-color: var(--fill-color);\n",
              "      border-top-color: var(--fill-color);\n",
              "      border-right-color: var(--fill-color);\n",
              "    }\n",
              "    40% {\n",
              "      border-color: transparent;\n",
              "      border-right-color: var(--fill-color);\n",
              "      border-top-color: var(--fill-color);\n",
              "    }\n",
              "    60% {\n",
              "      border-color: transparent;\n",
              "      border-right-color: var(--fill-color);\n",
              "    }\n",
              "    80% {\n",
              "      border-color: transparent;\n",
              "      border-right-color: var(--fill-color);\n",
              "      border-bottom-color: var(--fill-color);\n",
              "    }\n",
              "    90% {\n",
              "      border-color: transparent;\n",
              "      border-bottom-color: var(--fill-color);\n",
              "    }\n",
              "  }\n",
              "</style>\n",
              "\n",
              "  <script>\n",
              "    async function quickchart(key) {\n",
              "      const quickchartButtonEl =\n",
              "        document.querySelector('#' + key + ' button');\n",
              "      quickchartButtonEl.disabled = true;  // To prevent multiple clicks.\n",
              "      quickchartButtonEl.classList.add('colab-df-spinner');\n",
              "      try {\n",
              "        const charts = await google.colab.kernel.invokeFunction(\n",
              "            'suggestCharts', [key], {});\n",
              "      } catch (error) {\n",
              "        console.error('Error during call to suggestCharts:', error);\n",
              "      }\n",
              "      quickchartButtonEl.classList.remove('colab-df-spinner');\n",
              "      quickchartButtonEl.classList.add('colab-df-quickchart-complete');\n",
              "    }\n",
              "    (() => {\n",
              "      let quickchartButtonEl =\n",
              "        document.querySelector('#df-6ce85a8f-8952-4e24-853a-ba15654f9596 button');\n",
              "      quickchartButtonEl.style.display =\n",
              "        google.colab.kernel.accessAllowed ? 'block' : 'none';\n",
              "    })();\n",
              "  </script>\n",
              "</div>\n",
              "\n",
              "    </div>\n",
              "  </div>\n"
            ],
            "application/vnd.google.colaboratory.intrinsic+json": {
              "type": "dataframe",
              "variable_name": "df",
              "summary": "{\n  \"name\": \"df\",\n  \"rows\": 6431,\n  \"fields\": [\n    {\n      \"column\": \"Date\",\n      \"properties\": {\n        \"dtype\": \"object\",\n        \"num_unique_values\": 6431,\n        \"samples\": [\n          \"2015-03-27\",\n          \"2024-02-08\",\n          \"2022-01-17\"\n        ],\n        \"semantic_type\": \"\",\n        \"description\": \"\"\n      }\n    },\n    {\n      \"column\": \"Open\",\n      \"properties\": {\n        \"dtype\": \"number\",\n        \"std\": 209.44491156097408,\n        \"min\": 11.114574432373049,\n        \"max\": 1167.0,\n        \"num_unique_values\": 4933,\n        \"samples\": [\n          305.95001220703125,\n          102.54153442382812,\n          503.25\n        ],\n        \"semantic_type\": \"\",\n        \"description\": \"\"\n      }\n    },\n    {\n      \"column\": \"High\",\n      \"properties\": {\n        \"dtype\": \"number\",\n        \"std\": 211.57248973804627,\n        \"min\": 11.631977081298828,\n        \"max\": 1179.0,\n        \"num_unique_values\": 5478,\n        \"samples\": [\n          366.5681762695313,\n          463.75,\n          41.392208099365234\n        ],\n        \"semantic_type\": \"\",\n        \"description\": \"\"\n      }\n    },\n    {\n      \"column\": \"Low\",\n      \"properties\": {\n        \"dtype\": \"number\",\n        \"std\": 206.73764768222736,\n        \"min\": 11.028340339660645,\n        \"max\": 1145.300048828125,\n        \"num_unique_values\": 5495,\n        \"samples\": [\n          137.39913940429688,\n          27.403175354003903,\n          132.60836791992188\n        ],\n        \"semantic_type\": \"\",\n        \"description\": \"\"\n      }\n    },\n    {\n      \"column\": \"Close\",\n      \"properties\": {\n        \"dtype\": \"number\",\n        \"std\": 209.05698494974433,\n        \"min\": 11.267878532409668,\n        \"max\": 1161.8499755859375,\n        \"num_unique_values\": 5755,\n        \"samples\": [\n          151.28277587890625,\n          163.85000610351562,\n          428.3999938964844\n        ],\n        \"semantic_type\": \"\",\n        \"description\": \"\"\n      }\n    },\n    {\n      \"column\": \"Adj Close\",\n      \"properties\": {\n        \"dtype\": \"number\",\n        \"std\": 211.1733279388911,\n        \"min\": 9.043228149414062,\n        \"max\": 1161.8499755859375,\n        \"num_unique_values\": 5929,\n        \"samples\": [\n          222.21951293945312,\n          65.87833404541016,\n          452.1568298339844\n        ],\n        \"semantic_type\": \"\",\n        \"description\": \"\"\n      }\n    },\n    {\n      \"column\": \"Volume\",\n      \"properties\": {\n        \"dtype\": \"number\",\n        \"std\": 20980300,\n        \"min\": 0,\n        \"max\": 390577839,\n        \"num_unique_values\": 6359,\n        \"samples\": [\n          6991806,\n          14765516,\n          6608897\n        ],\n        \"semantic_type\": \"\",\n        \"description\": \"\"\n      }\n    }\n  ]\n}"
            }
          },
          "metadata": {},
          "execution_count": 99
        }
      ],
      "source": [
        "df.head()"
      ]
    },
    {
      "cell_type": "code",
      "execution_count": 100,
      "metadata": {
        "cellView": "form",
        "id": "0MDiwU-U9Pgj",
        "colab": {
          "base_uri": "https://localhost:8080/",
          "height": 454
        },
        "outputId": "42a9fdae-92df-494c-a3b0-1de07063d440"
      },
      "outputs": [
        {
          "output_type": "display_data",
          "data": {
            "text/plain": [
              "<Figure size 640x480 with 1 Axes>"
            ],
            "image/png": "[encoded data removed]"
          },
          "metadata": {}
        }
      ],
      "source": [
        "# @title High vs Low\n",
        "\n",
        "from matplotlib import pyplot as plt\n",
        "df.plot(kind='scatter', x='High', y='Low', s=32, alpha=.8)\n",
        "plt.gca().spines[['top', 'right',]].set_visible(False)"
      ]
    },
    {
      "cell_type": "code",
      "execution_count": 101,
      "metadata": {
        "id": "bi7DX6kbrWVS",
        "colab": {
          "base_uri": "https://localhost:8080/",
          "height": 206
        },
        "outputId": "3502d198-3632-4c2e-fd16-c1f4bb7d49fb"
      },
      "outputs": [
        {
          "output_type": "execute_result",
          "data": {
            "text/plain": [
              "            Date        Open         High         Low       Close   Adj Close  \\\n",
              "6426  2024-09-13  994.900024  1006.000000  988.000000  992.099976  992.099976   \n",
              "6427  2024-09-16  997.000000   999.900024  984.500000  988.400024  988.400024   \n",
              "6428  2024-09-17  995.000000   995.000000  960.000000  974.950012  974.950012   \n",
              "6429  2024-09-18  978.200012   983.700012  957.150024  962.049988  962.049988   \n",
              "6430  2024-09-19  970.400024   978.950012  956.349976  967.000000  967.000000   \n",
              "\n",
              "        Volume  \n",
              "6426  13203676  \n",
              "6427   5836274  \n",
              "6428  44516613  \n",
              "6429  12044431  \n",
              "6430  13466770  "
            ],
            "text/html": [
              "\n",
              "  <div id=\"df-18d1ba20-158e-4b33-8789-29e04fe9f197\" class=\"colab-df-container\">\n",
              "    <div>\n",
              "<style scoped>\n",
              "    .dataframe tbody tr th:only-of-type {\n",
              "        vertical-align: middle;\n",
              "    }\n",
              "\n",
              "    .dataframe tbody tr th {\n",
              "        vertical-align: top;\n",
              "    }\n",
              "\n",
              "    .dataframe thead th {\n",
              "        text-align: right;\n",
              "    }\n",
              "</style>\n",
              "<table border=\"1\" class=\"dataframe\">\n",
              "  <thead>\n",
              "    <tr style=\"text-align: right;\">\n",
              "      <th></th>\n",
              "      <th>Date</th>\n",
              "      <th>Open</th>\n",
              "      <th>High</th>\n",
              "      <th>Low</th>\n",
              "      <th>Close</th>\n",
              "      <th>Adj Close</th>\n",
              "      <th>Volume</th>\n",
              "    </tr>\n",
              "  </thead>\n",
              "  <tbody>\n",
              "    <tr>\n",
              "      <th>6426</th>\n",
              "      <td>2024-09-13</td>\n",
              "      <td>994.900024</td>\n",
              "      <td>1006.000000</td>\n",
              "      <td>988.000000</td>\n",
              "      <td>992.099976</td>\n",
              "      <td>992.099976</td>\n",
              "      <td>13203676</td>\n",
              "    </tr>\n",
              "    <tr>\n",
              "      <th>6427</th>\n",
              "      <td>2024-09-16</td>\n",
              "      <td>997.000000</td>\n",
              "      <td>999.900024</td>\n",
              "      <td>984.500000</td>\n",
              "      <td>988.400024</td>\n",
              "      <td>988.400024</td>\n",
              "      <td>5836274</td>\n",
              "    </tr>\n",
              "    <tr>\n",
              "      <th>6428</th>\n",
              "      <td>2024-09-17</td>\n",
              "      <td>995.000000</td>\n",
              "      <td>995.000000</td>\n",
              "      <td>960.000000</td>\n",
              "      <td>974.950012</td>\n",
              "      <td>974.950012</td>\n",
              "      <td>44516613</td>\n",
              "    </tr>\n",
              "    <tr>\n",
              "      <th>6429</th>\n",
              "      <td>2024-09-18</td>\n",
              "      <td>978.200012</td>\n",
              "      <td>983.700012</td>\n",
              "      <td>957.150024</td>\n",
              "      <td>962.049988</td>\n",
              "      <td>962.049988</td>\n",
              "      <td>12044431</td>\n",
              "    </tr>\n",
              "    <tr>\n",
              "      <th>6430</th>\n",
              "      <td>2024-09-19</td>\n",
              "      <td>970.400024</td>\n",
              "      <td>978.950012</td>\n",
              "      <td>956.349976</td>\n",
              "      <td>967.000000</td>\n",
              "      <td>967.000000</td>\n",
              "      <td>13466770</td>\n",
              "    </tr>\n",
              "  </tbody>\n",
              "</table>\n",
              "</div>\n",
              "    <div class=\"colab-df-buttons\">\n",
              "\n",
              "  <div class=\"colab-df-container\">\n",
              "    <button class=\"colab-df-convert\" onclick=\"convertToInteractive('df-18d1ba20-158e-4b33-8789-29e04fe9f197')\"\n",
              "            title=\"Convert this dataframe to an interactive table.\"\n",
              "            style=\"display:none;\">\n",
              "\n",
              "  <svg xmlns=\"http://www.w3.org/2000/svg\" height=\"24px\" viewBox=\"0 -960 960 960\">\n",
              "    <path d=\"M120-120v-720h720v720H120Zm60-500h600v-160H180v160Zm220 220h160v-160H400v160Zm0 220h160v-160H400v160ZM180-400h160v-160H180v160Zm440 0h160v-160H620v160ZM180-180h160v-160H180v160Zm440 0h160v-160H620v160Z\"/>\n",
              "  </svg>\n",
              "    </button>\n",
              "\n",
              "  <style>\n",
              "    .colab-df-container {\n",
              "      display:flex;\n",
              "      gap: 12px;\n",
              "    }\n",
              "\n",
              "    .colab-df-convert {\n",
              "      background-color: #E8F0FE;\n",
              "      border: none;\n",
              "      border-radius: 50%;\n",
              "      cursor: pointer;\n",
              "      display: none;\n",
              "      fill: #1967D2;\n",
              "      height: 32px;\n",
              "      padding: 0 0 0 0;\n",
              "      width: 32px;\n",
              "    }\n",
              "\n",
              "    .colab-df-convert:hover {\n",
              "      background-color: #E2EBFA;\n",
              "      box-shadow: 0px 1px 2px rgba(60, 64, 67, 0.3), 0px 1px 3px 1px rgba(60, 64, 67, 0.15);\n",
              "      fill: #174EA6;\n",
              "    }\n",
              "\n",
              "    .colab-df-buttons div {\n",
              "      margin-bottom: 4px;\n",
              "    }\n",
              "\n",
              "    [theme=dark] .colab-df-convert {\n",
              "      background-color: #3B4455;\n",
              "      fill: #D2E3FC;\n",
              "    }\n",
              "\n",
              "    [theme=dark] .colab-df-convert:hover {\n",
              "      background-color: #434B5C;\n",
              "      box-shadow: 0px 1px 3px 1px rgba(0, 0, 0, 0.15);\n",
              "      filter: drop-shadow(0px 1px 2px rgba(0, 0, 0, 0.3));\n",
              "      fill: #FFFFFF;\n",
              "    }\n",
              "  </style>\n",
              "\n",
              "    <script>\n",
              "      const buttonEl =\n",
              "        document.querySelector('#df-18d1ba20-158e-4b33-8789-29e04fe9f197 button.colab-df-convert');\n",
              "      buttonEl.style.display =\n",
              "        google.colab.kernel.accessAllowed ? 'block' : 'none';\n",
              "\n",
              "      async function convertToInteractive(key) {\n",
              "        const element = document.querySelector('#df-18d1ba20-158e-4b33-8789-29e04fe9f197');\n",
              "        const dataTable =\n",
              "          await google.colab.kernel.invokeFunction('convertToInteractive',\n",
              "                                                    [key], {});\n",
              "        if (!dataTable) return;\n",
              "\n",
              "        const docLinkHtml = 'Like what you see? Visit the ' +\n",
              "          '<a target=\"_blank\" href=https://colab.research.google.com/notebooks/data_table.ipynb>data table notebook</a>'\n",
              "          + ' to learn more about interactive tables.';\n",
              "        element.innerHTML = '';\n",
              "        dataTable['output_type'] = 'display_data';\n",
              "        await google.colab.output.renderOutput(dataTable, element);\n",
              "        const docLink = document.createElement('div');\n",
              "        docLink.innerHTML = docLinkHtml;\n",
              "        element.appendChild(docLink);\n",
              "      }\n",
              "    </script>\n",
              "  </div>\n",
              "\n",
              "\n",
              "<div id=\"df-88eae78f-4c77-4380-9472-2dfb993fed39\">\n",
              "  <button class=\"colab-df-quickchart\" onclick=\"quickchart('df-88eae78f-4c77-4380-9472-2dfb993fed39')\"\n",
              "            title=\"Suggest charts\"\n",
              "            style=\"display:none;\">\n",
              "\n",
              "<svg xmlns=\"http://www.w3.org/2000/svg\" height=\"24px\"viewBox=\"0 0 24 24\"\n",
              "     width=\"24px\">\n",
              "    <g>\n",
              "        <path d=\"M19 3H5c-1.1 0-2 .9-2 2v14c0 1.1.9 2 2 2h14c1.1 0 2-.9 2-2V5c0-1.1-.9-2-2-2zM9 17H7v-7h2v7zm4 0h-2V7h2v10zm4 0h-2v-4h2v4z\"/>\n",
              "    </g>\n",
              "</svg>\n",
              "  </button>\n",
              "\n",
              "<style>\n",
              "  .colab-df-quickchart {\n",
              "      --bg-color: #E8F0FE;\n",
              "      --fill-color: #1967D2;\n",
              "      --hover-bg-color: #E2EBFA;\n",
              "      --hover-fill-color: #174EA6;\n",
              "      --disabled-fill-color: #AAA;\n",
              "      --disabled-bg-color: #DDD;\n",
              "  }\n",
              "\n",
              "  [theme=dark] .colab-df-quickchart {\n",
              "      --bg-color: #3B4455;\n",
              "      --fill-color: #D2E3FC;\n",
              "      --hover-bg-color: #434B5C;\n",
              "      --hover-fill-color: #FFFFFF;\n",
              "      --disabled-bg-color: #3B4455;\n",
              "      --disabled-fill-color: #666;\n",
              "  }\n",
              "\n",
              "  .colab-df-quickchart {\n",
              "    background-color: var(--bg-color);\n",
              "    border: none;\n",
              "    border-radius: 50%;\n",
              "    cursor: pointer;\n",
              "    display: none;\n",
              "    fill: var(--fill-color);\n",
              "    height: 32px;\n",
              "    padding: 0;\n",
              "    width: 32px;\n",
              "  }\n",
              "\n",
              "  .colab-df-quickchart:hover {\n",
              "    background-color: var(--hover-bg-color);\n",
              "    box-shadow: 0 1px 2px rgba(60, 64, 67, 0.3), 0 1px 3px 1px rgba(60, 64, 67, 0.15);\n",
              "    fill: var(--button-hover-fill-color);\n",
              "  }\n",
              "\n",
              "  .colab-df-quickchart-complete:disabled,\n",
              "  .colab-df-quickchart-complete:disabled:hover {\n",
              "    background-color: var(--disabled-bg-color);\n",
              "    fill: var(--disabled-fill-color);\n",
              "    box-shadow: none;\n",
              "  }\n",
              "\n",
              "  .colab-df-spinner {\n",
              "    border: 2px solid var(--fill-color);\n",
              "    border-color: transparent;\n",
              "    border-bottom-color: var(--fill-color);\n",
              "    animation:\n",
              "      spin 1s steps(1) infinite;\n",
              "  }\n",
              "\n",
              "  @keyframes spin {\n",
              "    0% {\n",
              "      border-color: transparent;\n",
              "      border-bottom-color: var(--fill-color);\n",
              "      border-left-color: var(--fill-color);\n",
              "    }\n",
              "    20% {\n",
              "      border-color: transparent;\n",
              "      border-left-color: var(--fill-color);\n",
              "      border-top-color: var(--fill-color);\n",
              "    }\n",
              "    30% {\n",
              "      border-color: transparent;\n",
              "      border-left-color: var(--fill-color);\n",
              "      border-top-color: var(--fill-color);\n",
              "      border-right-color: var(--fill-color);\n",
              "    }\n",
              "    40% {\n",
              "      border-color: transparent;\n",
              "      border-right-color: var(--fill-color);\n",
              "      border-top-color: var(--fill-color);\n",
              "    }\n",
              "    60% {\n",
              "      border-color: transparent;\n",
              "      border-right-color: var(--fill-color);\n",
              "    }\n",
              "    80% {\n",
              "      border-color: transparent;\n",
              "      border-right-color: var(--fill-color);\n",
              "      border-bottom-color: var(--fill-color);\n",
              "    }\n",
              "    90% {\n",
              "      border-color: transparent;\n",
              "      border-bottom-color: var(--fill-color);\n",
              "    }\n",
              "  }\n",
              "</style>\n",
              "\n",
              "  <script>\n",
              "    async function quickchart(key) {\n",
              "      const quickchartButtonEl =\n",
              "        document.querySelector('#' + key + ' button');\n",
              "      quickchartButtonEl.disabled = true;  // To prevent multiple clicks.\n",
              "      quickchartButtonEl.classList.add('colab-df-spinner');\n",
              "      try {\n",
              "        const charts = await google.colab.kernel.invokeFunction(\n",
              "            'suggestCharts', [key], {});\n",
              "      } catch (error) {\n",
              "        console.error('Error during call to suggestCharts:', error);\n",
              "      }\n",
              "      quickchartButtonEl.classList.remove('colab-df-spinner');\n",
              "      quickchartButtonEl.classList.add('colab-df-quickchart-complete');\n",
              "    }\n",
              "    (() => {\n",
              "      let quickchartButtonEl =\n",
              "        document.querySelector('#df-88eae78f-4c77-4380-9472-2dfb993fed39 button');\n",
              "      quickchartButtonEl.style.display =\n",
              "        google.colab.kernel.accessAllowed ? 'block' : 'none';\n",
              "    })();\n",
              "  </script>\n",
              "</div>\n",
              "\n",
              "    </div>\n",
              "  </div>\n"
            ],
            "application/vnd.google.colaboratory.intrinsic+json": {
              "type": "dataframe",
              "repr_error": "0"
            }
          },
          "metadata": {},
          "execution_count": 101
        }
      ],
      "source": [
        "df.tail()"
      ]
    },
    {
      "cell_type": "code",
      "execution_count": 102,
      "metadata": {
        "id": "MuGwQJAdrYO4"
      },
      "outputs": [],
      "source": [
        "df1=df.reset_index()['Close']"
      ]
    },
    {
      "cell_type": "code",
      "execution_count": 103,
      "metadata": {
        "id": "oofKfMZprgPJ",
        "colab": {
          "base_uri": "https://localhost:8080/",
          "height": 458
        },
        "outputId": "2b4f8c42-0ec2-4fdd-b9c9-9b333cfbabd2"
      },
      "outputs": [
        {
          "output_type": "execute_result",
          "data": {
            "text/plain": [
              "0        31.839424\n",
              "1        31.676538\n",
              "2        34.215645\n",
              "3        35.221703\n",
              "4        36.697258\n",
              "           ...    \n",
              "6426    992.099976\n",
              "6427    988.400024\n",
              "6428    974.950012\n",
              "6429    962.049988\n",
              "6430    967.000000\n",
              "Name: Close, Length: 6431, dtype: float64"
            ],
            "text/html": [
              "<div>\n",
              "<style scoped>\n",
              "    .dataframe tbody tr th:only-of-type {\n",
              "        vertical-align: middle;\n",
              "    }\n",
              "\n",
              "    .dataframe tbody tr th {\n",
              "        vertical-align: top;\n",
              "    }\n",
              "\n",
              "    .dataframe thead th {\n",
              "        text-align: right;\n",
              "    }\n",
              "</style>\n",
              "<table border=\"1\" class=\"dataframe\">\n",
              "  <thead>\n",
              "    <tr style=\"text-align: right;\">\n",
              "      <th></th>\n",
              "      <th>Close</th>\n",
              "    </tr>\n",
              "  </thead>\n",
              "  <tbody>\n",
              "    <tr>\n",
              "      <th>0</th>\n",
              "      <td>31.839424</td>\n",
              "    </tr>\n",
              "    <tr>\n",
              "      <th>1</th>\n",
              "      <td>31.676538</td>\n",
              "    </tr>\n",
              "    <tr>\n",
              "      <th>2</th>\n",
              "      <td>34.215645</td>\n",
              "    </tr>\n",
              "    <tr>\n",
              "      <th>3</th>\n",
              "      <td>35.221703</td>\n",
              "    </tr>\n",
              "    <tr>\n",
              "      <th>4</th>\n",
              "      <td>36.697258</td>\n",
              "    </tr>\n",
              "    <tr>\n",
              "      <th>...</th>\n",
              "      <td>...</td>\n",
              "    </tr>\n",
              "    <tr>\n",
              "      <th>6426</th>\n",
              "      <td>992.099976</td>\n",
              "    </tr>\n",
              "    <tr>\n",
              "      <th>6427</th>\n",
              "      <td>988.400024</td>\n",
              "    </tr>\n",
              "    <tr>\n",
              "      <th>6428</th>\n",
              "      <td>974.950012</td>\n",
              "    </tr>\n",
              "    <tr>\n",
              "      <th>6429</th>\n",
              "      <td>962.049988</td>\n",
              "    </tr>\n",
              "    <tr>\n",
              "      <th>6430</th>\n",
              "      <td>967.000000</td>\n",
              "    </tr>\n",
              "  </tbody>\n",
              "</table>\n",
              "<p>6431 rows × 1 columns</p>\n",
              "</div><br><label><b>dtype:</b> float64</label>"
            ]
          },
          "metadata": {},
          "execution_count": 103
        }
      ],
      "source": [
        "df1"
      ]
    },
    {
      "cell_type": "code",
      "execution_count": 104,
      "metadata": {
        "id": "MUOOSmuNrt34",
        "colab": {
          "base_uri": "https://localhost:8080/",
          "height": 447
        },
        "outputId": "80a4b9a4-d398-47a0-d386-317d6b95293f"
      },
      "outputs": [
        {
          "output_type": "execute_result",
          "data": {
            "text/plain": [
              "[<matplotlib.lines.Line2D at 0x7d6eb02b67a0>]"
            ]
          },
          "metadata": {},
          "execution_count": 104
        },
        {
          "output_type": "display_data",
          "data": {
            "text/plain": [
              "<Figure size 640x480 with 1 Axes>"
            ],
            "image/png": "[encoded data removed]"
          },
          "metadata": {}
        }
      ],
      "source": [
        "import matplotlib.pyplot as plt\n",
        "plt.plot(df1)"
      ]
    },
    {
      "cell_type": "code",
      "execution_count": 17,
      "metadata": {
        "id": "6uiqhSifrxYx"
      },
      "outputs": [],
      "source": [
        "import numpy as np"
      ]
    },
    {
      "cell_type": "code",
      "execution_count": 105,
      "metadata": {
        "id": "92jgnLghrzyc",
        "colab": {
          "base_uri": "https://localhost:8080/",
          "height": 458
        },
        "outputId": "417b0267-2aa8-4f18-ef1d-65299e4fb954"
      },
      "outputs": [
        {
          "output_type": "execute_result",
          "data": {
            "text/plain": [
              "0        31.839424\n",
              "1        31.676538\n",
              "2        34.215645\n",
              "3        35.221703\n",
              "4        36.697258\n",
              "           ...    \n",
              "6426    992.099976\n",
              "6427    988.400024\n",
              "6428    974.950012\n",
              "6429    962.049988\n",
              "6430    967.000000\n",
              "Name: Close, Length: 6431, dtype: float64"
            ],
            "text/html": [
              "<div>\n",
              "<style scoped>\n",
              "    .dataframe tbody tr th:only-of-type {\n",
              "        vertical-align: middle;\n",
              "    }\n",
              "\n",
              "    .dataframe tbody tr th {\n",
              "        vertical-align: top;\n",
              "    }\n",
              "\n",
              "    .dataframe thead th {\n",
              "        text-align: right;\n",
              "    }\n",
              "</style>\n",
              "<table border=\"1\" class=\"dataframe\">\n",
              "  <thead>\n",
              "    <tr style=\"text-align: right;\">\n",
              "      <th></th>\n",
              "      <th>Close</th>\n",
              "    </tr>\n",
              "  </thead>\n",
              "  <tbody>\n",
              "    <tr>\n",
              "      <th>0</th>\n",
              "      <td>31.839424</td>\n",
              "    </tr>\n",
              "    <tr>\n",
              "      <th>1</th>\n",
              "      <td>31.676538</td>\n",
              "    </tr>\n",
              "    <tr>\n",
              "      <th>2</th>\n",
              "      <td>34.215645</td>\n",
              "    </tr>\n",
              "    <tr>\n",
              "      <th>3</th>\n",
              "      <td>35.221703</td>\n",
              "    </tr>\n",
              "    <tr>\n",
              "      <th>4</th>\n",
              "      <td>36.697258</td>\n",
              "    </tr>\n",
              "    <tr>\n",
              "      <th>...</th>\n",
              "      <td>...</td>\n",
              "    </tr>\n",
              "    <tr>\n",
              "      <th>6426</th>\n",
              "      <td>992.099976</td>\n",
              "    </tr>\n",
              "    <tr>\n",
              "      <th>6427</th>\n",
              "      <td>988.400024</td>\n",
              "    </tr>\n",
              "    <tr>\n",
              "      <th>6428</th>\n",
              "      <td>974.950012</td>\n",
              "    </tr>\n",
              "    <tr>\n",
              "      <th>6429</th>\n",
              "      <td>962.049988</td>\n",
              "    </tr>\n",
              "    <tr>\n",
              "      <th>6430</th>\n",
              "      <td>967.000000</td>\n",
              "    </tr>\n",
              "  </tbody>\n",
              "</table>\n",
              "<p>6431 rows × 1 columns</p>\n",
              "</div><br><label><b>dtype:</b> float64</label>"
            ]
          },
          "metadata": {},
          "execution_count": 105
        }
      ],
      "source": [
        "df1"
      ]
    },
    {
      "cell_type": "code",
      "execution_count": 106,
      "metadata": {
        "id": "v-gPriP-r3ML"
      },
      "outputs": [],
      "source": [
        "from sklearn.preprocessing import MinMaxScaler\n",
        "scaler=MinMaxScaler(feature_range=(0,1))\n",
        "df1=scaler.fit_transform(np.array(df1).reshape(-1,1))"
      ]
    },
    {
      "cell_type": "code",
      "execution_count": 107,
      "metadata": {
        "id": "mvE8mmSbr_qo",
        "colab": {
          "base_uri": "https://localhost:8080/"
        },
        "outputId": "499acddc-dfae-4e77-cb17-d3986fc32523"
      },
      "outputs": [
        {
          "output_type": "stream",
          "name": "stdout",
          "text": [
            "[[0.01787925]\n",
            " [0.01773768]\n",
            " [0.01994448]\n",
            " ...\n",
            " [0.83756051]\n",
            " [0.82634878]\n",
            " [0.83065096]]\n"
          ]
        }
      ],
      "source": [
        "print(df1)"
      ]
    },
    {
      "cell_type": "code",
      "execution_count": 108,
      "metadata": {
        "id": "GiN5lNPtsDGx"
      },
      "outputs": [],
      "source": [
        "##splitting dataset into train and test split\n",
        "training_size=int(len(df1)*0.65)\n",
        "test_size=len(df1)-training_size\n",
        "train_data,test_data=df1[0:training_size,:],df1[training_size:len(df1),:1]"
      ]
    },
    {
      "cell_type": "code",
      "execution_count": 109,
      "metadata": {
        "id": "ZWS8r1kPsHpZ",
        "colab": {
          "base_uri": "https://localhost:8080/"
        },
        "outputId": "36d16d0b-e69a-48ce-ec9e-7e5d8fe83370"
      },
      "outputs": [
        {
          "output_type": "execute_result",
          "data": {
            "text/plain": [
              "(4180, 2251)"
            ]
          },
          "metadata": {},
          "execution_count": 109
        }
      ],
      "source": [
        "training_size,test_size"
      ]
    },
    {
      "cell_type": "code",
      "execution_count": 110,
      "metadata": {
        "id": "WLwxGZyrsMaQ",
        "colab": {
          "base_uri": "https://localhost:8080/"
        },
        "outputId": "c439d61c-ddad-466f-8142-dda936a857c0"
      },
      "outputs": [
        {
          "output_type": "execute_result",
          "data": {
            "text/plain": [
              "array([[0.01787925],\n",
              "       [0.01773768],\n",
              "       [0.01994448],\n",
              "       ...,\n",
              "       [0.32382055],\n",
              "       [0.32760125],\n",
              "       [0.32112626]])"
            ]
          },
          "metadata": {},
          "execution_count": 110
        }
      ],
      "source": [
        "train_data"
      ]
    },
    {
      "cell_type": "code",
      "execution_count": 111,
      "metadata": {
        "id": "wY7KmDCDsOF-"
      },
      "outputs": [],
      "source": [
        "import numpy\n",
        "# convert an array of values into a dataset matrix\n",
        "def create_dataset(dataset, time_step=1):\n",
        "\tdataX, dataY = [], []\n",
        "\tfor i in range(len(dataset)-time_step-1):\n",
        "\t\ta = dataset[i:(i+time_step), 0]   ###i=0, 0,1,2,3-----99   100\n",
        "\t\tdataX.append(a)\n",
        "\t\tdataY.append(dataset[i + time_step, 0])\n",
        "\treturn numpy.array(dataX), numpy.array(dataY)"
      ]
    },
    {
      "cell_type": "code",
      "execution_count": 112,
      "metadata": {
        "id": "v8kby92fsy16"
      },
      "outputs": [],
      "source": [
        "# reshape into X=t,t+1,t+2,t+3 and Y=t+4\n",
        "time_step = 100\n",
        "X_train, y_train = create_dataset(train_data, time_step)\n",
        "X_test, ytest = create_dataset(test_data, time_step)"
      ]
    },
    {
      "cell_type": "code",
      "execution_count": 113,
      "metadata": {
        "id": "zWFG1GaHs25r",
        "colab": {
          "base_uri": "https://localhost:8080/"
        },
        "outputId": "4d9c600f-5909-4322-e2da-2d6961b6a94b"
      },
      "outputs": [
        {
          "output_type": "stream",
          "name": "stdout",
          "text": [
            "(4079, 100)\n",
            "(4079,)\n"
          ]
        },
        {
          "output_type": "execute_result",
          "data": {
            "text/plain": [
              "(None, None)"
            ]
          },
          "metadata": {},
          "execution_count": 113
        }
      ],
      "source": [
        "print(X_train.shape), print(y_train.shape)"
      ]
    },
    {
      "cell_type": "code",
      "execution_count": 114,
      "metadata": {
        "id": "kV8ft8Uas4lz",
        "colab": {
          "base_uri": "https://localhost:8080/"
        },
        "outputId": "74ded78f-144a-4a10-fe0e-b84414c741b2"
      },
      "outputs": [
        {
          "output_type": "stream",
          "name": "stdout",
          "text": [
            "(2150, 100)\n",
            "(2150,)\n"
          ]
        },
        {
          "output_type": "execute_result",
          "data": {
            "text/plain": [
              "(None, None)"
            ]
          },
          "metadata": {},
          "execution_count": 114
        }
      ],
      "source": [
        "print(X_test.shape), print(ytest.shape)"
      ]
    },
    {
      "cell_type": "code",
      "execution_count": 115,
      "metadata": {
        "id": "Y6wce5sPs8xa"
      },
      "outputs": [],
      "source": [
        "# reshape input to be [samples, time steps, features] which is required for LSTM\n",
        "X_train =X_train.reshape(X_train.shape[0],X_train.shape[1] , 1)\n",
        "X_test = X_test.reshape(X_test.shape[0],X_test.shape[1] , 1)"
      ]
    },
    {
      "cell_type": "code",
      "execution_count": 116,
      "metadata": {
        "id": "ubN-ew-Ds98a"
      },
      "outputs": [],
      "source": [
        "### Create the Stacked LSTM model\n",
        "from tensorflow.keras.models import Sequential\n",
        "from tensorflow.keras.layers import Dense\n",
        "from tensorflow.keras.layers import LSTM"
      ]
    },
    {
      "cell_type": "code",
      "execution_count": 30,
      "metadata": {
        "id": "EmxNfSQf_MfK"
      },
      "outputs": [],
      "source": [
        "# from keras.layers import BatchNormalization\n",
        "\n",
        "# model = Sequential()\n",
        "# model.add(LSTM(50, return_sequences=True, input_shape=(100, 1)))\n",
        "# model.add(BatchNormalization())  # Add batch normalization\n",
        "# model.add(LSTM(50, return_sequences=True))\n",
        "# model.add(BatchNormalization())\n",
        "# model.add(LSTM(50))\n",
        "# model.add(Dense(1))\n",
        "# model.compile(loss='mean_squared_error', optimizer='adam')\n"
      ]
    },
    {
      "cell_type": "code",
      "execution_count": 117,
      "metadata": {
        "id": "ONIgGpGWtBa_"
      },
      "outputs": [],
      "source": [
        "model=Sequential()\n",
        "model.add(LSTM(50,return_sequences=True,input_shape=(100,1)))\n",
        "model.add(LSTM(50,return_sequences=True))\n",
        "model.add(LSTM(50))\n",
        "model.add(Dense(1))\n",
        "model.compile(loss='mean_squared_error',optimizer='adam')"
      ]
    },
    {
      "cell_type": "code",
      "execution_count": 118,
      "metadata": {
        "id": "5QK2DQHu_iSY",
        "colab": {
          "base_uri": "https://localhost:8080/"
        },
        "outputId": "50b0bf8e-f769-418f-83fd-761a0ac80138"
      },
      "outputs": [
        {
          "output_type": "stream",
          "name": "stdout",
          "text": [
            "2.15.0\n"
          ]
        }
      ],
      "source": [
        "import tensorflow as tf\n",
        "print(tf.__version__)"
      ]
    },
    {
      "cell_type": "code",
      "execution_count": 119,
      "metadata": {
        "id": "QdCsq5pctFfr",
        "colab": {
          "base_uri": "https://localhost:8080/"
        },
        "outputId": "c1312a87-a62f-4f12-c36d-a6457fadccfb"
      },
      "outputs": [
        {
          "output_type": "stream",
          "name": "stdout",
          "text": [
            "Model: \"sequential_3\"\n",
            "_________________________________________________________________\n",
            " Layer (type)                Output Shape              Param #   \n",
            "=================================================================\n",
            " lstm_9 (LSTM)               (None, 100, 50)           10400     \n",
            "                                                                 \n",
            " lstm_10 (LSTM)              (None, 100, 50)           20200     \n",
            "                                                                 \n",
            " lstm_11 (LSTM)              (None, 50)                20200     \n",
            "                                                                 \n",
            " dense_3 (Dense)             (None, 1)                 51        \n",
            "                                                                 \n",
            "=================================================================\n",
            "Total params: 50851 (198.64 KB)\n",
            "Trainable params: 50851 (198.64 KB)\n",
            "Non-trainable params: 0 (0.00 Byte)\n",
            "_________________________________________________________________\n"
          ]
        }
      ],
      "source": [
        "model.summary()"
      ]
    },
    {
      "cell_type": "code",
      "execution_count": 120,
      "metadata": {
        "colab": {
          "base_uri": "https://localhost:8080/"
        },
        "id": "sbUkgZqqABnp",
        "outputId": "6776790b-f331-4dc9-b34a-d73070937f2c"
      },
      "outputs": [
        {
          "output_type": "stream",
          "name": "stdout",
          "text": [
            "Epoch 1/100\n",
            "64/64 [==============================] - 15s 163ms/step - loss: 0.0013 - val_loss: 0.0017\n",
            "Epoch 2/100\n",
            "64/64 [==============================] - 9s 146ms/step - loss: 1.2047e-04 - val_loss: 0.0011\n",
            "Epoch 3/100\n",
            "64/64 [==============================] - 10s 156ms/step - loss: 1.1104e-04 - val_loss: 9.6850e-04\n",
            "Epoch 4/100\n",
            "64/64 [==============================] - 10s 150ms/step - loss: 1.0266e-04 - val_loss: 0.0010\n",
            "Epoch 5/100\n",
            "64/64 [==============================] - 10s 155ms/step - loss: 1.0124e-04 - val_loss: 0.0013\n",
            "Epoch 6/100\n",
            "64/64 [==============================] - 10s 150ms/step - loss: 1.1935e-04 - val_loss: 8.4508e-04\n",
            "Epoch 7/100\n",
            "64/64 [==============================] - 10s 155ms/step - loss: 1.0295e-04 - val_loss: 8.5252e-04\n",
            "Epoch 8/100\n",
            "64/64 [==============================] - 10s 154ms/step - loss: 8.9545e-05 - val_loss: 8.2486e-04\n",
            "Epoch 9/100\n",
            "64/64 [==============================] - 10s 152ms/step - loss: 9.1915e-05 - val_loss: 6.2964e-04\n",
            "Epoch 10/100\n",
            "64/64 [==============================] - 10s 157ms/step - loss: 8.3922e-05 - val_loss: 5.1407e-04\n",
            "Epoch 11/100\n",
            "64/64 [==============================] - 10s 150ms/step - loss: 7.6032e-05 - val_loss: 5.3421e-04\n",
            "Epoch 12/100\n",
            "64/64 [==============================] - 10s 154ms/step - loss: 8.1026e-05 - val_loss: 4.6092e-04\n",
            "Epoch 13/100\n",
            "64/64 [==============================] - 9s 140ms/step - loss: 7.4404e-05 - val_loss: 4.3368e-04\n",
            "Epoch 14/100\n",
            "64/64 [==============================] - 10s 153ms/step - loss: 7.1573e-05 - val_loss: 4.9655e-04\n",
            "Epoch 15/100\n",
            "64/64 [==============================] - 10s 153ms/step - loss: 6.7878e-05 - val_loss: 5.7590e-04\n",
            "Epoch 16/100\n",
            "64/64 [==============================] - 9s 148ms/step - loss: 6.9852e-05 - val_loss: 3.8745e-04\n",
            "Epoch 17/100\n",
            "64/64 [==============================] - 10s 156ms/step - loss: 6.9944e-05 - val_loss: 4.5949e-04\n",
            "Epoch 18/100\n",
            "64/64 [==============================] - 10s 149ms/step - loss: 6.3828e-05 - val_loss: 3.7259e-04\n",
            "Epoch 19/100\n",
            "64/64 [==============================] - 10s 150ms/step - loss: 5.8561e-05 - val_loss: 3.7264e-04\n",
            "Epoch 20/100\n",
            "64/64 [==============================] - 9s 141ms/step - loss: 6.0017e-05 - val_loss: 4.7630e-04\n",
            "Epoch 21/100\n",
            "64/64 [==============================] - 10s 153ms/step - loss: 5.7638e-05 - val_loss: 5.7370e-04\n",
            "Epoch 22/100\n",
            "64/64 [==============================] - 10s 155ms/step - loss: 5.2400e-05 - val_loss: 6.2054e-04\n",
            "Epoch 23/100\n",
            "64/64 [==============================] - 9s 149ms/step - loss: 5.6965e-05 - val_loss: 4.2620e-04\n",
            "Epoch 24/100\n",
            "64/64 [==============================] - 9s 147ms/step - loss: 5.2815e-05 - val_loss: 6.1572e-04\n",
            "Epoch 25/100\n",
            "64/64 [==============================] - 10s 154ms/step - loss: 4.6468e-05 - val_loss: 3.0825e-04\n",
            "Epoch 26/100\n",
            "64/64 [==============================] - 10s 159ms/step - loss: 4.6633e-05 - val_loss: 2.7190e-04\n",
            "Epoch 27/100\n",
            "64/64 [==============================] - 9s 144ms/step - loss: 4.6206e-05 - val_loss: 2.6268e-04\n",
            "Epoch 28/100\n",
            "64/64 [==============================] - 10s 155ms/step - loss: 4.6271e-05 - val_loss: 2.7933e-04\n",
            "Epoch 29/100\n",
            "64/64 [==============================] - 10s 153ms/step - loss: 4.2122e-05 - val_loss: 2.4322e-04\n",
            "Epoch 30/100\n",
            "64/64 [==============================] - 10s 150ms/step - loss: 5.1587e-05 - val_loss: 1.9194e-04\n",
            "Epoch 31/100\n",
            "64/64 [==============================] - 9s 144ms/step - loss: 3.9401e-05 - val_loss: 2.4092e-04\n",
            "Epoch 32/100\n",
            "64/64 [==============================] - 9s 140ms/step - loss: 4.0702e-05 - val_loss: 2.6563e-04\n",
            "Epoch 33/100\n",
            "64/64 [==============================] - 10s 153ms/step - loss: 3.8751e-05 - val_loss: 3.5156e-04\n",
            "Epoch 34/100\n",
            "64/64 [==============================] - 9s 136ms/step - loss: 5.4738e-05 - val_loss: 1.9348e-04\n",
            "Epoch 35/100\n",
            "64/64 [==============================] - 10s 150ms/step - loss: 3.6404e-05 - val_loss: 1.9363e-04\n",
            "Epoch 36/100\n",
            "64/64 [==============================] - 9s 141ms/step - loss: 3.7076e-05 - val_loss: 3.8922e-04\n",
            "Epoch 37/100\n",
            "64/64 [==============================] - 10s 152ms/step - loss: 3.5819e-05 - val_loss: 2.6968e-04\n",
            "Epoch 38/100\n",
            "64/64 [==============================] - 10s 150ms/step - loss: 3.4639e-05 - val_loss: 1.4659e-04\n",
            "Epoch 39/100\n",
            "64/64 [==============================] - 10s 153ms/step - loss: 3.7937e-05 - val_loss: 3.7000e-04\n",
            "Epoch 40/100\n",
            "64/64 [==============================] - 10s 149ms/step - loss: 3.6404e-05 - val_loss: 3.3198e-04\n",
            "Epoch 41/100\n",
            "64/64 [==============================] - 10s 156ms/step - loss: 3.1501e-05 - val_loss: 1.8109e-04\n",
            "Epoch 42/100\n",
            "64/64 [==============================] - 10s 154ms/step - loss: 2.8931e-05 - val_loss: 1.6297e-04\n",
            "Epoch 43/100\n",
            "64/64 [==============================] - 10s 157ms/step - loss: 3.1885e-05 - val_loss: 2.0715e-04\n",
            "Epoch 44/100\n",
            "64/64 [==============================] - 10s 156ms/step - loss: 3.4794e-05 - val_loss: 3.5303e-04\n",
            "Epoch 45/100\n",
            "64/64 [==============================] - 10s 153ms/step - loss: 2.9597e-05 - val_loss: 1.6256e-04\n",
            "Epoch 46/100\n",
            "64/64 [==============================] - 10s 149ms/step - loss: 3.0104e-05 - val_loss: 3.1806e-04\n",
            "Epoch 47/100\n",
            "64/64 [==============================] - 10s 150ms/step - loss: 3.1293e-05 - val_loss: 1.5462e-04\n",
            "Epoch 48/100\n",
            "64/64 [==============================] - 10s 151ms/step - loss: 3.3468e-05 - val_loss: 1.5287e-04\n",
            "Epoch 49/100\n",
            "64/64 [==============================] - 10s 154ms/step - loss: 2.9924e-05 - val_loss: 2.0136e-04\n",
            "Epoch 50/100\n",
            "64/64 [==============================] - 10s 151ms/step - loss: 2.5769e-05 - val_loss: 1.4571e-04\n",
            "Epoch 51/100\n",
            "64/64 [==============================] - 9s 147ms/step - loss: 2.3242e-05 - val_loss: 1.6360e-04\n",
            "Epoch 52/100\n",
            "64/64 [==============================] - 10s 156ms/step - loss: 2.4068e-05 - val_loss: 1.1408e-04\n",
            "Epoch 53/100\n",
            "64/64 [==============================] - 9s 135ms/step - loss: 2.5305e-05 - val_loss: 1.0784e-04\n",
            "Epoch 54/100\n",
            "64/64 [==============================] - 8s 130ms/step - loss: 2.2354e-05 - val_loss: 9.8028e-05\n",
            "Epoch 55/100\n",
            "64/64 [==============================] - 8s 132ms/step - loss: 3.2424e-05 - val_loss: 3.3505e-04\n",
            "Epoch 56/100\n",
            "64/64 [==============================] - 8s 130ms/step - loss: 2.4430e-05 - val_loss: 1.2087e-04\n",
            "Epoch 57/100\n",
            "64/64 [==============================] - 8s 132ms/step - loss: 2.4647e-05 - val_loss: 9.5819e-05\n",
            "Epoch 58/100\n",
            "64/64 [==============================] - 9s 134ms/step - loss: 2.3460e-05 - val_loss: 2.5632e-04\n",
            "Epoch 59/100\n",
            "64/64 [==============================] - 9s 141ms/step - loss: 2.1457e-05 - val_loss: 1.5200e-04\n",
            "Epoch 60/100\n",
            "64/64 [==============================] - 9s 135ms/step - loss: 1.9296e-05 - val_loss: 1.5463e-04\n",
            "Epoch 61/100\n",
            "64/64 [==============================] - 9s 136ms/step - loss: 2.2229e-05 - val_loss: 1.4596e-04\n",
            "Epoch 62/100\n",
            "64/64 [==============================] - 9s 138ms/step - loss: 2.5622e-05 - val_loss: 1.0168e-04\n",
            "Epoch 63/100\n",
            "64/64 [==============================] - 9s 145ms/step - loss: 1.9446e-05 - val_loss: 1.0384e-04\n",
            "Epoch 64/100\n",
            "64/64 [==============================] - 10s 155ms/step - loss: 2.2770e-05 - val_loss: 1.7119e-04\n",
            "Epoch 65/100\n",
            "64/64 [==============================] - 9s 148ms/step - loss: 2.4783e-05 - val_loss: 1.0803e-04\n",
            "Epoch 66/100\n",
            "64/64 [==============================] - 10s 149ms/step - loss: 3.0712e-05 - val_loss: 1.0710e-04\n",
            "Epoch 67/100\n",
            "64/64 [==============================] - 10s 149ms/step - loss: 2.0286e-05 - val_loss: 9.3317e-05\n",
            "Epoch 68/100\n",
            "64/64 [==============================] - 10s 157ms/step - loss: 1.8820e-05 - val_loss: 1.6196e-04\n",
            "Epoch 69/100\n",
            "64/64 [==============================] - 10s 155ms/step - loss: 2.1272e-05 - val_loss: 1.0592e-04\n",
            "Epoch 70/100\n",
            "64/64 [==============================] - 9s 142ms/step - loss: 1.9007e-05 - val_loss: 2.0955e-04\n",
            "Epoch 71/100\n",
            "64/64 [==============================] - 9s 148ms/step - loss: 2.0093e-05 - val_loss: 1.6407e-04\n",
            "Epoch 72/100\n",
            "64/64 [==============================] - 10s 154ms/step - loss: 2.1643e-05 - val_loss: 9.9407e-05\n",
            "Epoch 73/100\n",
            "64/64 [==============================] - 10s 153ms/step - loss: 1.7432e-05 - val_loss: 1.0476e-04\n",
            "Epoch 74/100\n",
            "64/64 [==============================] - 10s 156ms/step - loss: 2.4498e-05 - val_loss: 1.2949e-04\n",
            "Epoch 75/100\n",
            "64/64 [==============================] - 10s 156ms/step - loss: 1.7921e-05 - val_loss: 1.1157e-04\n",
            "Epoch 76/100\n",
            "64/64 [==============================] - 8s 129ms/step - loss: 1.9486e-05 - val_loss: 1.0706e-04\n",
            "Epoch 77/100\n",
            "64/64 [==============================] - 10s 154ms/step - loss: 3.0875e-05 - val_loss: 2.7766e-04\n",
            "Epoch 78/100\n",
            "64/64 [==============================] - 10s 150ms/step - loss: 2.3870e-05 - val_loss: 1.3936e-04\n",
            "Epoch 79/100\n",
            "64/64 [==============================] - 10s 159ms/step - loss: 2.2542e-05 - val_loss: 1.3654e-04\n",
            "Epoch 80/100\n",
            "64/64 [==============================] - 10s 155ms/step - loss: 2.0549e-05 - val_loss: 9.4008e-05\n",
            "Epoch 81/100\n",
            "64/64 [==============================] - 10s 156ms/step - loss: 1.9724e-05 - val_loss: 1.0173e-04\n",
            "Epoch 82/100\n",
            "64/64 [==============================] - 9s 141ms/step - loss: 1.9790e-05 - val_loss: 1.6808e-04\n",
            "Epoch 83/100\n",
            "64/64 [==============================] - 9s 147ms/step - loss: 2.1929e-05 - val_loss: 2.1920e-04\n",
            "Epoch 84/100\n",
            "64/64 [==============================] - 10s 154ms/step - loss: 2.0756e-05 - val_loss: 1.4101e-04\n",
            "Epoch 85/100\n",
            "64/64 [==============================] - 9s 142ms/step - loss: 2.1422e-05 - val_loss: 1.1801e-04\n",
            "Epoch 86/100\n",
            "64/64 [==============================] - 10s 153ms/step - loss: 1.9846e-05 - val_loss: 9.2828e-05\n",
            "Epoch 87/100\n",
            "64/64 [==============================] - 10s 154ms/step - loss: 1.8524e-05 - val_loss: 1.2832e-04\n",
            "Epoch 88/100\n",
            "64/64 [==============================] - 10s 155ms/step - loss: 1.8807e-05 - val_loss: 1.1176e-04\n",
            "Epoch 89/100\n",
            "64/64 [==============================] - 10s 154ms/step - loss: 1.8458e-05 - val_loss: 8.8411e-05\n",
            "Epoch 90/100\n",
            "64/64 [==============================] - 10s 152ms/step - loss: 2.1422e-05 - val_loss: 1.3709e-04\n",
            "Epoch 91/100\n",
            "64/64 [==============================] - 10s 155ms/step - loss: 2.0583e-05 - val_loss: 8.5662e-05\n",
            "Epoch 92/100\n",
            "64/64 [==============================] - 10s 151ms/step - loss: 2.0899e-05 - val_loss: 1.3235e-04\n",
            "Epoch 93/100\n",
            "64/64 [==============================] - 10s 153ms/step - loss: 1.9385e-05 - val_loss: 9.3883e-05\n",
            "Epoch 94/100\n",
            "64/64 [==============================] - 9s 142ms/step - loss: 1.7756e-05 - val_loss: 1.0277e-04\n",
            "Epoch 95/100\n",
            "64/64 [==============================] - 9s 139ms/step - loss: 1.7109e-05 - val_loss: 9.4569e-05\n",
            "Epoch 96/100\n",
            "64/64 [==============================] - 10s 154ms/step - loss: 1.6739e-05 - val_loss: 1.6889e-04\n",
            "Epoch 97/100\n",
            "64/64 [==============================] - 10s 152ms/step - loss: 1.7995e-05 - val_loss: 9.0551e-05\n",
            "Epoch 98/100\n",
            "64/64 [==============================] - 10s 156ms/step - loss: 1.7606e-05 - val_loss: 8.9333e-05\n",
            "Epoch 99/100\n",
            "64/64 [==============================] - 10s 156ms/step - loss: 2.0894e-05 - val_loss: 1.7826e-04\n",
            "Epoch 100/100\n",
            "64/64 [==============================] - 9s 146ms/step - loss: 1.9801e-05 - val_loss: 8.3101e-05\n"
          ]
        },
        {
          "output_type": "execute_result",
          "data": {
            "text/plain": [
              "<keras.src.callbacks.History at 0x7d70206ff490>"
            ]
          },
          "metadata": {},
          "execution_count": 120
        }
      ],
      "source": [
        "model.fit(X_train,y_train,validation_data=(X_test,ytest),epochs=100,batch_size=64,verbose=1)"
      ]
    },
    {
      "cell_type": "code",
      "execution_count": 121,
      "metadata": {
        "id": "B5p3g6Zt2lfM"
      },
      "outputs": [],
      "source": [
        "import tensorflow as tf"
      ]
    },
    {
      "cell_type": "code",
      "execution_count": 122,
      "metadata": {
        "id": "PMHcAzZy2oMf",
        "colab": {
          "base_uri": "https://localhost:8080/",
          "height": 35
        },
        "outputId": "b0bd2f7a-fa75-439a-9e14-80cc255bad31"
      },
      "outputs": [
        {
          "output_type": "execute_result",
          "data": {
            "text/plain": [
              "'2.15.0'"
            ],
            "application/vnd.google.colaboratory.intrinsic+json": {
              "type": "string"
            }
          },
          "metadata": {},
          "execution_count": 122
        }
      ],
      "source": [
        "tf.__version__"
      ]
    },
    {
      "cell_type": "code",
      "execution_count": 123,
      "metadata": {
        "id": "MoCU_aXv2pzK",
        "colab": {
          "base_uri": "https://localhost:8080/"
        },
        "outputId": "10e4beed-5fd7-4edb-ec57-3163c7b35d46"
      },
      "outputs": [
        {
          "output_type": "stream",
          "name": "stdout",
          "text": [
            "128/128 [==============================] - 5s 31ms/step\n",
            "68/68 [==============================] - 2s 31ms/step\n"
          ]
        }
      ],
      "source": [
        "### Lets Do the prediction and check performance metrics\n",
        "train_predict=model.predict(X_train)\n",
        "test_predict=model.predict(X_test)"
      ]
    },
    {
      "cell_type": "code",
      "execution_count": 124,
      "metadata": {
        "id": "DMng7S542rtC"
      },
      "outputs": [],
      "source": [
        "##Transformback to original form\n",
        "train_predict=scaler.inverse_transform(train_predict)\n",
        "test_predict=scaler.inverse_transform(test_predict)"
      ]
    },
    {
      "cell_type": "code",
      "execution_count": 125,
      "metadata": {
        "id": "H6Y1onez2tk7",
        "colab": {
          "base_uri": "https://localhost:8080/"
        },
        "outputId": "8e64929c-f9a2-4dad-98fc-c8a2015c16d7"
      },
      "outputs": [
        {
          "output_type": "execute_result",
          "data": {
            "text/plain": [
              "203.94459559696392"
            ]
          },
          "metadata": {},
          "execution_count": 125
        }
      ],
      "source": [
        "### Calculate RMSE performance metrics\n",
        "import math\n",
        "from sklearn.metrics import mean_squared_error\n",
        "math.sqrt(mean_squared_error(y_train,train_predict))"
      ]
    },
    {
      "cell_type": "code",
      "execution_count": 126,
      "metadata": {
        "id": "eR0QsJsj2v2P",
        "colab": {
          "base_uri": "https://localhost:8080/"
        },
        "outputId": "44f4400c-755c-4dc6-cf82-793dda6dac18"
      },
      "outputs": [
        {
          "output_type": "execute_result",
          "data": {
            "text/plain": [
              "460.70003015526714"
            ]
          },
          "metadata": {},
          "execution_count": 126
        }
      ],
      "source": [
        "### Test Data RMSE\n",
        "math.sqrt(mean_squared_error(ytest,test_predict))"
      ]
    },
    {
      "cell_type": "code",
      "execution_count": 127,
      "metadata": {
        "id": "zXOoXLcM2xab",
        "colab": {
          "base_uri": "https://localhost:8080/",
          "height": 430
        },
        "outputId": "baff7fb3-aa94-4929-a628-388528a8563d"
      },
      "outputs": [
        {
          "output_type": "display_data",
          "data": {
            "text/plain": [
              "<Figure size 640x480 with 1 Axes>"
            ],
            "image/png": "[encoded data removed]"
          },
          "metadata": {}
        }
      ],
      "source": [
        "### Plotting\n",
        "# shift train predictions for plotting\n",
        "look_back=100\n",
        "trainPredictPlot = numpy.empty_like(df1)\n",
        "trainPredictPlot[:, :] = np.nan\n",
        "trainPredictPlot[look_back:len(train_predict)+look_back, :] = train_predict\n",
        "# shift test predictions for plotting\n",
        "testPredictPlot = numpy.empty_like(df1)\n",
        "testPredictPlot[:, :] = numpy.nan\n",
        "testPredictPlot[len(train_predict)+(look_back*2)+1:len(df1)-1, :] = test_predict\n",
        "# plot baseline and predictions\n",
        "plt.plot(scaler.inverse_transform(df1))\n",
        "plt.plot(trainPredictPlot)\n",
        "plt.plot(testPredictPlot)\n",
        "plt.show()"
      ]
    },
    {
      "cell_type": "code",
      "execution_count": 128,
      "metadata": {
        "id": "qBtob5OX2zZC",
        "colab": {
          "base_uri": "https://localhost:8080/"
        },
        "outputId": "ba911828-7ac6-46eb-fff3-69e494029c9d"
      },
      "outputs": [
        {
          "output_type": "execute_result",
          "data": {
            "text/plain": [
              "2251"
            ]
          },
          "metadata": {},
          "execution_count": 128
        }
      ],
      "source": [
        "len(test_data)"
      ]
    },
    {
      "cell_type": "code",
      "execution_count": 129,
      "metadata": {
        "id": "RT2w88T721j2",
        "colab": {
          "base_uri": "https://localhost:8080/"
        },
        "outputId": "8ee7de2d-ce9d-4f4c-f332-ee390bd05ada"
      },
      "outputs": [
        {
          "output_type": "execute_result",
          "data": {
            "text/plain": [
              "(1, 100)"
            ]
          },
          "metadata": {},
          "execution_count": 129
        }
      ],
      "source": [
        "x_input=test_data[2151:].reshape(1,-1)\n",
        "x_input.shape"
      ]
    },
    {
      "cell_type": "code",
      "execution_count": 130,
      "metadata": {
        "id": "XEnSDOeD23P6"
      },
      "outputs": [],
      "source": [
        "temp_input=list(x_input)\n",
        "temp_input=temp_input[0].tolist()"
      ]
    },
    {
      "cell_type": "code",
      "execution_count": 131,
      "metadata": {
        "id": "l7ZU7P5G25Lr",
        "colab": {
          "base_uri": "https://localhost:8080/"
        },
        "outputId": "55fea384-de9f-437a-f9d5-6c380acc00c8"
      },
      "outputs": [
        {
          "output_type": "execute_result",
          "data": {
            "text/plain": [
              "[0.8588975302138874,\n",
              " 0.8598535468151838,\n",
              " 0.8661982038777428,\n",
              " 0.8834938183888879,\n",
              " 0.8709783929786203,\n",
              " 0.873411933184173,\n",
              " 0.8493805976672463,\n",
              " 0.8698484876624729,\n",
              " 0.8856666316165595,\n",
              " 0.8998768089066523,\n",
              " 0.8243497998939093,\n",
              " 0.8286085350390248,\n",
              " 0.8135291794106654,\n",
              " 0.804055745566336,\n",
              " 0.8121386001638348,\n",
              " 0.8170056805749398,\n",
              " 0.8137030150783187,\n",
              " 0.8266095044318087,\n",
              " 0.8250450895173247,\n",
              " 0.8232633932800736,\n",
              " 0.8137464607334325,\n",
              " 0.810313405224272,\n",
              " 0.793235125083092,\n",
              " 0.7924094454471373,\n",
              " 0.8162669452964108,\n",
              " 0.7758091736066055,\n",
              " 0.7984498768295039,\n",
              " 0.8056636061359338,\n",
              " 0.8336928967728972,\n",
              " 0.8377343505952453,\n",
              " 0.8481203553857573,\n",
              " 0.8495109876797857,\n",
              " 0.8470339487719215,\n",
              " 0.8535958871572478,\n",
              " 0.8470774474742331,\n",
              " 0.8396463837978382,\n",
              " 0.8404286177786789,\n",
              " 0.8261314961311604,\n",
              " 0.8228722762896531,\n",
              " 0.8202214547613333,\n",
              " 0.8174836888755881,\n",
              " 0.8350834760197279,\n",
              " 0.8504235586259682,\n",
              " 0.8611137890966727,\n",
              " 0.8430794393069987,\n",
              " 0.8381689132407796,\n",
              " 0.8577676779449377,\n",
              " 0.8538131684800149,\n",
              " 0.861591797397321,\n",
              " 0.8723255265703372,\n",
              " 0.8641122819602991,\n",
              " 0.8774098883042095,\n",
              " 0.8738899414848211,\n",
              " 0.8805821637882912,\n",
              " 0.8777141139844022,\n",
              " 0.8806691611929148,\n",
              " 0.8506408399487354,\n",
              " 0.8620698587451668,\n",
              " 0.8608965077739056,\n",
              " 0.8834068209842643,\n",
              " 0.938378995644355,\n",
              " 0.9621496572305988,\n",
              " 0.9671036289519316,\n",
              " 1.0,\n",
              " 0.9954805909242015,\n",
              " 0.9848338061086107,\n",
              " 0.9433330734600838,\n",
              " 0.8736292145069402,\n",
              " 0.8712825656116153,\n",
              " 0.8813210051612163,\n",
              " 0.8956180737615369,\n",
              " 0.9185195039623161,\n",
              " 0.9255160049931769,\n",
              " 0.9057867972292815,\n",
              " 0.9135220335386715,\n",
              " 0.944810544017142,\n",
              " 0.935554338448382,\n",
              " 0.9348591018721646,\n",
              " 0.9333815252207104,\n",
              " 0.9188236765953108,\n",
              " 0.9333381326127945,\n",
              " 0.9396392909730421,\n",
              " 0.9264720215944732,\n",
              " 0.9241254257463463,\n",
              " 0.9650612057367994,\n",
              " 0.9561091728010342,\n",
              " 0.9398565722958092,\n",
              " 0.9332946339104827,\n",
              " 0.9292531800881344,\n",
              " 0.9194321279556964,\n",
              " 0.9022234047547792,\n",
              " 0.8929671991860192,\n",
              " 0.8904468207174369,\n",
              " 0.8387338128516556,\n",
              " 0.8472947287970002,\n",
              " 0.8524659818411005,\n",
              " 0.8492502607019047,\n",
              " 0.8375605149275921,\n",
              " 0.8263487774539277,\n",
              " 0.8306509582541569]"
            ]
          },
          "metadata": {},
          "execution_count": 131
        }
      ],
      "source": [
        "temp_input"
      ]
    },
    {
      "cell_type": "code",
      "execution_count": 132,
      "metadata": {
        "id": "cv1slXaT261T",
        "colab": {
          "base_uri": "https://localhost:8080/"
        },
        "outputId": "dc5e84df-3e58-42ca-8e65-2c0a113456ab"
      },
      "outputs": [
        {
          "output_type": "stream",
          "name": "stdout",
          "text": [
            "[0.8257493]\n",
            "101\n",
            "1 day input [0.85985355 0.8661982  0.88349382 0.87097839 0.87341193 0.8493806\n",
            " 0.86984849 0.88566663 0.89987681 0.8243498  0.82860854 0.81352918\n",
            " 0.80405575 0.8121386  0.81700568 0.81370302 0.8266095  0.82504509\n",
            " 0.82326339 0.81374646 0.81031341 0.79323513 0.79240945 0.81626695\n",
            " 0.77580917 0.79844988 0.80566361 0.8336929  0.83773435 0.84812036\n",
            " 0.84951099 0.84703395 0.85359589 0.84707745 0.83964638 0.84042862\n",
            " 0.8261315  0.82287228 0.82022145 0.81748369 0.83508348 0.85042356\n",
            " 0.86111379 0.84307944 0.83816891 0.85776768 0.85381317 0.8615918\n",
            " 0.87232553 0.86411228 0.87740989 0.87388994 0.88058216 0.87771411\n",
            " 0.88066916 0.85064084 0.86206986 0.86089651 0.88340682 0.938379\n",
            " 0.96214966 0.96710363 1.         0.99548059 0.98483381 0.94333307\n",
            " 0.87362921 0.87128257 0.88132101 0.89561807 0.9185195  0.925516\n",
            " 0.9057868  0.91352203 0.94481054 0.93555434 0.9348591  0.93338153\n",
            " 0.91882368 0.93333813 0.93963929 0.92647202 0.92412543 0.96506121\n",
            " 0.95610917 0.93985657 0.93329463 0.92925318 0.91943213 0.9022234\n",
            " 0.8929672  0.89044682 0.83873381 0.84729473 0.85246598 0.84925026\n",
            " 0.83756051 0.82634878 0.83065096 0.82574928]\n",
            "1 day output [[0.8177735]]\n",
            "2 day input [0.8661982  0.88349382 0.87097839 0.87341193 0.8493806  0.86984849\n",
            " 0.88566663 0.89987681 0.8243498  0.82860854 0.81352918 0.80405575\n",
            " 0.8121386  0.81700568 0.81370302 0.8266095  0.82504509 0.82326339\n",
            " 0.81374646 0.81031341 0.79323513 0.79240945 0.81626695 0.77580917\n",
            " 0.79844988 0.80566361 0.8336929  0.83773435 0.84812036 0.84951099\n",
            " 0.84703395 0.85359589 0.84707745 0.83964638 0.84042862 0.8261315\n",
            " 0.82287228 0.82022145 0.81748369 0.83508348 0.85042356 0.86111379\n",
            " 0.84307944 0.83816891 0.85776768 0.85381317 0.8615918  0.87232553\n",
            " 0.86411228 0.87740989 0.87388994 0.88058216 0.87771411 0.88066916\n",
            " 0.85064084 0.86206986 0.86089651 0.88340682 0.938379   0.96214966\n",
            " 0.96710363 1.         0.99548059 0.98483381 0.94333307 0.87362921\n",
            " 0.87128257 0.88132101 0.89561807 0.9185195  0.925516   0.9057868\n",
            " 0.91352203 0.94481054 0.93555434 0.9348591  0.93338153 0.91882368\n",
            " 0.93333813 0.93963929 0.92647202 0.92412543 0.96506121 0.95610917\n",
            " 0.93985657 0.93329463 0.92925318 0.91943213 0.9022234  0.8929672\n",
            " 0.89044682 0.83873381 0.84729473 0.85246598 0.84925026 0.83756051\n",
            " 0.82634878 0.83065096 0.82574928 0.81777352]\n",
            "2 day output [[0.810303]]\n",
            "3 day input [0.88349382 0.87097839 0.87341193 0.8493806  0.86984849 0.88566663\n",
            " 0.89987681 0.8243498  0.82860854 0.81352918 0.80405575 0.8121386\n",
            " 0.81700568 0.81370302 0.8266095  0.82504509 0.82326339 0.81374646\n",
            " 0.81031341 0.79323513 0.79240945 0.81626695 0.77580917 0.79844988\n",
            " 0.80566361 0.8336929  0.83773435 0.84812036 0.84951099 0.84703395\n",
            " 0.85359589 0.84707745 0.83964638 0.84042862 0.8261315  0.82287228\n",
            " 0.82022145 0.81748369 0.83508348 0.85042356 0.86111379 0.84307944\n",
            " 0.83816891 0.85776768 0.85381317 0.8615918  0.87232553 0.86411228\n",
            " 0.87740989 0.87388994 0.88058216 0.87771411 0.88066916 0.85064084\n",
            " 0.86206986 0.86089651 0.88340682 0.938379   0.96214966 0.96710363\n",
            " 1.         0.99548059 0.98483381 0.94333307 0.87362921 0.87128257\n",
            " 0.88132101 0.89561807 0.9185195  0.925516   0.9057868  0.91352203\n",
            " 0.94481054 0.93555434 0.9348591  0.93338153 0.91882368 0.93333813\n",
            " 0.93963929 0.92647202 0.92412543 0.96506121 0.95610917 0.93985657\n",
            " 0.93329463 0.92925318 0.91943213 0.9022234  0.8929672  0.89044682\n",
            " 0.83873381 0.84729473 0.85246598 0.84925026 0.83756051 0.82634878\n",
            " 0.83065096 0.82574928 0.81777352 0.81030297]\n",
            "3 day output [[0.8036485]]\n",
            "4 day input [0.87097839 0.87341193 0.8493806  0.86984849 0.88566663 0.89987681\n",
            " 0.8243498  0.82860854 0.81352918 0.80405575 0.8121386  0.81700568\n",
            " 0.81370302 0.8266095  0.82504509 0.82326339 0.81374646 0.81031341\n",
            " 0.79323513 0.79240945 0.81626695 0.77580917 0.79844988 0.80566361\n",
            " 0.8336929  0.83773435 0.84812036 0.84951099 0.84703395 0.85359589\n",
            " 0.84707745 0.83964638 0.84042862 0.8261315  0.82287228 0.82022145\n",
            " 0.81748369 0.83508348 0.85042356 0.86111379 0.84307944 0.83816891\n",
            " 0.85776768 0.85381317 0.8615918  0.87232553 0.86411228 0.87740989\n",
            " 0.87388994 0.88058216 0.87771411 0.88066916 0.85064084 0.86206986\n",
            " 0.86089651 0.88340682 0.938379   0.96214966 0.96710363 1.\n",
            " 0.99548059 0.98483381 0.94333307 0.87362921 0.87128257 0.88132101\n",
            " 0.89561807 0.9185195  0.925516   0.9057868  0.91352203 0.94481054\n",
            " 0.93555434 0.9348591  0.93338153 0.91882368 0.93333813 0.93963929\n",
            " 0.92647202 0.92412543 0.96506121 0.95610917 0.93985657 0.93329463\n",
            " 0.92925318 0.91943213 0.9022234  0.8929672  0.89044682 0.83873381\n",
            " 0.84729473 0.85246598 0.84925026 0.83756051 0.82634878 0.83065096\n",
            " 0.82574928 0.81777352 0.81030297 0.80364847]\n",
            "4 day output [[0.7973274]]\n",
            "5 day input [0.87341193 0.8493806  0.86984849 0.88566663 0.89987681 0.8243498\n",
            " 0.82860854 0.81352918 0.80405575 0.8121386  0.81700568 0.81370302\n",
            " 0.8266095  0.82504509 0.82326339 0.81374646 0.81031341 0.79323513\n",
            " 0.79240945 0.81626695 0.77580917 0.79844988 0.80566361 0.8336929\n",
            " 0.83773435 0.84812036 0.84951099 0.84703395 0.85359589 0.84707745\n",
            " 0.83964638 0.84042862 0.8261315  0.82287228 0.82022145 0.81748369\n",
            " 0.83508348 0.85042356 0.86111379 0.84307944 0.83816891 0.85776768\n",
            " 0.85381317 0.8615918  0.87232553 0.86411228 0.87740989 0.87388994\n",
            " 0.88058216 0.87771411 0.88066916 0.85064084 0.86206986 0.86089651\n",
            " 0.88340682 0.938379   0.96214966 0.96710363 1.         0.99548059\n",
            " 0.98483381 0.94333307 0.87362921 0.87128257 0.88132101 0.89561807\n",
            " 0.9185195  0.925516   0.9057868  0.91352203 0.94481054 0.93555434\n",
            " 0.9348591  0.93338153 0.91882368 0.93333813 0.93963929 0.92647202\n",
            " 0.92412543 0.96506121 0.95610917 0.93985657 0.93329463 0.92925318\n",
            " 0.91943213 0.9022234  0.8929672  0.89044682 0.83873381 0.84729473\n",
            " 0.85246598 0.84925026 0.83756051 0.82634878 0.83065096 0.82574928\n",
            " 0.81777352 0.81030297 0.80364847 0.7973274 ]\n",
            "5 day output [[0.79120636]]\n",
            "6 day input [0.8493806  0.86984849 0.88566663 0.89987681 0.8243498  0.82860854\n",
            " 0.81352918 0.80405575 0.8121386  0.81700568 0.81370302 0.8266095\n",
            " 0.82504509 0.82326339 0.81374646 0.81031341 0.79323513 0.79240945\n",
            " 0.81626695 0.77580917 0.79844988 0.80566361 0.8336929  0.83773435\n",
            " 0.84812036 0.84951099 0.84703395 0.85359589 0.84707745 0.83964638\n",
            " 0.84042862 0.8261315  0.82287228 0.82022145 0.81748369 0.83508348\n",
            " 0.85042356 0.86111379 0.84307944 0.83816891 0.85776768 0.85381317\n",
            " 0.8615918  0.87232553 0.86411228 0.87740989 0.87388994 0.88058216\n",
            " 0.87771411 0.88066916 0.85064084 0.86206986 0.86089651 0.88340682\n",
            " 0.938379   0.96214966 0.96710363 1.         0.99548059 0.98483381\n",
            " 0.94333307 0.87362921 0.87128257 0.88132101 0.89561807 0.9185195\n",
            " 0.925516   0.9057868  0.91352203 0.94481054 0.93555434 0.9348591\n",
            " 0.93338153 0.91882368 0.93333813 0.93963929 0.92647202 0.92412543\n",
            " 0.96506121 0.95610917 0.93985657 0.93329463 0.92925318 0.91943213\n",
            " 0.9022234  0.8929672  0.89044682 0.83873381 0.84729473 0.85246598\n",
            " 0.84925026 0.83756051 0.82634878 0.83065096 0.82574928 0.81777352\n",
            " 0.81030297 0.80364847 0.7973274  0.79120636]\n",
            "6 day output [[0.78528804]]\n",
            "7 day input [0.86984849 0.88566663 0.89987681 0.8243498  0.82860854 0.81352918\n",
            " 0.80405575 0.8121386  0.81700568 0.81370302 0.8266095  0.82504509\n",
            " 0.82326339 0.81374646 0.81031341 0.79323513 0.79240945 0.81626695\n",
            " 0.77580917 0.79844988 0.80566361 0.8336929  0.83773435 0.84812036\n",
            " 0.84951099 0.84703395 0.85359589 0.84707745 0.83964638 0.84042862\n",
            " 0.8261315  0.82287228 0.82022145 0.81748369 0.83508348 0.85042356\n",
            " 0.86111379 0.84307944 0.83816891 0.85776768 0.85381317 0.8615918\n",
            " 0.87232553 0.86411228 0.87740989 0.87388994 0.88058216 0.87771411\n",
            " 0.88066916 0.85064084 0.86206986 0.86089651 0.88340682 0.938379\n",
            " 0.96214966 0.96710363 1.         0.99548059 0.98483381 0.94333307\n",
            " 0.87362921 0.87128257 0.88132101 0.89561807 0.9185195  0.925516\n",
            " 0.9057868  0.91352203 0.94481054 0.93555434 0.9348591  0.93338153\n",
            " 0.91882368 0.93333813 0.93963929 0.92647202 0.92412543 0.96506121\n",
            " 0.95610917 0.93985657 0.93329463 0.92925318 0.91943213 0.9022234\n",
            " 0.8929672  0.89044682 0.83873381 0.84729473 0.85246598 0.84925026\n",
            " 0.83756051 0.82634878 0.83065096 0.82574928 0.81777352 0.81030297\n",
            " 0.80364847 0.7973274  0.79120636 0.78528804]\n",
            "7 day output [[0.77960336]]\n",
            "8 day input [0.88566663 0.89987681 0.8243498  0.82860854 0.81352918 0.80405575\n",
            " 0.8121386  0.81700568 0.81370302 0.8266095  0.82504509 0.82326339\n",
            " 0.81374646 0.81031341 0.79323513 0.79240945 0.81626695 0.77580917\n",
            " 0.79844988 0.80566361 0.8336929  0.83773435 0.84812036 0.84951099\n",
            " 0.84703395 0.85359589 0.84707745 0.83964638 0.84042862 0.8261315\n",
            " 0.82287228 0.82022145 0.81748369 0.83508348 0.85042356 0.86111379\n",
            " 0.84307944 0.83816891 0.85776768 0.85381317 0.8615918  0.87232553\n",
            " 0.86411228 0.87740989 0.87388994 0.88058216 0.87771411 0.88066916\n",
            " 0.85064084 0.86206986 0.86089651 0.88340682 0.938379   0.96214966\n",
            " 0.96710363 1.         0.99548059 0.98483381 0.94333307 0.87362921\n",
            " 0.87128257 0.88132101 0.89561807 0.9185195  0.925516   0.9057868\n",
            " 0.91352203 0.94481054 0.93555434 0.9348591  0.93338153 0.91882368\n",
            " 0.93333813 0.93963929 0.92647202 0.92412543 0.96506121 0.95610917\n",
            " 0.93985657 0.93329463 0.92925318 0.91943213 0.9022234  0.8929672\n",
            " 0.89044682 0.83873381 0.84729473 0.85246598 0.84925026 0.83756051\n",
            " 0.82634878 0.83065096 0.82574928 0.81777352 0.81030297 0.80364847\n",
            " 0.7973274  0.79120636 0.78528804 0.77960336]\n",
            "8 day output [[0.77417743]]\n",
            "9 day input [0.89987681 0.8243498  0.82860854 0.81352918 0.80405575 0.8121386\n",
            " 0.81700568 0.81370302 0.8266095  0.82504509 0.82326339 0.81374646\n",
            " 0.81031341 0.79323513 0.79240945 0.81626695 0.77580917 0.79844988\n",
            " 0.80566361 0.8336929  0.83773435 0.84812036 0.84951099 0.84703395\n",
            " 0.85359589 0.84707745 0.83964638 0.84042862 0.8261315  0.82287228\n",
            " 0.82022145 0.81748369 0.83508348 0.85042356 0.86111379 0.84307944\n",
            " 0.83816891 0.85776768 0.85381317 0.8615918  0.87232553 0.86411228\n",
            " 0.87740989 0.87388994 0.88058216 0.87771411 0.88066916 0.85064084\n",
            " 0.86206986 0.86089651 0.88340682 0.938379   0.96214966 0.96710363\n",
            " 1.         0.99548059 0.98483381 0.94333307 0.87362921 0.87128257\n",
            " 0.88132101 0.89561807 0.9185195  0.925516   0.9057868  0.91352203\n",
            " 0.94481054 0.93555434 0.9348591  0.93338153 0.91882368 0.93333813\n",
            " 0.93963929 0.92647202 0.92412543 0.96506121 0.95610917 0.93985657\n",
            " 0.93329463 0.92925318 0.91943213 0.9022234  0.8929672  0.89044682\n",
            " 0.83873381 0.84729473 0.85246598 0.84925026 0.83756051 0.82634878\n",
            " 0.83065096 0.82574928 0.81777352 0.81030297 0.80364847 0.7973274\n",
            " 0.79120636 0.78528804 0.77960336 0.77417743]\n",
            "9 day output [[0.7690233]]\n",
            "10 day input [0.8243498  0.82860854 0.81352918 0.80405575 0.8121386  0.81700568\n",
            " 0.81370302 0.8266095  0.82504509 0.82326339 0.81374646 0.81031341\n",
            " 0.79323513 0.79240945 0.81626695 0.77580917 0.79844988 0.80566361\n",
            " 0.8336929  0.83773435 0.84812036 0.84951099 0.84703395 0.85359589\n",
            " 0.84707745 0.83964638 0.84042862 0.8261315  0.82287228 0.82022145\n",
            " 0.81748369 0.83508348 0.85042356 0.86111379 0.84307944 0.83816891\n",
            " 0.85776768 0.85381317 0.8615918  0.87232553 0.86411228 0.87740989\n",
            " 0.87388994 0.88058216 0.87771411 0.88066916 0.85064084 0.86206986\n",
            " 0.86089651 0.88340682 0.938379   0.96214966 0.96710363 1.\n",
            " 0.99548059 0.98483381 0.94333307 0.87362921 0.87128257 0.88132101\n",
            " 0.89561807 0.9185195  0.925516   0.9057868  0.91352203 0.94481054\n",
            " 0.93555434 0.9348591  0.93338153 0.91882368 0.93333813 0.93963929\n",
            " 0.92647202 0.92412543 0.96506121 0.95610917 0.93985657 0.93329463\n",
            " 0.92925318 0.91943213 0.9022234  0.8929672  0.89044682 0.83873381\n",
            " 0.84729473 0.85246598 0.84925026 0.83756051 0.82634878 0.83065096\n",
            " 0.82574928 0.81777352 0.81030297 0.80364847 0.7973274  0.79120636\n",
            " 0.78528804 0.77960336 0.77417743 0.7690233 ]\n",
            "10 day output [[0.76414186]]\n",
            "11 day input [0.82860854 0.81352918 0.80405575 0.8121386  0.81700568 0.81370302\n",
            " 0.8266095  0.82504509 0.82326339 0.81374646 0.81031341 0.79323513\n",
            " 0.79240945 0.81626695 0.77580917 0.79844988 0.80566361 0.8336929\n",
            " 0.83773435 0.84812036 0.84951099 0.84703395 0.85359589 0.84707745\n",
            " 0.83964638 0.84042862 0.8261315  0.82287228 0.82022145 0.81748369\n",
            " 0.83508348 0.85042356 0.86111379 0.84307944 0.83816891 0.85776768\n",
            " 0.85381317 0.8615918  0.87232553 0.86411228 0.87740989 0.87388994\n",
            " 0.88058216 0.87771411 0.88066916 0.85064084 0.86206986 0.86089651\n",
            " 0.88340682 0.938379   0.96214966 0.96710363 1.         0.99548059\n",
            " 0.98483381 0.94333307 0.87362921 0.87128257 0.88132101 0.89561807\n",
            " 0.9185195  0.925516   0.9057868  0.91352203 0.94481054 0.93555434\n",
            " 0.9348591  0.93338153 0.91882368 0.93333813 0.93963929 0.92647202\n",
            " 0.92412543 0.96506121 0.95610917 0.93985657 0.93329463 0.92925318\n",
            " 0.91943213 0.9022234  0.8929672  0.89044682 0.83873381 0.84729473\n",
            " 0.85246598 0.84925026 0.83756051 0.82634878 0.83065096 0.82574928\n",
            " 0.81777352 0.81030297 0.80364847 0.7973274  0.79120636 0.78528804\n",
            " 0.77960336 0.77417743 0.7690233  0.76414186]\n",
            "11 day output [[0.7595255]]\n",
            "12 day input [0.81352918 0.80405575 0.8121386  0.81700568 0.81370302 0.8266095\n",
            " 0.82504509 0.82326339 0.81374646 0.81031341 0.79323513 0.79240945\n",
            " 0.81626695 0.77580917 0.79844988 0.80566361 0.8336929  0.83773435\n",
            " 0.84812036 0.84951099 0.84703395 0.85359589 0.84707745 0.83964638\n",
            " 0.84042862 0.8261315  0.82287228 0.82022145 0.81748369 0.83508348\n",
            " 0.85042356 0.86111379 0.84307944 0.83816891 0.85776768 0.85381317\n",
            " 0.8615918  0.87232553 0.86411228 0.87740989 0.87388994 0.88058216\n",
            " 0.87771411 0.88066916 0.85064084 0.86206986 0.86089651 0.88340682\n",
            " 0.938379   0.96214966 0.96710363 1.         0.99548059 0.98483381\n",
            " 0.94333307 0.87362921 0.87128257 0.88132101 0.89561807 0.9185195\n",
            " 0.925516   0.9057868  0.91352203 0.94481054 0.93555434 0.9348591\n",
            " 0.93338153 0.91882368 0.93333813 0.93963929 0.92647202 0.92412543\n",
            " 0.96506121 0.95610917 0.93985657 0.93329463 0.92925318 0.91943213\n",
            " 0.9022234  0.8929672  0.89044682 0.83873381 0.84729473 0.85246598\n",
            " 0.84925026 0.83756051 0.82634878 0.83065096 0.82574928 0.81777352\n",
            " 0.81030297 0.80364847 0.7973274  0.79120636 0.78528804 0.77960336\n",
            " 0.77417743 0.7690233  0.76414186 0.75952548]\n",
            "12 day output [[0.75516003]]\n",
            "13 day input [0.80405575 0.8121386  0.81700568 0.81370302 0.8266095  0.82504509\n",
            " 0.82326339 0.81374646 0.81031341 0.79323513 0.79240945 0.81626695\n",
            " 0.77580917 0.79844988 0.80566361 0.8336929  0.83773435 0.84812036\n",
            " 0.84951099 0.84703395 0.85359589 0.84707745 0.83964638 0.84042862\n",
            " 0.8261315  0.82287228 0.82022145 0.81748369 0.83508348 0.85042356\n",
            " 0.86111379 0.84307944 0.83816891 0.85776768 0.85381317 0.8615918\n",
            " 0.87232553 0.86411228 0.87740989 0.87388994 0.88058216 0.87771411\n",
            " 0.88066916 0.85064084 0.86206986 0.86089651 0.88340682 0.938379\n",
            " 0.96214966 0.96710363 1.         0.99548059 0.98483381 0.94333307\n",
            " 0.87362921 0.87128257 0.88132101 0.89561807 0.9185195  0.925516\n",
            " 0.9057868  0.91352203 0.94481054 0.93555434 0.9348591  0.93338153\n",
            " 0.91882368 0.93333813 0.93963929 0.92647202 0.92412543 0.96506121\n",
            " 0.95610917 0.93985657 0.93329463 0.92925318 0.91943213 0.9022234\n",
            " 0.8929672  0.89044682 0.83873381 0.84729473 0.85246598 0.84925026\n",
            " 0.83756051 0.82634878 0.83065096 0.82574928 0.81777352 0.81030297\n",
            " 0.80364847 0.7973274  0.79120636 0.78528804 0.77960336 0.77417743\n",
            " 0.7690233  0.76414186 0.75952548 0.75516003]\n",
            "13 day output [[0.75102866]]\n",
            "14 day input [0.8121386  0.81700568 0.81370302 0.8266095  0.82504509 0.82326339\n",
            " 0.81374646 0.81031341 0.79323513 0.79240945 0.81626695 0.77580917\n",
            " 0.79844988 0.80566361 0.8336929  0.83773435 0.84812036 0.84951099\n",
            " 0.84703395 0.85359589 0.84707745 0.83964638 0.84042862 0.8261315\n",
            " 0.82287228 0.82022145 0.81748369 0.83508348 0.85042356 0.86111379\n",
            " 0.84307944 0.83816891 0.85776768 0.85381317 0.8615918  0.87232553\n",
            " 0.86411228 0.87740989 0.87388994 0.88058216 0.87771411 0.88066916\n",
            " 0.85064084 0.86206986 0.86089651 0.88340682 0.938379   0.96214966\n",
            " 0.96710363 1.         0.99548059 0.98483381 0.94333307 0.87362921\n",
            " 0.87128257 0.88132101 0.89561807 0.9185195  0.925516   0.9057868\n",
            " 0.91352203 0.94481054 0.93555434 0.9348591  0.93338153 0.91882368\n",
            " 0.93333813 0.93963929 0.92647202 0.92412543 0.96506121 0.95610917\n",
            " 0.93985657 0.93329463 0.92925318 0.91943213 0.9022234  0.8929672\n",
            " 0.89044682 0.83873381 0.84729473 0.85246598 0.84925026 0.83756051\n",
            " 0.82634878 0.83065096 0.82574928 0.81777352 0.81030297 0.80364847\n",
            " 0.7973274  0.79120636 0.78528804 0.77960336 0.77417743 0.7690233\n",
            " 0.76414186 0.75952548 0.75516003 0.75102866]\n",
            "14 day output [[0.7471119]]\n",
            "15 day input [0.81700568 0.81370302 0.8266095  0.82504509 0.82326339 0.81374646\n",
            " 0.81031341 0.79323513 0.79240945 0.81626695 0.77580917 0.79844988\n",
            " 0.80566361 0.8336929  0.83773435 0.84812036 0.84951099 0.84703395\n",
            " 0.85359589 0.84707745 0.83964638 0.84042862 0.8261315  0.82287228\n",
            " 0.82022145 0.81748369 0.83508348 0.85042356 0.86111379 0.84307944\n",
            " 0.83816891 0.85776768 0.85381317 0.8615918  0.87232553 0.86411228\n",
            " 0.87740989 0.87388994 0.88058216 0.87771411 0.88066916 0.85064084\n",
            " 0.86206986 0.86089651 0.88340682 0.938379   0.96214966 0.96710363\n",
            " 1.         0.99548059 0.98483381 0.94333307 0.87362921 0.87128257\n",
            " 0.88132101 0.89561807 0.9185195  0.925516   0.9057868  0.91352203\n",
            " 0.94481054 0.93555434 0.9348591  0.93338153 0.91882368 0.93333813\n",
            " 0.93963929 0.92647202 0.92412543 0.96506121 0.95610917 0.93985657\n",
            " 0.93329463 0.92925318 0.91943213 0.9022234  0.8929672  0.89044682\n",
            " 0.83873381 0.84729473 0.85246598 0.84925026 0.83756051 0.82634878\n",
            " 0.83065096 0.82574928 0.81777352 0.81030297 0.80364847 0.7973274\n",
            " 0.79120636 0.78528804 0.77960336 0.77417743 0.7690233  0.76414186\n",
            " 0.75952548 0.75516003 0.75102866 0.74711192]\n",
            "15 day output [[0.7433896]]\n",
            "16 day input [0.81370302 0.8266095  0.82504509 0.82326339 0.81374646 0.81031341\n",
            " 0.79323513 0.79240945 0.81626695 0.77580917 0.79844988 0.80566361\n",
            " 0.8336929  0.83773435 0.84812036 0.84951099 0.84703395 0.85359589\n",
            " 0.84707745 0.83964638 0.84042862 0.8261315  0.82287228 0.82022145\n",
            " 0.81748369 0.83508348 0.85042356 0.86111379 0.84307944 0.83816891\n",
            " 0.85776768 0.85381317 0.8615918  0.87232553 0.86411228 0.87740989\n",
            " 0.87388994 0.88058216 0.87771411 0.88066916 0.85064084 0.86206986\n",
            " 0.86089651 0.88340682 0.938379   0.96214966 0.96710363 1.\n",
            " 0.99548059 0.98483381 0.94333307 0.87362921 0.87128257 0.88132101\n",
            " 0.89561807 0.9185195  0.925516   0.9057868  0.91352203 0.94481054\n",
            " 0.93555434 0.9348591  0.93338153 0.91882368 0.93333813 0.93963929\n",
            " 0.92647202 0.92412543 0.96506121 0.95610917 0.93985657 0.93329463\n",
            " 0.92925318 0.91943213 0.9022234  0.8929672  0.89044682 0.83873381\n",
            " 0.84729473 0.85246598 0.84925026 0.83756051 0.82634878 0.83065096\n",
            " 0.82574928 0.81777352 0.81030297 0.80364847 0.7973274  0.79120636\n",
            " 0.78528804 0.77960336 0.77417743 0.7690233  0.76414186 0.75952548\n",
            " 0.75516003 0.75102866 0.74711192 0.74338961]\n",
            "16 day output [[0.73984265]]\n",
            "17 day input [0.8266095  0.82504509 0.82326339 0.81374646 0.81031341 0.79323513\n",
            " 0.79240945 0.81626695 0.77580917 0.79844988 0.80566361 0.8336929\n",
            " 0.83773435 0.84812036 0.84951099 0.84703395 0.85359589 0.84707745\n",
            " 0.83964638 0.84042862 0.8261315  0.82287228 0.82022145 0.81748369\n",
            " 0.83508348 0.85042356 0.86111379 0.84307944 0.83816891 0.85776768\n",
            " 0.85381317 0.8615918  0.87232553 0.86411228 0.87740989 0.87388994\n",
            " 0.88058216 0.87771411 0.88066916 0.85064084 0.86206986 0.86089651\n",
            " 0.88340682 0.938379   0.96214966 0.96710363 1.         0.99548059\n",
            " 0.98483381 0.94333307 0.87362921 0.87128257 0.88132101 0.89561807\n",
            " 0.9185195  0.925516   0.9057868  0.91352203 0.94481054 0.93555434\n",
            " 0.9348591  0.93338153 0.91882368 0.93333813 0.93963929 0.92647202\n",
            " 0.92412543 0.96506121 0.95610917 0.93985657 0.93329463 0.92925318\n",
            " 0.91943213 0.9022234  0.8929672  0.89044682 0.83873381 0.84729473\n",
            " 0.85246598 0.84925026 0.83756051 0.82634878 0.83065096 0.82574928\n",
            " 0.81777352 0.81030297 0.80364847 0.7973274  0.79120636 0.78528804\n",
            " 0.77960336 0.77417743 0.7690233  0.76414186 0.75952548 0.75516003\n",
            " 0.75102866 0.74711192 0.74338961 0.73984265]\n",
            "17 day output [[0.7364529]]\n",
            "18 day input [0.82504509 0.82326339 0.81374646 0.81031341 0.79323513 0.79240945\n",
            " 0.81626695 0.77580917 0.79844988 0.80566361 0.8336929  0.83773435\n",
            " 0.84812036 0.84951099 0.84703395 0.85359589 0.84707745 0.83964638\n",
            " 0.84042862 0.8261315  0.82287228 0.82022145 0.81748369 0.83508348\n",
            " 0.85042356 0.86111379 0.84307944 0.83816891 0.85776768 0.85381317\n",
            " 0.8615918  0.87232553 0.86411228 0.87740989 0.87388994 0.88058216\n",
            " 0.87771411 0.88066916 0.85064084 0.86206986 0.86089651 0.88340682\n",
            " 0.938379   0.96214966 0.96710363 1.         0.99548059 0.98483381\n",
            " 0.94333307 0.87362921 0.87128257 0.88132101 0.89561807 0.9185195\n",
            " 0.925516   0.9057868  0.91352203 0.94481054 0.93555434 0.9348591\n",
            " 0.93338153 0.91882368 0.93333813 0.93963929 0.92647202 0.92412543\n",
            " 0.96506121 0.95610917 0.93985657 0.93329463 0.92925318 0.91943213\n",
            " 0.9022234  0.8929672  0.89044682 0.83873381 0.84729473 0.85246598\n",
            " 0.84925026 0.83756051 0.82634878 0.83065096 0.82574928 0.81777352\n",
            " 0.81030297 0.80364847 0.7973274  0.79120636 0.78528804 0.77960336\n",
            " 0.77417743 0.7690233  0.76414186 0.75952548 0.75516003 0.75102866\n",
            " 0.74711192 0.74338961 0.73984265 0.73645288]\n",
            "18 day output [[0.7332042]]\n",
            "19 day input [0.82326339 0.81374646 0.81031341 0.79323513 0.79240945 0.81626695\n",
            " 0.77580917 0.79844988 0.80566361 0.8336929  0.83773435 0.84812036\n",
            " 0.84951099 0.84703395 0.85359589 0.84707745 0.83964638 0.84042862\n",
            " 0.8261315  0.82287228 0.82022145 0.81748369 0.83508348 0.85042356\n",
            " 0.86111379 0.84307944 0.83816891 0.85776768 0.85381317 0.8615918\n",
            " 0.87232553 0.86411228 0.87740989 0.87388994 0.88058216 0.87771411\n",
            " 0.88066916 0.85064084 0.86206986 0.86089651 0.88340682 0.938379\n",
            " 0.96214966 0.96710363 1.         0.99548059 0.98483381 0.94333307\n",
            " 0.87362921 0.87128257 0.88132101 0.89561807 0.9185195  0.925516\n",
            " 0.9057868  0.91352203 0.94481054 0.93555434 0.9348591  0.93338153\n",
            " 0.91882368 0.93333813 0.93963929 0.92647202 0.92412543 0.96506121\n",
            " 0.95610917 0.93985657 0.93329463 0.92925318 0.91943213 0.9022234\n",
            " 0.8929672  0.89044682 0.83873381 0.84729473 0.85246598 0.84925026\n",
            " 0.83756051 0.82634878 0.83065096 0.82574928 0.81777352 0.81030297\n",
            " 0.80364847 0.7973274  0.79120636 0.78528804 0.77960336 0.77417743\n",
            " 0.7690233  0.76414186 0.75952548 0.75516003 0.75102866 0.74711192\n",
            " 0.74338961 0.73984265 0.73645288 0.73320419]\n",
            "19 day output [[0.7300816]]\n",
            "20 day input [0.81374646 0.81031341 0.79323513 0.79240945 0.81626695 0.77580917\n",
            " 0.79844988 0.80566361 0.8336929  0.83773435 0.84812036 0.84951099\n",
            " 0.84703395 0.85359589 0.84707745 0.83964638 0.84042862 0.8261315\n",
            " 0.82287228 0.82022145 0.81748369 0.83508348 0.85042356 0.86111379\n",
            " 0.84307944 0.83816891 0.85776768 0.85381317 0.8615918  0.87232553\n",
            " 0.86411228 0.87740989 0.87388994 0.88058216 0.87771411 0.88066916\n",
            " 0.85064084 0.86206986 0.86089651 0.88340682 0.938379   0.96214966\n",
            " 0.96710363 1.         0.99548059 0.98483381 0.94333307 0.87362921\n",
            " 0.87128257 0.88132101 0.89561807 0.9185195  0.925516   0.9057868\n",
            " 0.91352203 0.94481054 0.93555434 0.9348591  0.93338153 0.91882368\n",
            " 0.93333813 0.93963929 0.92647202 0.92412543 0.96506121 0.95610917\n",
            " 0.93985657 0.93329463 0.92925318 0.91943213 0.9022234  0.8929672\n",
            " 0.89044682 0.83873381 0.84729473 0.85246598 0.84925026 0.83756051\n",
            " 0.82634878 0.83065096 0.82574928 0.81777352 0.81030297 0.80364847\n",
            " 0.7973274  0.79120636 0.78528804 0.77960336 0.77417743 0.7690233\n",
            " 0.76414186 0.75952548 0.75516003 0.75102866 0.74711192 0.74338961\n",
            " 0.73984265 0.73645288 0.73320419 0.73008162]\n",
            "20 day output [[0.7270731]]\n",
            "21 day input [0.81031341 0.79323513 0.79240945 0.81626695 0.77580917 0.79844988\n",
            " 0.80566361 0.8336929  0.83773435 0.84812036 0.84951099 0.84703395\n",
            " 0.85359589 0.84707745 0.83964638 0.84042862 0.8261315  0.82287228\n",
            " 0.82022145 0.81748369 0.83508348 0.85042356 0.86111379 0.84307944\n",
            " 0.83816891 0.85776768 0.85381317 0.8615918  0.87232553 0.86411228\n",
            " 0.87740989 0.87388994 0.88058216 0.87771411 0.88066916 0.85064084\n",
            " 0.86206986 0.86089651 0.88340682 0.938379   0.96214966 0.96710363\n",
            " 1.         0.99548059 0.98483381 0.94333307 0.87362921 0.87128257\n",
            " 0.88132101 0.89561807 0.9185195  0.925516   0.9057868  0.91352203\n",
            " 0.94481054 0.93555434 0.9348591  0.93338153 0.91882368 0.93333813\n",
            " 0.93963929 0.92647202 0.92412543 0.96506121 0.95610917 0.93985657\n",
            " 0.93329463 0.92925318 0.91943213 0.9022234  0.8929672  0.89044682\n",
            " 0.83873381 0.84729473 0.85246598 0.84925026 0.83756051 0.82634878\n",
            " 0.83065096 0.82574928 0.81777352 0.81030297 0.80364847 0.7973274\n",
            " 0.79120636 0.78528804 0.77960336 0.77417743 0.7690233  0.76414186\n",
            " 0.75952548 0.75516003 0.75102866 0.74711192 0.74338961 0.73984265\n",
            " 0.73645288 0.73320419 0.73008162 0.72707307]\n",
            "21 day output [[0.72416824]]\n",
            "22 day input [0.79323513 0.79240945 0.81626695 0.77580917 0.79844988 0.80566361\n",
            " 0.8336929  0.83773435 0.84812036 0.84951099 0.84703395 0.85359589\n",
            " 0.84707745 0.83964638 0.84042862 0.8261315  0.82287228 0.82022145\n",
            " 0.81748369 0.83508348 0.85042356 0.86111379 0.84307944 0.83816891\n",
            " 0.85776768 0.85381317 0.8615918  0.87232553 0.86411228 0.87740989\n",
            " 0.87388994 0.88058216 0.87771411 0.88066916 0.85064084 0.86206986\n",
            " 0.86089651 0.88340682 0.938379   0.96214966 0.96710363 1.\n",
            " 0.99548059 0.98483381 0.94333307 0.87362921 0.87128257 0.88132101\n",
            " 0.89561807 0.9185195  0.925516   0.9057868  0.91352203 0.94481054\n",
            " 0.93555434 0.9348591  0.93338153 0.91882368 0.93333813 0.93963929\n",
            " 0.92647202 0.92412543 0.96506121 0.95610917 0.93985657 0.93329463\n",
            " 0.92925318 0.91943213 0.9022234  0.8929672  0.89044682 0.83873381\n",
            " 0.84729473 0.85246598 0.84925026 0.83756051 0.82634878 0.83065096\n",
            " 0.82574928 0.81777352 0.81030297 0.80364847 0.7973274  0.79120636\n",
            " 0.78528804 0.77960336 0.77417743 0.7690233  0.76414186 0.75952548\n",
            " 0.75516003 0.75102866 0.74711192 0.74338961 0.73984265 0.73645288\n",
            " 0.73320419 0.73008162 0.72707307 0.72416824]\n",
            "22 day output [[0.7213584]]\n",
            "23 day input [0.79240945 0.81626695 0.77580917 0.79844988 0.80566361 0.8336929\n",
            " 0.83773435 0.84812036 0.84951099 0.84703395 0.85359589 0.84707745\n",
            " 0.83964638 0.84042862 0.8261315  0.82287228 0.82022145 0.81748369\n",
            " 0.83508348 0.85042356 0.86111379 0.84307944 0.83816891 0.85776768\n",
            " 0.85381317 0.8615918  0.87232553 0.86411228 0.87740989 0.87388994\n",
            " 0.88058216 0.87771411 0.88066916 0.85064084 0.86206986 0.86089651\n",
            " 0.88340682 0.938379   0.96214966 0.96710363 1.         0.99548059\n",
            " 0.98483381 0.94333307 0.87362921 0.87128257 0.88132101 0.89561807\n",
            " 0.9185195  0.925516   0.9057868  0.91352203 0.94481054 0.93555434\n",
            " 0.9348591  0.93338153 0.91882368 0.93333813 0.93963929 0.92647202\n",
            " 0.92412543 0.96506121 0.95610917 0.93985657 0.93329463 0.92925318\n",
            " 0.91943213 0.9022234  0.8929672  0.89044682 0.83873381 0.84729473\n",
            " 0.85246598 0.84925026 0.83756051 0.82634878 0.83065096 0.82574928\n",
            " 0.81777352 0.81030297 0.80364847 0.7973274  0.79120636 0.78528804\n",
            " 0.77960336 0.77417743 0.7690233  0.76414186 0.75952548 0.75516003\n",
            " 0.75102866 0.74711192 0.74338961 0.73984265 0.73645288 0.73320419\n",
            " 0.73008162 0.72707307 0.72416824 0.72135842]\n",
            "23 day output [[0.71863705]]\n",
            "24 day input [0.81626695 0.77580917 0.79844988 0.80566361 0.8336929  0.83773435\n",
            " 0.84812036 0.84951099 0.84703395 0.85359589 0.84707745 0.83964638\n",
            " 0.84042862 0.8261315  0.82287228 0.82022145 0.81748369 0.83508348\n",
            " 0.85042356 0.86111379 0.84307944 0.83816891 0.85776768 0.85381317\n",
            " 0.8615918  0.87232553 0.86411228 0.87740989 0.87388994 0.88058216\n",
            " 0.87771411 0.88066916 0.85064084 0.86206986 0.86089651 0.88340682\n",
            " 0.938379   0.96214966 0.96710363 1.         0.99548059 0.98483381\n",
            " 0.94333307 0.87362921 0.87128257 0.88132101 0.89561807 0.9185195\n",
            " 0.925516   0.9057868  0.91352203 0.94481054 0.93555434 0.9348591\n",
            " 0.93338153 0.91882368 0.93333813 0.93963929 0.92647202 0.92412543\n",
            " 0.96506121 0.95610917 0.93985657 0.93329463 0.92925318 0.91943213\n",
            " 0.9022234  0.8929672  0.89044682 0.83873381 0.84729473 0.85246598\n",
            " 0.84925026 0.83756051 0.82634878 0.83065096 0.82574928 0.81777352\n",
            " 0.81030297 0.80364847 0.7973274  0.79120636 0.78528804 0.77960336\n",
            " 0.77417743 0.7690233  0.76414186 0.75952548 0.75516003 0.75102866\n",
            " 0.74711192 0.74338961 0.73984265 0.73645288 0.73320419 0.73008162\n",
            " 0.72707307 0.72416824 0.72135842 0.71863705]\n",
            "24 day output [[0.7159985]]\n",
            "25 day input [0.77580917 0.79844988 0.80566361 0.8336929  0.83773435 0.84812036\n",
            " 0.84951099 0.84703395 0.85359589 0.84707745 0.83964638 0.84042862\n",
            " 0.8261315  0.82287228 0.82022145 0.81748369 0.83508348 0.85042356\n",
            " 0.86111379 0.84307944 0.83816891 0.85776768 0.85381317 0.8615918\n",
            " 0.87232553 0.86411228 0.87740989 0.87388994 0.88058216 0.87771411\n",
            " 0.88066916 0.85064084 0.86206986 0.86089651 0.88340682 0.938379\n",
            " 0.96214966 0.96710363 1.         0.99548059 0.98483381 0.94333307\n",
            " 0.87362921 0.87128257 0.88132101 0.89561807 0.9185195  0.925516\n",
            " 0.9057868  0.91352203 0.94481054 0.93555434 0.9348591  0.93338153\n",
            " 0.91882368 0.93333813 0.93963929 0.92647202 0.92412543 0.96506121\n",
            " 0.95610917 0.93985657 0.93329463 0.92925318 0.91943213 0.9022234\n",
            " 0.8929672  0.89044682 0.83873381 0.84729473 0.85246598 0.84925026\n",
            " 0.83756051 0.82634878 0.83065096 0.82574928 0.81777352 0.81030297\n",
            " 0.80364847 0.7973274  0.79120636 0.78528804 0.77960336 0.77417743\n",
            " 0.7690233  0.76414186 0.75952548 0.75516003 0.75102866 0.74711192\n",
            " 0.74338961 0.73984265 0.73645288 0.73320419 0.73008162 0.72707307\n",
            " 0.72416824 0.72135842 0.71863705 0.71599847]\n",
            "25 day output [[0.71343845]]\n",
            "26 day input [0.79844988 0.80566361 0.8336929  0.83773435 0.84812036 0.84951099\n",
            " 0.84703395 0.85359589 0.84707745 0.83964638 0.84042862 0.8261315\n",
            " 0.82287228 0.82022145 0.81748369 0.83508348 0.85042356 0.86111379\n",
            " 0.84307944 0.83816891 0.85776768 0.85381317 0.8615918  0.87232553\n",
            " 0.86411228 0.87740989 0.87388994 0.88058216 0.87771411 0.88066916\n",
            " 0.85064084 0.86206986 0.86089651 0.88340682 0.938379   0.96214966\n",
            " 0.96710363 1.         0.99548059 0.98483381 0.94333307 0.87362921\n",
            " 0.87128257 0.88132101 0.89561807 0.9185195  0.925516   0.9057868\n",
            " 0.91352203 0.94481054 0.93555434 0.9348591  0.93338153 0.91882368\n",
            " 0.93333813 0.93963929 0.92647202 0.92412543 0.96506121 0.95610917\n",
            " 0.93985657 0.93329463 0.92925318 0.91943213 0.9022234  0.8929672\n",
            " 0.89044682 0.83873381 0.84729473 0.85246598 0.84925026 0.83756051\n",
            " 0.82634878 0.83065096 0.82574928 0.81777352 0.81030297 0.80364847\n",
            " 0.7973274  0.79120636 0.78528804 0.77960336 0.77417743 0.7690233\n",
            " 0.76414186 0.75952548 0.75516003 0.75102866 0.74711192 0.74338961\n",
            " 0.73984265 0.73645288 0.73320419 0.73008162 0.72707307 0.72416824\n",
            " 0.72135842 0.71863705 0.71599847 0.71343845]\n",
            "26 day output [[0.7109538]]\n",
            "27 day input [0.80566361 0.8336929  0.83773435 0.84812036 0.84951099 0.84703395\n",
            " 0.85359589 0.84707745 0.83964638 0.84042862 0.8261315  0.82287228\n",
            " 0.82022145 0.81748369 0.83508348 0.85042356 0.86111379 0.84307944\n",
            " 0.83816891 0.85776768 0.85381317 0.8615918  0.87232553 0.86411228\n",
            " 0.87740989 0.87388994 0.88058216 0.87771411 0.88066916 0.85064084\n",
            " 0.86206986 0.86089651 0.88340682 0.938379   0.96214966 0.96710363\n",
            " 1.         0.99548059 0.98483381 0.94333307 0.87362921 0.87128257\n",
            " 0.88132101 0.89561807 0.9185195  0.925516   0.9057868  0.91352203\n",
            " 0.94481054 0.93555434 0.9348591  0.93338153 0.91882368 0.93333813\n",
            " 0.93963929 0.92647202 0.92412543 0.96506121 0.95610917 0.93985657\n",
            " 0.93329463 0.92925318 0.91943213 0.9022234  0.8929672  0.89044682\n",
            " 0.83873381 0.84729473 0.85246598 0.84925026 0.83756051 0.82634878\n",
            " 0.83065096 0.82574928 0.81777352 0.81030297 0.80364847 0.7973274\n",
            " 0.79120636 0.78528804 0.77960336 0.77417743 0.7690233  0.76414186\n",
            " 0.75952548 0.75516003 0.75102866 0.74711192 0.74338961 0.73984265\n",
            " 0.73645288 0.73320419 0.73008162 0.72707307 0.72416824 0.72135842\n",
            " 0.71863705 0.71599847 0.71343845 0.71095377]\n",
            "27 day output [[0.70854175]]\n",
            "28 day input [0.8336929  0.83773435 0.84812036 0.84951099 0.84703395 0.85359589\n",
            " 0.84707745 0.83964638 0.84042862 0.8261315  0.82287228 0.82022145\n",
            " 0.81748369 0.83508348 0.85042356 0.86111379 0.84307944 0.83816891\n",
            " 0.85776768 0.85381317 0.8615918  0.87232553 0.86411228 0.87740989\n",
            " 0.87388994 0.88058216 0.87771411 0.88066916 0.85064084 0.86206986\n",
            " 0.86089651 0.88340682 0.938379   0.96214966 0.96710363 1.\n",
            " 0.99548059 0.98483381 0.94333307 0.87362921 0.87128257 0.88132101\n",
            " 0.89561807 0.9185195  0.925516   0.9057868  0.91352203 0.94481054\n",
            " 0.93555434 0.9348591  0.93338153 0.91882368 0.93333813 0.93963929\n",
            " 0.92647202 0.92412543 0.96506121 0.95610917 0.93985657 0.93329463\n",
            " 0.92925318 0.91943213 0.9022234  0.8929672  0.89044682 0.83873381\n",
            " 0.84729473 0.85246598 0.84925026 0.83756051 0.82634878 0.83065096\n",
            " 0.82574928 0.81777352 0.81030297 0.80364847 0.7973274  0.79120636\n",
            " 0.78528804 0.77960336 0.77417743 0.7690233  0.76414186 0.75952548\n",
            " 0.75516003 0.75102866 0.74711192 0.74338961 0.73984265 0.73645288\n",
            " 0.73320419 0.73008162 0.72707307 0.72416824 0.72135842 0.71863705\n",
            " 0.71599847 0.71343845 0.71095377 0.70854175]\n",
            "28 day output [[0.70619965]]\n",
            "29 day input [0.83773435 0.84812036 0.84951099 0.84703395 0.85359589 0.84707745\n",
            " 0.83964638 0.84042862 0.8261315  0.82287228 0.82022145 0.81748369\n",
            " 0.83508348 0.85042356 0.86111379 0.84307944 0.83816891 0.85776768\n",
            " 0.85381317 0.8615918  0.87232553 0.86411228 0.87740989 0.87388994\n",
            " 0.88058216 0.87771411 0.88066916 0.85064084 0.86206986 0.86089651\n",
            " 0.88340682 0.938379   0.96214966 0.96710363 1.         0.99548059\n",
            " 0.98483381 0.94333307 0.87362921 0.87128257 0.88132101 0.89561807\n",
            " 0.9185195  0.925516   0.9057868  0.91352203 0.94481054 0.93555434\n",
            " 0.9348591  0.93338153 0.91882368 0.93333813 0.93963929 0.92647202\n",
            " 0.92412543 0.96506121 0.95610917 0.93985657 0.93329463 0.92925318\n",
            " 0.91943213 0.9022234  0.8929672  0.89044682 0.83873381 0.84729473\n",
            " 0.85246598 0.84925026 0.83756051 0.82634878 0.83065096 0.82574928\n",
            " 0.81777352 0.81030297 0.80364847 0.7973274  0.79120636 0.78528804\n",
            " 0.77960336 0.77417743 0.7690233  0.76414186 0.75952548 0.75516003\n",
            " 0.75102866 0.74711192 0.74338961 0.73984265 0.73645288 0.73320419\n",
            " 0.73008162 0.72707307 0.72416824 0.72135842 0.71863705 0.71599847\n",
            " 0.71343845 0.71095377 0.70854175 0.70619965]\n",
            "29 day output [[0.7039257]]\n",
            "[[0.8257492780685425], [0.8177735209465027], [0.8103029727935791], [0.8036484718322754], [0.7973273992538452], [0.7912063598632812], [0.7852880358695984], [0.7796033620834351], [0.7741774320602417], [0.7690232992172241], [0.764141857624054], [0.7595254778862], [0.7551600337028503], [0.7510286569595337], [0.7471119165420532], [0.7433896064758301], [0.7398426532745361], [0.7364528775215149], [0.733204185962677], [0.7300816178321838], [0.727073073387146], [0.7241682410240173], [0.7213584184646606], [0.7186370491981506], [0.7159984707832336], [0.7134384512901306], [0.7109537720680237], [0.708541750907898], [0.7061996459960938], [0.7039257287979126]]\n"
          ]
        }
      ],
      "source": [
        "\n",
        "from numpy import array\n",
        "\n",
        "lst_output=[]\n",
        "n_steps=100\n",
        "i=0\n",
        "while(i<30):\n",
        "\n",
        "    if(len(temp_input)>100):\n",
        "        #print(temp_input)\n",
        "        x_input=np.array(temp_input[1:])\n",
        "        print(\"{} day input {}\".format(i,x_input))\n",
        "        x_input=x_input.reshape(1,-1)\n",
        "        x_input = x_input.reshape((1, n_steps, 1))\n",
        "        #print(x_input)\n",
        "        yhat = model.predict(x_input, verbose=0)\n",
        "        print(\"{} day output {}\".format(i,yhat))\n",
        "        temp_input.extend(yhat[0].tolist())\n",
        "        temp_input=temp_input[1:]\n",
        "        #print(temp_input)\n",
        "        lst_output.extend(yhat.tolist())\n",
        "        i=i+1\n",
        "    else:\n",
        "        x_input = x_input.reshape((1, n_steps,1))\n",
        "        yhat = model.predict(x_input, verbose=0)\n",
        "        print(yhat[0])\n",
        "        temp_input.extend(yhat[0].tolist())\n",
        "        print(len(temp_input))\n",
        "        lst_output.extend(yhat.tolist())\n",
        "        i=i+1\n",
        "\n",
        "\n",
        "print(lst_output)"
      ]
    },
    {
      "cell_type": "code",
      "execution_count": 133,
      "metadata": {
        "id": "bhxsn92f2_cm"
      },
      "outputs": [],
      "source": [
        "day_new=np.arange(1,101)\n",
        "day_pred=np.arange(101,131)"
      ]
    },
    {
      "cell_type": "code",
      "execution_count": 134,
      "metadata": {
        "id": "Yr9ZSSaW3DTB"
      },
      "outputs": [],
      "source": [
        "import matplotlib.pyplot as plt"
      ]
    },
    {
      "cell_type": "code",
      "execution_count": 135,
      "metadata": {
        "id": "eK38mo4g3FLy",
        "colab": {
          "base_uri": "https://localhost:8080/"
        },
        "outputId": "fa8dcab6-6c84-4468-8d55-603133d9803c"
      },
      "outputs": [
        {
          "output_type": "execute_result",
          "data": {
            "text/plain": [
              "6431"
            ]
          },
          "metadata": {},
          "execution_count": 135
        }
      ],
      "source": [
        "len(df1)"
      ]
    },
    {
      "cell_type": "code",
      "execution_count": 136,
      "metadata": {
        "id": "dihzrji73Gp-",
        "colab": {
          "base_uri": "https://localhost:8080/",
          "height": 447
        },
        "outputId": "e7fae140-e484-4fed-d825-4600e4a82eb3"
      },
      "outputs": [
        {
          "output_type": "execute_result",
          "data": {
            "text/plain": [
              "[<matplotlib.lines.Line2D at 0x7d6e506bb0d0>]"
            ]
          },
          "metadata": {},
          "execution_count": 136
        },
        {
          "output_type": "display_data",
          "data": {
            "text/plain": [
              "<Figure size 640x480 with 1 Axes>"
            ],
            "image/png": "[encoded data removed]"
          },
          "metadata": {}
        }
      ],
      "source": [
        "plt.plot(day_new,scaler.inverse_transform(df1[6331:]))\n",
        "plt.plot(day_pred,scaler.inverse_transform(lst_output))"
      ]
    },
    {
      "cell_type": "code",
      "execution_count": 137,
      "metadata": {
        "id": "jwycjbKp3WmJ",
        "colab": {
          "base_uri": "https://localhost:8080/",
          "height": 447
        },
        "outputId": "ecc36c3d-3320-4d3b-8d52-ea7b5808988d"
      },
      "outputs": [
        {
          "output_type": "execute_result",
          "data": {
            "text/plain": [
              "[<matplotlib.lines.Line2D at 0x7d6e50657070>]"
            ]
          },
          "metadata": {},
          "execution_count": 137
        },
        {
          "output_type": "display_data",
          "data": {
            "text/plain": [
              "<Figure size 640x480 with 1 Axes>"
            ],
            "image/png": "[encoded data removed]"
          },
          "metadata": {}
        }
      ],
      "source": [
        "df3=df1.tolist()\n",
        "df3.extend(lst_output)\n",
        "plt.plot(df3[0:])"
      ]
    },
    {
      "cell_type": "code",
      "execution_count": 138,
      "metadata": {
        "id": "Hi2YWyMW3gHd"
      },
      "outputs": [],
      "source": [
        "df3=scaler.inverse_transform(df3).tolist()"
      ]
    },
    {
      "cell_type": "markdown",
      "source": [],
      "metadata": {
        "id": "WjLeLR0suJB-"
      }
    },
    {
      "cell_type": "code",
      "execution_count": 139,
      "metadata": {
        "id": "LkAJlIWQ3hwM",
        "colab": {
          "base_uri": "https://localhost:8080/",
          "height": 447
        },
        "outputId": "e23aa347-23fd-43aa-ebd1-4d70eb974616"
      },
      "outputs": [
        {
          "output_type": "execute_result",
          "data": {
            "text/plain": [
              "[<matplotlib.lines.Line2D at 0x7d6e5048c340>]"
            ]
          },
          "metadata": {},
          "execution_count": 139
        },
        {
          "output_type": "display_data",
          "data": {
            "text/plain": [
              "<Figure size 640x480 with 1 Axes>"
            ],
            "image/png": "[encoded data removed]"
          },
          "metadata": {}
        }
      ],
      "source": [
        "plt.plot(df3)"
      ]
    },
    {
      "cell_type": "code",
      "execution_count": 140,
      "metadata": {
        "id": "PZ5DSwzj3jMY",
        "colab": {
          "base_uri": "https://localhost:8080/"
        },
        "outputId": "58253f18-c6a8-4a36-9ed9-a290507ceb21"
      },
      "outputs": [
        {
          "output_type": "stream",
          "name": "stdout",
          "text": [
            "Model saved successfully.\n"
          ]
        }
      ],
      "source": [
        "import joblib\n",
        "\n",
        "# Assuming you have a trained model named `model`\n",
        "# Save the model to a file\n",
        "joblib.dump(model, 'Stock_Price_Predication_Tata_motors.pkl')\n",
        "\n",
        "print(\"Model saved successfully.\")\n"
      ]
    }
  ],
  "metadata": {
    "colab": {
      "provenance": [],
      "gpuType": "V28"
    },
    "kernelspec": {
      "display_name": "Python 3",
      "name": "python3"
    },
    "language_info": {
      "name": "python"
    },
    "accelerator": "TPU"
  },
  "nbformat": 4,
  "nbformat_minor": 0
}