{
  "nbformat": 4,
  "nbformat_minor": 0,
  "metadata": {
    "colab": {
      "provenance": []
    },
    "kernelspec": {
      "name": "python3",
      "display_name": "Python 3"
    },
    "language_info": {
      "name": "python"
    }
  },
  "cells": [
    {
      "cell_type": "code",
      "source": [
        "!pip install pandas"
      ],
      "metadata": {
        "colab": {
          "base_uri": "https://localhost:8080/"
        },
        "id": "xnLAPSyf-aRl",
        "outputId": "27ad2c49-ba26-4810-f4eb-af1b5da79e2a"
      },
      "execution_count": 1,
      "outputs": [
        {
          "output_type": "stream",
          "name": "stdout",
          "text": [
            "Requirement already satisfied: pandas in /usr/local/lib/python3.10/dist-packages (2.1.4)\n",
            "Requirement already satisfied: numpy<2,>=1.22.4 in /usr/local/lib/python3.10/dist-packages (from pandas) (1.26.4)\n",
            "Requirement already satisfied: python-dateutil>=2.8.2 in /usr/local/lib/python3.10/dist-packages (from pandas) (2.8.2)\n",
            "Requirement already satisfied: pytz>=2020.1 in /usr/local/lib/python3.10/dist-packages (from pandas) (2024.2)\n",
            "Requirement already satisfied: tzdata>=2022.1 in /usr/local/lib/python3.10/dist-packages (from pandas) (2024.1)\n",
            "Requirement already satisfied: six>=1.5 in /usr/local/lib/python3.10/dist-packages (from python-dateutil>=2.8.2->pandas) (1.16.0)\n"
          ]
        }
      ]
    },
    {
      "cell_type": "code",
      "execution_count": 2,
      "metadata": {
        "id": "823IyHF1m3pD"
      },
      "outputs": [],
      "source": [
        "import pandas as pd"
      ]
    },
    {
      "cell_type": "code",
      "source": [
        "!pip install pandas_datareader"
      ],
      "metadata": {
        "colab": {
          "base_uri": "https://localhost:8080/"
        },
        "id": "xGp7greM-jG5",
        "outputId": "bdc1096c-86e0-4a5f-fabf-2f29a5c0db37"
      },
      "execution_count": 3,
      "outputs": [
        {
          "output_type": "stream",
          "name": "stdout",
          "text": [
            "Requirement already satisfied: pandas_datareader in /usr/local/lib/python3.10/dist-packages (0.10.0)\n",
            "Requirement already satisfied: lxml in /usr/local/lib/python3.10/dist-packages (from pandas_datareader) (4.9.4)\n",
            "Requirement already satisfied: pandas>=0.23 in /usr/local/lib/python3.10/dist-packages (from pandas_datareader) (2.1.4)\n",
            "Requirement already satisfied: requests>=2.19.0 in /usr/local/lib/python3.10/dist-packages (from pandas_datareader) (2.32.3)\n",
            "Requirement already satisfied: numpy<2,>=1.22.4 in /usr/local/lib/python3.10/dist-packages (from pandas>=0.23->pandas_datareader) (1.26.4)\n",
            "Requirement already satisfied: python-dateutil>=2.8.2 in /usr/local/lib/python3.10/dist-packages (from pandas>=0.23->pandas_datareader) (2.8.2)\n",
            "Requirement already satisfied: pytz>=2020.1 in /usr/local/lib/python3.10/dist-packages (from pandas>=0.23->pandas_datareader) (2024.2)\n",
            "Requirement already satisfied: tzdata>=2022.1 in /usr/local/lib/python3.10/dist-packages (from pandas>=0.23->pandas_datareader) (2024.1)\n",
            "Requirement already satisfied: charset-normalizer<4,>=2 in /usr/local/lib/python3.10/dist-packages (from requests>=2.19.0->pandas_datareader) (3.3.2)\n",
            "Requirement already satisfied: idna<4,>=2.5 in /usr/local/lib/python3.10/dist-packages (from requests>=2.19.0->pandas_datareader) (3.8)\n",
            "Requirement already satisfied: urllib3<3,>=1.21.1 in /usr/local/lib/python3.10/dist-packages (from requests>=2.19.0->pandas_datareader) (2.0.7)\n",
            "Requirement already satisfied: certifi>=2017.4.17 in /usr/local/lib/python3.10/dist-packages (from requests>=2.19.0->pandas_datareader) (2024.8.30)\n",
            "Requirement already satisfied: six>=1.5 in /usr/local/lib/python3.10/dist-packages (from python-dateutil>=2.8.2->pandas>=0.23->pandas_datareader) (1.16.0)\n"
          ]
        }
      ]
    },
    {
      "cell_type": "code",
      "source": [
        "import pandas_datareader as pdr\n",
        "key = \"d3714db27b99121d6264b51aa3cc403791fad850\""
      ],
      "metadata": {
        "id": "Pj0CS6chpRKi"
      },
      "execution_count": 4,
      "outputs": []
    },
    {
      "cell_type": "code",
      "source": [
        "print(pd.__version__)\n",
        "print(pdr.__version__)"
      ],
      "metadata": {
        "colab": {
          "base_uri": "https://localhost:8080/"
        },
        "id": "mH0ICh8_paq2",
        "outputId": "d87dd498-c267-48fb-b98f-e0aa73c51956"
      },
      "execution_count": 5,
      "outputs": [
        {
          "output_type": "stream",
          "name": "stdout",
          "text": [
            "2.1.4\n",
            "0.10.0\n"
          ]
        }
      ]
    },
    {
      "cell_type": "code",
      "source": [
        "!pip install yfinance"
      ],
      "metadata": {
        "colab": {
          "base_uri": "https://localhost:8080/"
        },
        "id": "tiQsZVNC-wjk",
        "outputId": "8ad87509-c238-4110-b62c-94c7f1257a48"
      },
      "execution_count": 6,
      "outputs": [
        {
          "output_type": "stream",
          "name": "stdout",
          "text": [
            "Requirement already satisfied: yfinance in /usr/local/lib/python3.10/dist-packages (0.2.43)\n",
            "Requirement already satisfied: pandas>=1.3.0 in /usr/local/lib/python3.10/dist-packages (from yfinance) (2.1.4)\n",
            "Requirement already satisfied: numpy>=1.16.5 in /usr/local/lib/python3.10/dist-packages (from yfinance) (1.26.4)\n",
            "Requirement already satisfied: requests>=2.31 in /usr/local/lib/python3.10/dist-packages (from yfinance) (2.32.3)\n",
            "Requirement already satisfied: multitasking>=0.0.7 in /usr/local/lib/python3.10/dist-packages (from yfinance) (0.0.11)\n",
            "Requirement already satisfied: lxml>=4.9.1 in /usr/local/lib/python3.10/dist-packages (from yfinance) (4.9.4)\n",
            "Requirement already satisfied: platformdirs>=2.0.0 in /usr/local/lib/python3.10/dist-packages (from yfinance) (4.3.2)\n",
            "Requirement already satisfied: pytz>=2022.5 in /usr/local/lib/python3.10/dist-packages (from yfinance) (2024.2)\n",
            "Requirement already satisfied: frozendict>=2.3.4 in /usr/local/lib/python3.10/dist-packages (from yfinance) (2.4.4)\n",
            "Requirement already satisfied: peewee>=3.16.2 in /usr/local/lib/python3.10/dist-packages (from yfinance) (3.17.6)\n",
            "Requirement already satisfied: beautifulsoup4>=4.11.1 in /usr/local/lib/python3.10/dist-packages (from yfinance) (4.12.3)\n",
            "Requirement already satisfied: html5lib>=1.1 in /usr/local/lib/python3.10/dist-packages (from yfinance) (1.1)\n",
            "Requirement already satisfied: soupsieve>1.2 in /usr/local/lib/python3.10/dist-packages (from beautifulsoup4>=4.11.1->yfinance) (2.6)\n",
            "Requirement already satisfied: six>=1.9 in /usr/local/lib/python3.10/dist-packages (from html5lib>=1.1->yfinance) (1.16.0)\n",
            "Requirement already satisfied: webencodings in /usr/local/lib/python3.10/dist-packages (from html5lib>=1.1->yfinance) (0.5.1)\n",
            "Requirement already satisfied: python-dateutil>=2.8.2 in /usr/local/lib/python3.10/dist-packages (from pandas>=1.3.0->yfinance) (2.8.2)\n",
            "Requirement already satisfied: tzdata>=2022.1 in /usr/local/lib/python3.10/dist-packages (from pandas>=1.3.0->yfinance) (2024.1)\n",
            "Requirement already satisfied: charset-normalizer<4,>=2 in /usr/local/lib/python3.10/dist-packages (from requests>=2.31->yfinance) (3.3.2)\n",
            "Requirement already satisfied: idna<4,>=2.5 in /usr/local/lib/python3.10/dist-packages (from requests>=2.31->yfinance) (3.8)\n",
            "Requirement already satisfied: urllib3<3,>=1.21.1 in /usr/local/lib/python3.10/dist-packages (from requests>=2.31->yfinance) (2.0.7)\n",
            "Requirement already satisfied: certifi>=2017.4.17 in /usr/local/lib/python3.10/dist-packages (from requests>=2.31->yfinance) (2024.8.30)\n"
          ]
        }
      ]
    },
    {
      "cell_type": "code",
      "source": [
        "import yfinance as yf\n",
        "\n",
        "# Fetch historical market data for Apple (AAPL)\n",
        "df = yf.download('AAPL', start='1984-09-14', end='2024-09-14')\n",
        "\n",
        "# Show the data\n",
        "print(df.head())\n"
      ],
      "metadata": {
        "colab": {
          "base_uri": "https://localhost:8080/"
        },
        "id": "Mjyl02chnuPI",
        "outputId": "e85c4322-5f61-4b50-a9ef-c4050a42339e"
      },
      "execution_count": 7,
      "outputs": [
        {
          "output_type": "stream",
          "name": "stderr",
          "text": [
            "\r[*********************100%***********************]  1 of 1 completed"
          ]
        },
        {
          "output_type": "stream",
          "name": "stdout",
          "text": [
            "                Open      High       Low     Close  Adj Close     Volume\n",
            "Date                                                                    \n",
            "1984-09-14  0.123326  0.127232  0.123326  0.124442   0.095932  246870400\n",
            "1984-09-17  0.127790  0.129464  0.127790  0.127790   0.098513  192752000\n",
            "1984-09-18  0.127790  0.128906  0.123326  0.123326   0.095072   97305600\n",
            "1984-09-19  0.123326  0.124442  0.120536  0.120536   0.092921  106288000\n",
            "1984-09-20  0.121094  0.122210  0.121094  0.121094   0.093351   66169600\n"
          ]
        },
        {
          "output_type": "stream",
          "name": "stderr",
          "text": [
            "\n"
          ]
        }
      ]
    },
    {
      "cell_type": "code",
      "source": [
        "df.to_csv('AAPL.csv')"
      ],
      "metadata": {
        "id": "fzOEoH0fq2Dd"
      },
      "execution_count": 8,
      "outputs": []
    },
    {
      "cell_type": "code",
      "source": [
        "import pandas as pd"
      ],
      "metadata": {
        "id": "GXeu0vQLrCCF"
      },
      "execution_count": 9,
      "outputs": []
    },
    {
      "cell_type": "code",
      "source": [
        "df=pd.read_csv('AAPL.csv')"
      ],
      "metadata": {
        "id": "fMjcCwqeq8XW"
      },
      "execution_count": 10,
      "outputs": []
    },
    {
      "cell_type": "code",
      "source": [
        "df.head()"
      ],
      "metadata": {
        "colab": {
          "base_uri": "https://localhost:8080/",
          "height": 206
        },
        "id": "IYnCkKVhrMbG",
        "outputId": "a6387efb-682e-4541-b8b8-393423cd0b75"
      },
      "execution_count": 11,
      "outputs": [
        {
          "output_type": "execute_result",
          "data": {
            "text/plain": [
              "         Date      Open      High       Low     Close  Adj Close     Volume\n",
              "0  1984-09-14  0.123326  0.127232  0.123326  0.124442   0.095932  246870400\n",
              "1  1984-09-17  0.127790  0.129464  0.127790  0.127790   0.098513  192752000\n",
              "2  1984-09-18  0.127790  0.128906  0.123326  0.123326   0.095072   97305600\n",
              "3  1984-09-19  0.123326  0.124442  0.120536  0.120536   0.092921  106288000\n",
              "4  1984-09-20  0.121094  0.122210  0.121094  0.121094   0.093351   66169600"
            ],
            "text/html": [
              "\n",
              "  <div id=\"df-39772097-2728-4a33-bc16-717d1cf802de\" class=\"colab-df-container\">\n",
              "    <div>\n",
              "<style scoped>\n",
              "    .dataframe tbody tr th:only-of-type {\n",
              "        vertical-align: middle;\n",
              "    }\n",
              "\n",
              "    .dataframe tbody tr th {\n",
              "        vertical-align: top;\n",
              "    }\n",
              "\n",
              "    .dataframe thead th {\n",
              "        text-align: right;\n",
              "    }\n",
              "</style>\n",
              "<table border=\"1\" class=\"dataframe\">\n",
              "  <thead>\n",
              "    <tr style=\"text-align: right;\">\n",
              "      <th></th>\n",
              "      <th>Date</th>\n",
              "      <th>Open</th>\n",
              "      <th>High</th>\n",
              "      <th>Low</th>\n",
              "      <th>Close</th>\n",
              "      <th>Adj Close</th>\n",
              "      <th>Volume</th>\n",
              "    </tr>\n",
              "  </thead>\n",
              "  <tbody>\n",
              "    <tr>\n",
              "      <th>0</th>\n",
              "      <td>1984-09-14</td>\n",
              "      <td>0.123326</td>\n",
              "      <td>0.127232</td>\n",
              "      <td>0.123326</td>\n",
              "      <td>0.124442</td>\n",
              "      <td>0.095932</td>\n",
              "      <td>246870400</td>\n",
              "    </tr>\n",
              "    <tr>\n",
              "      <th>1</th>\n",
              "      <td>1984-09-17</td>\n",
              "      <td>0.127790</td>\n",
              "      <td>0.129464</td>\n",
              "      <td>0.127790</td>\n",
              "      <td>0.127790</td>\n",
              "      <td>0.098513</td>\n",
              "      <td>192752000</td>\n",
              "    </tr>\n",
              "    <tr>\n",
              "      <th>2</th>\n",
              "      <td>1984-09-18</td>\n",
              "      <td>0.127790</td>\n",
              "      <td>0.128906</td>\n",
              "      <td>0.123326</td>\n",
              "      <td>0.123326</td>\n",
              "      <td>0.095072</td>\n",
              "      <td>97305600</td>\n",
              "    </tr>\n",
              "    <tr>\n",
              "      <th>3</th>\n",
              "      <td>1984-09-19</td>\n",
              "      <td>0.123326</td>\n",
              "      <td>0.124442</td>\n",
              "      <td>0.120536</td>\n",
              "      <td>0.120536</td>\n",
              "      <td>0.092921</td>\n",
              "      <td>106288000</td>\n",
              "    </tr>\n",
              "    <tr>\n",
              "      <th>4</th>\n",
              "      <td>1984-09-20</td>\n",
              "      <td>0.121094</td>\n",
              "      <td>0.122210</td>\n",
              "      <td>0.121094</td>\n",
              "      <td>0.121094</td>\n",
              "      <td>0.093351</td>\n",
              "      <td>66169600</td>\n",
              "    </tr>\n",
              "  </tbody>\n",
              "</table>\n",
              "</div>\n",
              "    <div class=\"colab-df-buttons\">\n",
              "\n",
              "  <div class=\"colab-df-container\">\n",
              "    <button class=\"colab-df-convert\" onclick=\"convertToInteractive('df-39772097-2728-4a33-bc16-717d1cf802de')\"\n",
              "            title=\"Convert this dataframe to an interactive table.\"\n",
              "            style=\"display:none;\">\n",
              "\n",
              "  <svg xmlns=\"http://www.w3.org/2000/svg\" height=\"24px\" viewBox=\"0 -960 960 960\">\n",
              "    <path d=\"M120-120v-720h720v720H120Zm60-500h600v-160H180v160Zm220 220h160v-160H400v160Zm0 220h160v-160H400v160ZM180-400h160v-160H180v160Zm440 0h160v-160H620v160ZM180-180h160v-160H180v160Zm440 0h160v-160H620v160Z\"/>\n",
              "  </svg>\n",
              "    </button>\n",
              "\n",
              "  <style>\n",
              "    .colab-df-container {\n",
              "      display:flex;\n",
              "      gap: 12px;\n",
              "    }\n",
              "\n",
              "    .colab-df-convert {\n",
              "      background-color: #E8F0FE;\n",
              "      border: none;\n",
              "      border-radius: 50%;\n",
              "      cursor: pointer;\n",
              "      display: none;\n",
              "      fill: #1967D2;\n",
              "      height: 32px;\n",
              "      padding: 0 0 0 0;\n",
              "      width: 32px;\n",
              "    }\n",
              "\n",
              "    .colab-df-convert:hover {\n",
              "      background-color: #E2EBFA;\n",
              "      box-shadow: 0px 1px 2px rgba(60, 64, 67, 0.3), 0px 1px 3px 1px rgba(60, 64, 67, 0.15);\n",
              "      fill: #174EA6;\n",
              "    }\n",
              "\n",
              "    .colab-df-buttons div {\n",
              "      margin-bottom: 4px;\n",
              "    }\n",
              "\n",
              "    [theme=dark] .colab-df-convert {\n",
              "      background-color: #3B4455;\n",
              "      fill: #D2E3FC;\n",
              "    }\n",
              "\n",
              "    [theme=dark] .colab-df-convert:hover {\n",
              "      background-color: #434B5C;\n",
              "      box-shadow: 0px 1px 3px 1px rgba(0, 0, 0, 0.15);\n",
              "      filter: drop-shadow(0px 1px 2px rgba(0, 0, 0, 0.3));\n",
              "      fill: #FFFFFF;\n",
              "    }\n",
              "  </style>\n",
              "\n",
              "    <script>\n",
              "      const buttonEl =\n",
              "        document.querySelector('#df-39772097-2728-4a33-bc16-717d1cf802de button.colab-df-convert');\n",
              "      buttonEl.style.display =\n",
              "        google.colab.kernel.accessAllowed ? 'block' : 'none';\n",
              "\n",
              "      async function convertToInteractive(key) {\n",
              "        const element = document.querySelector('#df-39772097-2728-4a33-bc16-717d1cf802de');\n",
              "        const dataTable =\n",
              "          await google.colab.kernel.invokeFunction('convertToInteractive',\n",
              "                                                    [key], {});\n",
              "        if (!dataTable) return;\n",
              "\n",
              "        const docLinkHtml = 'Like what you see? Visit the ' +\n",
              "          '<a target=\"_blank\" href=https://colab.research.google.com/notebooks/data_table.ipynb>data table notebook</a>'\n",
              "          + ' to learn more about interactive tables.';\n",
              "        element.innerHTML = '';\n",
              "        dataTable['output_type'] = 'display_data';\n",
              "        await google.colab.output.renderOutput(dataTable, element);\n",
              "        const docLink = document.createElement('div');\n",
              "        docLink.innerHTML = docLinkHtml;\n",
              "        element.appendChild(docLink);\n",
              "      }\n",
              "    </script>\n",
              "  </div>\n",
              "\n",
              "\n",
              "<div id=\"df-030e1344-2662-4dd7-afa7-2618b19fdcf7\">\n",
              "  <button class=\"colab-df-quickchart\" onclick=\"quickchart('df-030e1344-2662-4dd7-afa7-2618b19fdcf7')\"\n",
              "            title=\"Suggest charts\"\n",
              "            style=\"display:none;\">\n",
              "\n",
              "<svg xmlns=\"http://www.w3.org/2000/svg\" height=\"24px\"viewBox=\"0 0 24 24\"\n",
              "     width=\"24px\">\n",
              "    <g>\n",
              "        <path d=\"M19 3H5c-1.1 0-2 .9-2 2v14c0 1.1.9 2 2 2h14c1.1 0 2-.9 2-2V5c0-1.1-.9-2-2-2zM9 17H7v-7h2v7zm4 0h-2V7h2v10zm4 0h-2v-4h2v4z\"/>\n",
              "    </g>\n",
              "</svg>\n",
              "  </button>\n",
              "\n",
              "<style>\n",
              "  .colab-df-quickchart {\n",
              "      --bg-color: #E8F0FE;\n",
              "      --fill-color: #1967D2;\n",
              "      --hover-bg-color: #E2EBFA;\n",
              "      --hover-fill-color: #174EA6;\n",
              "      --disabled-fill-color: #AAA;\n",
              "      --disabled-bg-color: #DDD;\n",
              "  }\n",
              "\n",
              "  [theme=dark] .colab-df-quickchart {\n",
              "      --bg-color: #3B4455;\n",
              "      --fill-color: #D2E3FC;\n",
              "      --hover-bg-color: #434B5C;\n",
              "      --hover-fill-color: #FFFFFF;\n",
              "      --disabled-bg-color: #3B4455;\n",
              "      --disabled-fill-color: #666;\n",
              "  }\n",
              "\n",
              "  .colab-df-quickchart {\n",
              "    background-color: var(--bg-color);\n",
              "    border: none;\n",
              "    border-radius: 50%;\n",
              "    cursor: pointer;\n",
              "    display: none;\n",
              "    fill: var(--fill-color);\n",
              "    height: 32px;\n",
              "    padding: 0;\n",
              "    width: 32px;\n",
              "  }\n",
              "\n",
              "  .colab-df-quickchart:hover {\n",
              "    background-color: var(--hover-bg-color);\n",
              "    box-shadow: 0 1px 2px rgba(60, 64, 67, 0.3), 0 1px 3px 1px rgba(60, 64, 67, 0.15);\n",
              "    fill: var(--button-hover-fill-color);\n",
              "  }\n",
              "\n",
              "  .colab-df-quickchart-complete:disabled,\n",
              "  .colab-df-quickchart-complete:disabled:hover {\n",
              "    background-color: var(--disabled-bg-color);\n",
              "    fill: var(--disabled-fill-color);\n",
              "    box-shadow: none;\n",
              "  }\n",
              "\n",
              "  .colab-df-spinner {\n",
              "    border: 2px solid var(--fill-color);\n",
              "    border-color: transparent;\n",
              "    border-bottom-color: var(--fill-color);\n",
              "    animation:\n",
              "      spin 1s steps(1) infinite;\n",
              "  }\n",
              "\n",
              "  @keyframes spin {\n",
              "    0% {\n",
              "      border-color: transparent;\n",
              "      border-bottom-color: var(--fill-color);\n",
              "      border-left-color: var(--fill-color);\n",
              "    }\n",
              "    20% {\n",
              "      border-color: transparent;\n",
              "      border-left-color: var(--fill-color);\n",
              "      border-top-color: var(--fill-color);\n",
              "    }\n",
              "    30% {\n",
              "      border-color: transparent;\n",
              "      border-left-color: var(--fill-color);\n",
              "      border-top-color: var(--fill-color);\n",
              "      border-right-color: var(--fill-color);\n",
              "    }\n",
              "    40% {\n",
              "      border-color: transparent;\n",
              "      border-right-color: var(--fill-color);\n",
              "      border-top-color: var(--fill-color);\n",
              "    }\n",
              "    60% {\n",
              "      border-color: transparent;\n",
              "      border-right-color: var(--fill-color);\n",
              "    }\n",
              "    80% {\n",
              "      border-color: transparent;\n",
              "      border-right-color: var(--fill-color);\n",
              "      border-bottom-color: var(--fill-color);\n",
              "    }\n",
              "    90% {\n",
              "      border-color: transparent;\n",
              "      border-bottom-color: var(--fill-color);\n",
              "    }\n",
              "  }\n",
              "</style>\n",
              "\n",
              "  <script>\n",
              "    async function quickchart(key) {\n",
              "      const quickchartButtonEl =\n",
              "        document.querySelector('#' + key + ' button');\n",
              "      quickchartButtonEl.disabled = true;  // To prevent multiple clicks.\n",
              "      quickchartButtonEl.classList.add('colab-df-spinner');\n",
              "      try {\n",
              "        const charts = await google.colab.kernel.invokeFunction(\n",
              "            'suggestCharts', [key], {});\n",
              "      } catch (error) {\n",
              "        console.error('Error during call to suggestCharts:', error);\n",
              "      }\n",
              "      quickchartButtonEl.classList.remove('colab-df-spinner');\n",
              "      quickchartButtonEl.classList.add('colab-df-quickchart-complete');\n",
              "    }\n",
              "    (() => {\n",
              "      let quickchartButtonEl =\n",
              "        document.querySelector('#df-030e1344-2662-4dd7-afa7-2618b19fdcf7 button');\n",
              "      quickchartButtonEl.style.display =\n",
              "        google.colab.kernel.accessAllowed ? 'block' : 'none';\n",
              "    })();\n",
              "  </script>\n",
              "</div>\n",
              "\n",
              "    </div>\n",
              "  </div>\n"
            ],
            "application/vnd.google.colaboratory.intrinsic+json": {
              "type": "dataframe",
              "variable_name": "df",
              "summary": "{\n  \"name\": \"df\",\n  \"rows\": 10080,\n  \"fields\": [\n    {\n      \"column\": \"Date\",\n      \"properties\": {\n        \"dtype\": \"object\",\n        \"num_unique_values\": 10080,\n        \"samples\": [\n          \"2023-09-07\",\n          \"1984-10-31\",\n          \"1990-02-14\"\n        ],\n        \"semantic_type\": \"\",\n        \"description\": \"\"\n      }\n    },\n    {\n      \"column\": \"Open\",\n      \"properties\": {\n        \"dtype\": \"number\",\n        \"std\": 48.79752952796189,\n        \"min\": 0.0652899965643882,\n        \"max\": 236.47999572753903,\n        \"num_unique_values\": 6284,\n        \"samples\": [\n          28.897499084472656,\n          17.973928451538086,\n          172.25999450683594\n        ],\n        \"semantic_type\": \"\",\n        \"description\": \"\"\n      }\n    },\n    {\n      \"column\": \"High\",\n      \"properties\": {\n        \"dtype\": \"number\",\n        \"std\": 49.32042519986708,\n        \"min\": 0.0658480003476142,\n        \"max\": 237.22999572753903,\n        \"num_unique_values\": 6240,\n        \"samples\": [\n          20.20892906188965,\n          2.21821403503418,\n          24.747499465942383\n        ],\n        \"semantic_type\": \"\",\n        \"description\": \"\"\n      }\n    },\n    {\n      \"column\": \"Low\",\n      \"properties\": {\n        \"dtype\": \"number\",\n        \"std\": 48.305532305173976,\n        \"min\": 0.0647320002317428,\n        \"max\": 233.08999633789065,\n        \"num_unique_values\": 6225,\n        \"samples\": [\n          0.2790180146694183,\n          0.2773210108280182,\n          175.27000427246094\n        ],\n        \"semantic_type\": \"\",\n        \"description\": \"\"\n      }\n    },\n    {\n      \"column\": \"Close\",\n      \"properties\": {\n        \"dtype\": \"number\",\n        \"std\": 48.83608651160755,\n        \"min\": 0.0647320002317428,\n        \"max\": 234.82000732421875,\n        \"num_unique_values\": 6401,\n        \"samples\": [\n          0.3417859971523285,\n          24.170000076293945,\n          53.32500076293945\n        ],\n        \"semantic_type\": \"\",\n        \"description\": \"\"\n      }\n    },\n    {\n      \"column\": \"Adj Close\",\n      \"properties\": {\n        \"dtype\": \"number\",\n        \"std\": 48.394363654888714,\n        \"min\": 0.0499017834663391,\n        \"max\": 234.54852294921875,\n        \"num_unique_values\": 7912,\n        \"samples\": [\n          0.3570922613143921,\n          168.35562133789062,\n          10.652754783630373\n        ],\n        \"semantic_type\": \"\",\n        \"description\": \"\"\n      }\n    },\n    {\n      \"column\": \"Volume\",\n      \"properties\": {\n        \"dtype\": \"number\",\n        \"std\": 341916112,\n        \"min\": 2396800,\n        \"max\": 7421640800,\n        \"num_unique_values\": 9655,\n        \"samples\": [\n          259309200,\n          658198800,\n          404320000\n        ],\n        \"semantic_type\": \"\",\n        \"description\": \"\"\n      }\n    }\n  ]\n}"
            }
          },
          "metadata": {},
          "execution_count": 11
        }
      ]
    },
    {
      "source": [
        "# @title High vs Low\n",
        "\n",
        "from matplotlib import pyplot as plt\n",
        "df.plot(kind='scatter', x='High', y='Low', s=32, alpha=.8)\n",
        "plt.gca().spines[['top', 'right',]].set_visible(False)"
      ],
      "cell_type": "code",
      "execution_count": 12,
      "outputs": [
        {
          "output_type": "display_data",
          "data": {
            "text/plain": [
              "<Figure size 640x480 with 1 Axes>"
            ],
            "image/png": "[encoded data removed]"
          },
          "metadata": {}
        }
      ],
      "metadata": {
        "cellView": "form",
        "colab": {
          "base_uri": "https://localhost:8080/",
          "height": 449
        },
        "id": "0MDiwU-U9Pgj",
        "outputId": "419d2b1f-f0aa-42fb-d5e1-abd2a282cfa6"
      }
    },
    {
      "cell_type": "code",
      "source": [
        "df.tail()"
      ],
      "metadata": {
        "colab": {
          "base_uri": "https://localhost:8080/",
          "height": 206
        },
        "id": "bi7DX6kbrWVS",
        "outputId": "6b460da1-b070-4fac-9aab-e0a9b9d4dfaf"
      },
      "execution_count": 12,
      "outputs": [
        {
          "output_type": "execute_result",
          "data": {
            "text/plain": [
              "             Date        Open        High         Low       Close   Adj Close  \\\n",
              "10075  2024-09-09  220.820007  221.270004  216.710007  220.910004  220.910004   \n",
              "10076  2024-09-10  218.919998  221.479996  216.729996  220.110001  220.110001   \n",
              "10077  2024-09-11  221.460007  223.089996  217.889999  222.660004  222.660004   \n",
              "10078  2024-09-12  222.500000  223.550003  219.820007  222.770004  222.770004   \n",
              "10079  2024-09-13  223.580002  224.039993  221.910004  222.500000  222.500000   \n",
              "\n",
              "         Volume  \n",
              "10075  67180000  \n",
              "10076  51591000  \n",
              "10077  44587100  \n",
              "10078  37498200  \n",
              "10079  36722900  "
            ],
            "text/html": [
              "\n",
              "  <div id=\"df-b37cd358-ea0a-49d6-b82f-6ab0ac029752\" class=\"colab-df-container\">\n",
              "    <div>\n",
              "<style scoped>\n",
              "    .dataframe tbody tr th:only-of-type {\n",
              "        vertical-align: middle;\n",
              "    }\n",
              "\n",
              "    .dataframe tbody tr th {\n",
              "        vertical-align: top;\n",
              "    }\n",
              "\n",
              "    .dataframe thead th {\n",
              "        text-align: right;\n",
              "    }\n",
              "</style>\n",
              "<table border=\"1\" class=\"dataframe\">\n",
              "  <thead>\n",
              "    <tr style=\"text-align: right;\">\n",
              "      <th></th>\n",
              "      <th>Date</th>\n",
              "      <th>Open</th>\n",
              "      <th>High</th>\n",
              "      <th>Low</th>\n",
              "      <th>Close</th>\n",
              "      <th>Adj Close</th>\n",
              "      <th>Volume</th>\n",
              "    </tr>\n",
              "  </thead>\n",
              "  <tbody>\n",
              "    <tr>\n",
              "      <th>10075</th>\n",
              "      <td>2024-09-09</td>\n",
              "      <td>220.820007</td>\n",
              "      <td>221.270004</td>\n",
              "      <td>216.710007</td>\n",
              "      <td>220.910004</td>\n",
              "      <td>220.910004</td>\n",
              "      <td>67180000</td>\n",
              "    </tr>\n",
              "    <tr>\n",
              "      <th>10076</th>\n",
              "      <td>2024-09-10</td>\n",
              "      <td>218.919998</td>\n",
              "      <td>221.479996</td>\n",
              "      <td>216.729996</td>\n",
              "      <td>220.110001</td>\n",
              "      <td>220.110001</td>\n",
              "      <td>51591000</td>\n",
              "    </tr>\n",
              "    <tr>\n",
              "      <th>10077</th>\n",
              "      <td>2024-09-11</td>\n",
              "      <td>221.460007</td>\n",
              "      <td>223.089996</td>\n",
              "      <td>217.889999</td>\n",
              "      <td>222.660004</td>\n",
              "      <td>222.660004</td>\n",
              "      <td>44587100</td>\n",
              "    </tr>\n",
              "    <tr>\n",
              "      <th>10078</th>\n",
              "      <td>2024-09-12</td>\n",
              "      <td>222.500000</td>\n",
              "      <td>223.550003</td>\n",
              "      <td>219.820007</td>\n",
              "      <td>222.770004</td>\n",
              "      <td>222.770004</td>\n",
              "      <td>37498200</td>\n",
              "    </tr>\n",
              "    <tr>\n",
              "      <th>10079</th>\n",
              "      <td>2024-09-13</td>\n",
              "      <td>223.580002</td>\n",
              "      <td>224.039993</td>\n",
              "      <td>221.910004</td>\n",
              "      <td>222.500000</td>\n",
              "      <td>222.500000</td>\n",
              "      <td>36722900</td>\n",
              "    </tr>\n",
              "  </tbody>\n",
              "</table>\n",
              "</div>\n",
              "    <div class=\"colab-df-buttons\">\n",
              "\n",
              "  <div class=\"colab-df-container\">\n",
              "    <button class=\"colab-df-convert\" onclick=\"convertToInteractive('df-b37cd358-ea0a-49d6-b82f-6ab0ac029752')\"\n",
              "            title=\"Convert this dataframe to an interactive table.\"\n",
              "            style=\"display:none;\">\n",
              "\n",
              "  <svg xmlns=\"http://www.w3.org/2000/svg\" height=\"24px\" viewBox=\"0 -960 960 960\">\n",
              "    <path d=\"M120-120v-720h720v720H120Zm60-500h600v-160H180v160Zm220 220h160v-160H400v160Zm0 220h160v-160H400v160ZM180-400h160v-160H180v160Zm440 0h160v-160H620v160ZM180-180h160v-160H180v160Zm440 0h160v-160H620v160Z\"/>\n",
              "  </svg>\n",
              "    </button>\n",
              "\n",
              "  <style>\n",
              "    .colab-df-container {\n",
              "      display:flex;\n",
              "      gap: 12px;\n",
              "    }\n",
              "\n",
              "    .colab-df-convert {\n",
              "      background-color: #E8F0FE;\n",
              "      border: none;\n",
              "      border-radius: 50%;\n",
              "      cursor: pointer;\n",
              "      display: none;\n",
              "      fill: #1967D2;\n",
              "      height: 32px;\n",
              "      padding: 0 0 0 0;\n",
              "      width: 32px;\n",
              "    }\n",
              "\n",
              "    .colab-df-convert:hover {\n",
              "      background-color: #E2EBFA;\n",
              "      box-shadow: 0px 1px 2px rgba(60, 64, 67, 0.3), 0px 1px 3px 1px rgba(60, 64, 67, 0.15);\n",
              "      fill: #174EA6;\n",
              "    }\n",
              "\n",
              "    .colab-df-buttons div {\n",
              "      margin-bottom: 4px;\n",
              "    }\n",
              "\n",
              "    [theme=dark] .colab-df-convert {\n",
              "      background-color: #3B4455;\n",
              "      fill: #D2E3FC;\n",
              "    }\n",
              "\n",
              "    [theme=dark] .colab-df-convert:hover {\n",
              "      background-color: #434B5C;\n",
              "      box-shadow: 0px 1px 3px 1px rgba(0, 0, 0, 0.15);\n",
              "      filter: drop-shadow(0px 1px 2px rgba(0, 0, 0, 0.3));\n",
              "      fill: #FFFFFF;\n",
              "    }\n",
              "  </style>\n",
              "\n",
              "    <script>\n",
              "      const buttonEl =\n",
              "        document.querySelector('#df-b37cd358-ea0a-49d6-b82f-6ab0ac029752 button.colab-df-convert');\n",
              "      buttonEl.style.display =\n",
              "        google.colab.kernel.accessAllowed ? 'block' : 'none';\n",
              "\n",
              "      async function convertToInteractive(key) {\n",
              "        const element = document.querySelector('#df-b37cd358-ea0a-49d6-b82f-6ab0ac029752');\n",
              "        const dataTable =\n",
              "          await google.colab.kernel.invokeFunction('convertToInteractive',\n",
              "                                                    [key], {});\n",
              "        if (!dataTable) return;\n",
              "\n",
              "        const docLinkHtml = 'Like what you see? Visit the ' +\n",
              "          '<a target=\"_blank\" href=https://colab.research.google.com/notebooks/data_table.ipynb>data table notebook</a>'\n",
              "          + ' to learn more about interactive tables.';\n",
              "        element.innerHTML = '';\n",
              "        dataTable['output_type'] = 'display_data';\n",
              "        await google.colab.output.renderOutput(dataTable, element);\n",
              "        const docLink = document.createElement('div');\n",
              "        docLink.innerHTML = docLinkHtml;\n",
              "        element.appendChild(docLink);\n",
              "      }\n",
              "    </script>\n",
              "  </div>\n",
              "\n",
              "\n",
              "<div id=\"df-96d4fd6d-ce89-4f19-a552-52bde2433e3f\">\n",
              "  <button class=\"colab-df-quickchart\" onclick=\"quickchart('df-96d4fd6d-ce89-4f19-a552-52bde2433e3f')\"\n",
              "            title=\"Suggest charts\"\n",
              "            style=\"display:none;\">\n",
              "\n",
              "<svg xmlns=\"http://www.w3.org/2000/svg\" height=\"24px\"viewBox=\"0 0 24 24\"\n",
              "     width=\"24px\">\n",
              "    <g>\n",
              "        <path d=\"M19 3H5c-1.1 0-2 .9-2 2v14c0 1.1.9 2 2 2h14c1.1 0 2-.9 2-2V5c0-1.1-.9-2-2-2zM9 17H7v-7h2v7zm4 0h-2V7h2v10zm4 0h-2v-4h2v4z\"/>\n",
              "    </g>\n",
              "</svg>\n",
              "  </button>\n",
              "\n",
              "<style>\n",
              "  .colab-df-quickchart {\n",
              "      --bg-color: #E8F0FE;\n",
              "      --fill-color: #1967D2;\n",
              "      --hover-bg-color: #E2EBFA;\n",
              "      --hover-fill-color: #174EA6;\n",
              "      --disabled-fill-color: #AAA;\n",
              "      --disabled-bg-color: #DDD;\n",
              "  }\n",
              "\n",
              "  [theme=dark] .colab-df-quickchart {\n",
              "      --bg-color: #3B4455;\n",
              "      --fill-color: #D2E3FC;\n",
              "      --hover-bg-color: #434B5C;\n",
              "      --hover-fill-color: #FFFFFF;\n",
              "      --disabled-bg-color: #3B4455;\n",
              "      --disabled-fill-color: #666;\n",
              "  }\n",
              "\n",
              "  .colab-df-quickchart {\n",
              "    background-color: var(--bg-color);\n",
              "    border: none;\n",
              "    border-radius: 50%;\n",
              "    cursor: pointer;\n",
              "    display: none;\n",
              "    fill: var(--fill-color);\n",
              "    height: 32px;\n",
              "    padding: 0;\n",
              "    width: 32px;\n",
              "  }\n",
              "\n",
              "  .colab-df-quickchart:hover {\n",
              "    background-color: var(--hover-bg-color);\n",
              "    box-shadow: 0 1px 2px rgba(60, 64, 67, 0.3), 0 1px 3px 1px rgba(60, 64, 67, 0.15);\n",
              "    fill: var(--button-hover-fill-color);\n",
              "  }\n",
              "\n",
              "  .colab-df-quickchart-complete:disabled,\n",
              "  .colab-df-quickchart-complete:disabled:hover {\n",
              "    background-color: var(--disabled-bg-color);\n",
              "    fill: var(--disabled-fill-color);\n",
              "    box-shadow: none;\n",
              "  }\n",
              "\n",
              "  .colab-df-spinner {\n",
              "    border: 2px solid var(--fill-color);\n",
              "    border-color: transparent;\n",
              "    border-bottom-color: var(--fill-color);\n",
              "    animation:\n",
              "      spin 1s steps(1) infinite;\n",
              "  }\n",
              "\n",
              "  @keyframes spin {\n",
              "    0% {\n",
              "      border-color: transparent;\n",
              "      border-bottom-color: var(--fill-color);\n",
              "      border-left-color: var(--fill-color);\n",
              "    }\n",
              "    20% {\n",
              "      border-color: transparent;\n",
              "      border-left-color: var(--fill-color);\n",
              "      border-top-color: var(--fill-color);\n",
              "    }\n",
              "    30% {\n",
              "      border-color: transparent;\n",
              "      border-left-color: var(--fill-color);\n",
              "      border-top-color: var(--fill-color);\n",
              "      border-right-color: var(--fill-color);\n",
              "    }\n",
              "    40% {\n",
              "      border-color: transparent;\n",
              "      border-right-color: var(--fill-color);\n",
              "      border-top-color: var(--fill-color);\n",
              "    }\n",
              "    60% {\n",
              "      border-color: transparent;\n",
              "      border-right-color: var(--fill-color);\n",
              "    }\n",
              "    80% {\n",
              "      border-color: transparent;\n",
              "      border-right-color: var(--fill-color);\n",
              "      border-bottom-color: var(--fill-color);\n",
              "    }\n",
              "    90% {\n",
              "      border-color: transparent;\n",
              "      border-bottom-color: var(--fill-color);\n",
              "    }\n",
              "  }\n",
              "</style>\n",
              "\n",
              "  <script>\n",
              "    async function quickchart(key) {\n",
              "      const quickchartButtonEl =\n",
              "        document.querySelector('#' + key + ' button');\n",
              "      quickchartButtonEl.disabled = true;  // To prevent multiple clicks.\n",
              "      quickchartButtonEl.classList.add('colab-df-spinner');\n",
              "      try {\n",
              "        const charts = await google.colab.kernel.invokeFunction(\n",
              "            'suggestCharts', [key], {});\n",
              "      } catch (error) {\n",
              "        console.error('Error during call to suggestCharts:', error);\n",
              "      }\n",
              "      quickchartButtonEl.classList.remove('colab-df-spinner');\n",
              "      quickchartButtonEl.classList.add('colab-df-quickchart-complete');\n",
              "    }\n",
              "    (() => {\n",
              "      let quickchartButtonEl =\n",
              "        document.querySelector('#df-96d4fd6d-ce89-4f19-a552-52bde2433e3f button');\n",
              "      quickchartButtonEl.style.display =\n",
              "        google.colab.kernel.accessAllowed ? 'block' : 'none';\n",
              "    })();\n",
              "  </script>\n",
              "</div>\n",
              "\n",
              "    </div>\n",
              "  </div>\n"
            ],
            "application/vnd.google.colaboratory.intrinsic+json": {
              "type": "dataframe",
              "repr_error": "0"
            }
          },
          "metadata": {},
          "execution_count": 12
        }
      ]
    },
    {
      "cell_type": "code",
      "source": [
        "df1=df.reset_index()['Close']"
      ],
      "metadata": {
        "id": "MuGwQJAdrYO4"
      },
      "execution_count": 13,
      "outputs": []
    },
    {
      "cell_type": "code",
      "source": [
        "df1"
      ],
      "metadata": {
        "colab": {
          "base_uri": "https://localhost:8080/",
          "height": 458
        },
        "id": "oofKfMZprgPJ",
        "outputId": "09fc82a6-0d07-4aed-8052-cbcf0aeb09d5"
      },
      "execution_count": 14,
      "outputs": [
        {
          "output_type": "execute_result",
          "data": {
            "text/plain": [
              "0          0.124442\n",
              "1          0.127790\n",
              "2          0.123326\n",
              "3          0.120536\n",
              "4          0.121094\n",
              "            ...    \n",
              "10075    220.910004\n",
              "10076    220.110001\n",
              "10077    222.660004\n",
              "10078    222.770004\n",
              "10079    222.500000\n",
              "Name: Close, Length: 10080, dtype: float64"
            ],
            "text/html": [
              "<div>\n",
              "<style scoped>\n",
              "    .dataframe tbody tr th:only-of-type {\n",
              "        vertical-align: middle;\n",
              "    }\n",
              "\n",
              "    .dataframe tbody tr th {\n",
              "        vertical-align: top;\n",
              "    }\n",
              "\n",
              "    .dataframe thead th {\n",
              "        text-align: right;\n",
              "    }\n",
              "</style>\n",
              "<table border=\"1\" class=\"dataframe\">\n",
              "  <thead>\n",
              "    <tr style=\"text-align: right;\">\n",
              "      <th></th>\n",
              "      <th>Close</th>\n",
              "    </tr>\n",
              "  </thead>\n",
              "  <tbody>\n",
              "    <tr>\n",
              "      <th>0</th>\n",
              "      <td>0.124442</td>\n",
              "    </tr>\n",
              "    <tr>\n",
              "      <th>1</th>\n",
              "      <td>0.127790</td>\n",
              "    </tr>\n",
              "    <tr>\n",
              "      <th>2</th>\n",
              "      <td>0.123326</td>\n",
              "    </tr>\n",
              "    <tr>\n",
              "      <th>3</th>\n",
              "      <td>0.120536</td>\n",
              "    </tr>\n",
              "    <tr>\n",
              "      <th>4</th>\n",
              "      <td>0.121094</td>\n",
              "    </tr>\n",
              "    <tr>\n",
              "      <th>...</th>\n",
              "      <td>...</td>\n",
              "    </tr>\n",
              "    <tr>\n",
              "      <th>10075</th>\n",
              "      <td>220.910004</td>\n",
              "    </tr>\n",
              "    <tr>\n",
              "      <th>10076</th>\n",
              "      <td>220.110001</td>\n",
              "    </tr>\n",
              "    <tr>\n",
              "      <th>10077</th>\n",
              "      <td>222.660004</td>\n",
              "    </tr>\n",
              "    <tr>\n",
              "      <th>10078</th>\n",
              "      <td>222.770004</td>\n",
              "    </tr>\n",
              "    <tr>\n",
              "      <th>10079</th>\n",
              "      <td>222.500000</td>\n",
              "    </tr>\n",
              "  </tbody>\n",
              "</table>\n",
              "<p>10080 rows × 1 columns</p>\n",
              "</div><br><label><b>dtype:</b> float64</label>"
            ]
          },
          "metadata": {},
          "execution_count": 14
        }
      ]
    },
    {
      "cell_type": "code",
      "source": [
        "import matplotlib.pyplot as plt\n",
        "plt.plot(df1)"
      ],
      "metadata": {
        "colab": {
          "base_uri": "https://localhost:8080/",
          "height": 447
        },
        "id": "MUOOSmuNrt34",
        "outputId": "74e27bb4-d73c-4476-c7a4-cac2abe969d6"
      },
      "execution_count": 15,
      "outputs": [
        {
          "output_type": "execute_result",
          "data": {
            "text/plain": [
              "[<matplotlib.lines.Line2D at 0x7ef258fc1720>]"
            ]
          },
          "metadata": {},
          "execution_count": 15
        },
        {
          "output_type": "display_data",
          "data": {
            "text/plain": [
              "<Figure size 640x480 with 1 Axes>"
            ],
            "image/png": "[encoded data removed]"
          },
          "metadata": {}
        }
      ]
    },
    {
      "cell_type": "code",
      "source": [
        "import numpy as np"
      ],
      "metadata": {
        "id": "6uiqhSifrxYx"
      },
      "execution_count": 16,
      "outputs": []
    },
    {
      "cell_type": "code",
      "source": [
        "df1"
      ],
      "metadata": {
        "colab": {
          "base_uri": "https://localhost:8080/",
          "height": 458
        },
        "id": "92jgnLghrzyc",
        "outputId": "39229e9d-289d-4e90-843c-d82e3424e33b"
      },
      "execution_count": 17,
      "outputs": [
        {
          "output_type": "execute_result",
          "data": {
            "text/plain": [
              "0          0.124442\n",
              "1          0.127790\n",
              "2          0.123326\n",
              "3          0.120536\n",
              "4          0.121094\n",
              "            ...    \n",
              "10075    220.910004\n",
              "10076    220.110001\n",
              "10077    222.660004\n",
              "10078    222.770004\n",
              "10079    222.500000\n",
              "Name: Close, Length: 10080, dtype: float64"
            ],
            "text/html": [
              "<div>\n",
              "<style scoped>\n",
              "    .dataframe tbody tr th:only-of-type {\n",
              "        vertical-align: middle;\n",
              "    }\n",
              "\n",
              "    .dataframe tbody tr th {\n",
              "        vertical-align: top;\n",
              "    }\n",
              "\n",
              "    .dataframe thead th {\n",
              "        text-align: right;\n",
              "    }\n",
              "</style>\n",
              "<table border=\"1\" class=\"dataframe\">\n",
              "  <thead>\n",
              "    <tr style=\"text-align: right;\">\n",
              "      <th></th>\n",
              "      <th>Close</th>\n",
              "    </tr>\n",
              "  </thead>\n",
              "  <tbody>\n",
              "    <tr>\n",
              "      <th>0</th>\n",
              "      <td>0.124442</td>\n",
              "    </tr>\n",
              "    <tr>\n",
              "      <th>1</th>\n",
              "      <td>0.127790</td>\n",
              "    </tr>\n",
              "    <tr>\n",
              "      <th>2</th>\n",
              "      <td>0.123326</td>\n",
              "    </tr>\n",
              "    <tr>\n",
              "      <th>3</th>\n",
              "      <td>0.120536</td>\n",
              "    </tr>\n",
              "    <tr>\n",
              "      <th>4</th>\n",
              "      <td>0.121094</td>\n",
              "    </tr>\n",
              "    <tr>\n",
              "      <th>...</th>\n",
              "      <td>...</td>\n",
              "    </tr>\n",
              "    <tr>\n",
              "      <th>10075</th>\n",
              "      <td>220.910004</td>\n",
              "    </tr>\n",
              "    <tr>\n",
              "      <th>10076</th>\n",
              "      <td>220.110001</td>\n",
              "    </tr>\n",
              "    <tr>\n",
              "      <th>10077</th>\n",
              "      <td>222.660004</td>\n",
              "    </tr>\n",
              "    <tr>\n",
              "      <th>10078</th>\n",
              "      <td>222.770004</td>\n",
              "    </tr>\n",
              "    <tr>\n",
              "      <th>10079</th>\n",
              "      <td>222.500000</td>\n",
              "    </tr>\n",
              "  </tbody>\n",
              "</table>\n",
              "<p>10080 rows × 1 columns</p>\n",
              "</div><br><label><b>dtype:</b> float64</label>"
            ]
          },
          "metadata": {},
          "execution_count": 17
        }
      ]
    },
    {
      "cell_type": "code",
      "source": [
        "from sklearn.preprocessing import MinMaxScaler\n",
        "scaler=MinMaxScaler(feature_range=(0,1))\n",
        "df1=scaler.fit_transform(np.array(df1).reshape(-1,1))"
      ],
      "metadata": {
        "id": "v-gPriP-r3ML"
      },
      "execution_count": 18,
      "outputs": []
    },
    {
      "cell_type": "code",
      "source": [
        "print(df1)"
      ],
      "metadata": {
        "colab": {
          "base_uri": "https://localhost:8080/"
        },
        "id": "mvE8mmSbr_qo",
        "outputId": "f34f131d-720d-492e-9f14-00a5055a2450"
      },
      "execution_count": 19,
      "outputs": [
        {
          "output_type": "stream",
          "name": "stdout",
          "text": [
            "[[2.54349996e-04]\n",
            " [2.68611658e-04]\n",
            " [2.49596109e-04]\n",
            " ...\n",
            " [9.48201361e-01]\n",
            " [9.48669937e-01]\n",
            " [9.47519785e-01]]\n"
          ]
        }
      ]
    },
    {
      "cell_type": "code",
      "source": [
        "##splitting dataset into train and test split\n",
        "training_size=int(len(df1)*0.65)\n",
        "test_size=len(df1)-training_size\n",
        "train_data,test_data=df1[0:training_size,:],df1[training_size:len(df1),:1]"
      ],
      "metadata": {
        "id": "GiN5lNPtsDGx"
      },
      "execution_count": 20,
      "outputs": []
    },
    {
      "cell_type": "code",
      "source": [
        "training_size,test_size"
      ],
      "metadata": {
        "colab": {
          "base_uri": "https://localhost:8080/"
        },
        "id": "ZWS8r1kPsHpZ",
        "outputId": "2a2e456e-d23d-42b2-e0ad-983e6bb5941a"
      },
      "execution_count": 21,
      "outputs": [
        {
          "output_type": "execute_result",
          "data": {
            "text/plain": [
              "(6552, 3528)"
            ]
          },
          "metadata": {},
          "execution_count": 21
        }
      ]
    },
    {
      "cell_type": "code",
      "source": [
        "train_data"
      ],
      "metadata": {
        "colab": {
          "base_uri": "https://localhost:8080/"
        },
        "id": "WLwxGZyrsMaQ",
        "outputId": "c02763ad-de41-4fdc-9a07-cebcc176eae2"
      },
      "execution_count": 22,
      "outputs": [
        {
          "output_type": "execute_result",
          "data": {
            "text/plain": [
              "array([[0.00025435],\n",
              "       [0.00026861],\n",
              "       [0.0002496 ],\n",
              "       ...,\n",
              "       [0.03808792],\n",
              "       [0.039092  ],\n",
              "       [0.03894596]])"
            ]
          },
          "metadata": {},
          "execution_count": 22
        }
      ]
    },
    {
      "cell_type": "code",
      "source": [
        "import numpy\n",
        "# convert an array of values into a dataset matrix\n",
        "def create_dataset(dataset, time_step=1):\n",
        "\tdataX, dataY = [], []\n",
        "\tfor i in range(len(dataset)-time_step-1):\n",
        "\t\ta = dataset[i:(i+time_step), 0]   ###i=0, 0,1,2,3-----99   100\n",
        "\t\tdataX.append(a)\n",
        "\t\tdataY.append(dataset[i + time_step, 0])\n",
        "\treturn numpy.array(dataX), numpy.array(dataY)"
      ],
      "metadata": {
        "id": "wY7KmDCDsOF-"
      },
      "execution_count": 23,
      "outputs": []
    },
    {
      "cell_type": "code",
      "source": [
        "# reshape into X=t,t+1,t+2,t+3 and Y=t+4\n",
        "time_step = 100\n",
        "X_train, y_train = create_dataset(train_data, time_step)\n",
        "X_test, ytest = create_dataset(test_data, time_step)"
      ],
      "metadata": {
        "id": "v8kby92fsy16"
      },
      "execution_count": 24,
      "outputs": []
    },
    {
      "cell_type": "code",
      "source": [
        "print(X_train.shape), print(y_train.shape)"
      ],
      "metadata": {
        "colab": {
          "base_uri": "https://localhost:8080/"
        },
        "id": "zWFG1GaHs25r",
        "outputId": "4f92f1cb-8e85-437c-dd78-a4d72916d832"
      },
      "execution_count": 25,
      "outputs": [
        {
          "output_type": "stream",
          "name": "stdout",
          "text": [
            "(6451, 100)\n",
            "(6451,)\n"
          ]
        },
        {
          "output_type": "execute_result",
          "data": {
            "text/plain": [
              "(None, None)"
            ]
          },
          "metadata": {},
          "execution_count": 25
        }
      ]
    },
    {
      "cell_type": "code",
      "source": [
        "print(X_test.shape), print(ytest.shape)"
      ],
      "metadata": {
        "colab": {
          "base_uri": "https://localhost:8080/"
        },
        "id": "kV8ft8Uas4lz",
        "outputId": "d4e770db-4197-4f87-be30-36406bfbd5e9"
      },
      "execution_count": 26,
      "outputs": [
        {
          "output_type": "stream",
          "name": "stdout",
          "text": [
            "(3427, 100)\n",
            "(3427,)\n"
          ]
        },
        {
          "output_type": "execute_result",
          "data": {
            "text/plain": [
              "(None, None)"
            ]
          },
          "metadata": {},
          "execution_count": 26
        }
      ]
    },
    {
      "cell_type": "code",
      "source": [
        "# reshape input to be [samples, time steps, features] which is required for LSTM\n",
        "X_train =X_train.reshape(X_train.shape[0],X_train.shape[1] , 1)\n",
        "X_test = X_test.reshape(X_test.shape[0],X_test.shape[1] , 1)"
      ],
      "metadata": {
        "id": "Y6wce5sPs8xa"
      },
      "execution_count": 27,
      "outputs": []
    },
    {
      "cell_type": "code",
      "source": [
        "### Create the Stacked LSTM model\n",
        "from tensorflow.keras.models import Sequential\n",
        "from tensorflow.keras.layers import Dense\n",
        "from tensorflow.keras.layers import LSTM"
      ],
      "metadata": {
        "id": "ubN-ew-Ds98a"
      },
      "execution_count": 28,
      "outputs": []
    },
    {
      "cell_type": "code",
      "source": [
        "# from keras.layers import BatchNormalization\n",
        "\n",
        "# model = Sequential()\n",
        "# model.add(LSTM(50, return_sequences=True, input_shape=(100, 1)))\n",
        "# model.add(BatchNormalization())  # Add batch normalization\n",
        "# model.add(LSTM(50, return_sequences=True))\n",
        "# model.add(BatchNormalization())\n",
        "# model.add(LSTM(50))\n",
        "# model.add(Dense(1))\n",
        "# model.compile(loss='mean_squared_error', optimizer='adam')\n"
      ],
      "metadata": {
        "colab": {
          "base_uri": "https://localhost:8080/"
        },
        "id": "EmxNfSQf_MfK",
        "outputId": "b581ed05-8ec9-45e0-d554-a3ab267457ca"
      },
      "execution_count": 29,
      "outputs": [
        {
          "output_type": "stream",
          "name": "stderr",
          "text": [
            "/usr/local/lib/python3.10/dist-packages/keras/src/layers/rnn/rnn.py:204: UserWarning: Do not pass an `input_shape`/`input_dim` argument to a layer. When using Sequential models, prefer using an `Input(shape)` object as the first layer in the model instead.\n",
            "  super().__init__(**kwargs)\n"
          ]
        }
      ]
    },
    {
      "cell_type": "code",
      "source": [
        "model=Sequential()\n",
        "model.add(LSTM(50,return_sequences=True,input_shape=(100,1)))\n",
        "model.add(LSTM(50,return_sequences=True))\n",
        "model.add(LSTM(50))\n",
        "model.add(Dense(1))\n",
        "model.compile(loss='mean_squared_error',optimizer='adam')"
      ],
      "metadata": {
        "colab": {
          "base_uri": "https://localhost:8080/"
        },
        "id": "ONIgGpGWtBa_",
        "outputId": "3d9cf71c-f0b9-412c-9f83-e20f6133b4bc"
      },
      "execution_count": 42,
      "outputs": [
        {
          "output_type": "stream",
          "name": "stderr",
          "text": [
            "/usr/local/lib/python3.10/dist-packages/keras/src/layers/rnn/rnn.py:204: UserWarning: Do not pass an `input_shape`/`input_dim` argument to a layer. When using Sequential models, prefer using an `Input(shape)` object as the first layer in the model instead.\n",
            "  super().__init__(**kwargs)\n"
          ]
        }
      ]
    },
    {
      "cell_type": "code",
      "source": [
        "import tensorflow as tf\n",
        "print(tf.__version__)"
      ],
      "metadata": {
        "colab": {
          "base_uri": "https://localhost:8080/"
        },
        "id": "5QK2DQHu_iSY",
        "outputId": "2159be3b-b4ca-4590-d42c-8ba2209e56d3"
      },
      "execution_count": 30,
      "outputs": [
        {
          "output_type": "stream",
          "name": "stdout",
          "text": [
            "2.17.0\n"
          ]
        }
      ]
    },
    {
      "cell_type": "code",
      "source": [
        "model.summary()"
      ],
      "metadata": {
        "colab": {
          "base_uri": "https://localhost:8080/",
          "height": 257
        },
        "id": "QdCsq5pctFfr",
        "outputId": "780039ef-f7cf-404f-99fd-a4f3a6339ccf"
      },
      "execution_count": 43,
      "outputs": [
        {
          "output_type": "display_data",
          "data": {
            "text/plain": [
              "\u001b[1mModel: \"sequential_1\"\u001b[0m\n"
            ],
            "text/html": [
              "<pre style=\"white-space:pre;overflow-x:auto;line-height:normal;font-family:Menlo,'DejaVu Sans Mono',consolas,'Courier New',monospace\"><span style=\"font-weight: bold\">Model: \"sequential_1\"</span>\n",
              "</pre>\n"
            ]
          },
          "metadata": {}
        },
        {
          "output_type": "display_data",
          "data": {
            "text/plain": [
              "┏━━━━━━━━━━━━━━━━━━━━━━━━━━━━━━━━━━━━━━┳━━━━━━━━━━━━━━━━━━━━━━━━━━━━━┳━━━━━━━━━━━━━━━━━┓\n",
              "┃\u001b[1m \u001b[0m\u001b[1mLayer (type)                        \u001b[0m\u001b[1m \u001b[0m┃\u001b[1m \u001b[0m\u001b[1mOutput Shape               \u001b[0m\u001b[1m \u001b[0m┃\u001b[1m \u001b[0m\u001b[1m        Param #\u001b[0m\u001b[1m \u001b[0m┃\n",
              "┡━━━━━━━━━━━━━━━━━━━━━━━━━━━━━━━━━━━━━━╇━━━━━━━━━━━━━━━━━━━━━━━━━━━━━╇━━━━━━━━━━━━━━━━━┩\n",
              "│ lstm_3 (\u001b[38;5;33mLSTM\u001b[0m)                        │ (\u001b[38;5;45mNone\u001b[0m, \u001b[38;5;34m100\u001b[0m, \u001b[38;5;34m50\u001b[0m)             │          \u001b[38;5;34m10,400\u001b[0m │\n",
              "├──────────────────────────────────────┼─────────────────────────────┼─────────────────┤\n",
              "│ lstm_4 (\u001b[38;5;33mLSTM\u001b[0m)                        │ (\u001b[38;5;45mNone\u001b[0m, \u001b[38;5;34m100\u001b[0m, \u001b[38;5;34m50\u001b[0m)             │          \u001b[38;5;34m20,200\u001b[0m │\n",
              "├──────────────────────────────────────┼─────────────────────────────┼─────────────────┤\n",
              "│ lstm_5 (\u001b[38;5;33mLSTM\u001b[0m)                        │ (\u001b[38;5;45mNone\u001b[0m, \u001b[38;5;34m50\u001b[0m)                  │          \u001b[38;5;34m20,200\u001b[0m │\n",
              "├──────────────────────────────────────┼─────────────────────────────┼─────────────────┤\n",
              "│ dense_1 (\u001b[38;5;33mDense\u001b[0m)                      │ (\u001b[38;5;45mNone\u001b[0m, \u001b[38;5;34m1\u001b[0m)                   │              \u001b[38;5;34m51\u001b[0m │\n",
              "└──────────────────────────────────────┴─────────────────────────────┴─────────────────┘\n"
            ],
            "text/html": [
              "<pre style=\"white-space:pre;overflow-x:auto;line-height:normal;font-family:Menlo,'DejaVu Sans Mono',consolas,'Courier New',monospace\">┏━━━━━━━━━━━━━━━━━━━━━━━━━━━━━━━━━━━━━━┳━━━━━━━━━━━━━━━━━━━━━━━━━━━━━┳━━━━━━━━━━━━━━━━━┓\n",
              "┃<span style=\"font-weight: bold\"> Layer (type)                         </span>┃<span style=\"font-weight: bold\"> Output Shape                </span>┃<span style=\"font-weight: bold\">         Param # </span>┃\n",
              "┡━━━━━━━━━━━━━━━━━━━━━━━━━━━━━━━━━━━━━━╇━━━━━━━━━━━━━━━━━━━━━━━━━━━━━╇━━━━━━━━━━━━━━━━━┩\n",
              "│ lstm_3 (<span style=\"color: #0087ff; text-decoration-color: #0087ff\">LSTM</span>)                        │ (<span style=\"color: #00d7ff; text-decoration-color: #00d7ff\">None</span>, <span style=\"color: #00af00; text-decoration-color: #00af00\">100</span>, <span style=\"color: #00af00; text-decoration-color: #00af00\">50</span>)             │          <span style=\"color: #00af00; text-decoration-color: #00af00\">10,400</span> │\n",
              "├──────────────────────────────────────┼─────────────────────────────┼─────────────────┤\n",
              "│ lstm_4 (<span style=\"color: #0087ff; text-decoration-color: #0087ff\">LSTM</span>)                        │ (<span style=\"color: #00d7ff; text-decoration-color: #00d7ff\">None</span>, <span style=\"color: #00af00; text-decoration-color: #00af00\">100</span>, <span style=\"color: #00af00; text-decoration-color: #00af00\">50</span>)             │          <span style=\"color: #00af00; text-decoration-color: #00af00\">20,200</span> │\n",
              "├──────────────────────────────────────┼─────────────────────────────┼─────────────────┤\n",
              "│ lstm_5 (<span style=\"color: #0087ff; text-decoration-color: #0087ff\">LSTM</span>)                        │ (<span style=\"color: #00d7ff; text-decoration-color: #00d7ff\">None</span>, <span style=\"color: #00af00; text-decoration-color: #00af00\">50</span>)                  │          <span style=\"color: #00af00; text-decoration-color: #00af00\">20,200</span> │\n",
              "├──────────────────────────────────────┼─────────────────────────────┼─────────────────┤\n",
              "│ dense_1 (<span style=\"color: #0087ff; text-decoration-color: #0087ff\">Dense</span>)                      │ (<span style=\"color: #00d7ff; text-decoration-color: #00d7ff\">None</span>, <span style=\"color: #00af00; text-decoration-color: #00af00\">1</span>)                   │              <span style=\"color: #00af00; text-decoration-color: #00af00\">51</span> │\n",
              "└──────────────────────────────────────┴─────────────────────────────┴─────────────────┘\n",
              "</pre>\n"
            ]
          },
          "metadata": {}
        },
        {
          "output_type": "display_data",
          "data": {
            "text/plain": [
              "\u001b[1m Total params: \u001b[0m\u001b[38;5;34m50,851\u001b[0m (198.64 KB)\n"
            ],
            "text/html": [
              "<pre style=\"white-space:pre;overflow-x:auto;line-height:normal;font-family:Menlo,'DejaVu Sans Mono',consolas,'Courier New',monospace\"><span style=\"font-weight: bold\"> Total params: </span><span style=\"color: #00af00; text-decoration-color: #00af00\">50,851</span> (198.64 KB)\n",
              "</pre>\n"
            ]
          },
          "metadata": {}
        },
        {
          "output_type": "display_data",
          "data": {
            "text/plain": [
              "\u001b[1m Trainable params: \u001b[0m\u001b[38;5;34m50,851\u001b[0m (198.64 KB)\n"
            ],
            "text/html": [
              "<pre style=\"white-space:pre;overflow-x:auto;line-height:normal;font-family:Menlo,'DejaVu Sans Mono',consolas,'Courier New',monospace\"><span style=\"font-weight: bold\"> Trainable params: </span><span style=\"color: #00af00; text-decoration-color: #00af00\">50,851</span> (198.64 KB)\n",
              "</pre>\n"
            ]
          },
          "metadata": {}
        },
        {
          "output_type": "display_data",
          "data": {
            "text/plain": [
              "\u001b[1m Non-trainable params: \u001b[0m\u001b[38;5;34m0\u001b[0m (0.00 B)\n"
            ],
            "text/html": [
              "<pre style=\"white-space:pre;overflow-x:auto;line-height:normal;font-family:Menlo,'DejaVu Sans Mono',consolas,'Courier New',monospace\"><span style=\"font-weight: bold\"> Non-trainable params: </span><span style=\"color: #00af00; text-decoration-color: #00af00\">0</span> (0.00 B)\n",
              "</pre>\n"
            ]
          },
          "metadata": {}
        }
      ]
    },
    {
      "cell_type": "code",
      "source": [
        "model.fit(X_train,y_train,validation_data=(X_test,ytest),epochs=100,batch_size=64,verbose=1)"
      ],
      "metadata": {
        "colab": {
          "base_uri": "https://localhost:8080/"
        },
        "id": "sbUkgZqqABnp",
        "outputId": "d23a1c52-bc00-4850-9f39-95a1f405e85e"
      },
      "execution_count": 44,
      "outputs": [
        {
          "output_type": "stream",
          "name": "stdout",
          "text": [
            "Epoch 1/100\n",
            "\u001b[1m101/101\u001b[0m \u001b[32m━━━━━━━━━━━━━━━━━━━━\u001b[0m\u001b[37m\u001b[0m \u001b[1m23s\u001b[0m 189ms/step - loss: 4.1557e-05 - val_loss: 0.0079\n",
            "Epoch 2/100\n",
            "\u001b[1m101/101\u001b[0m \u001b[32m━━━━━━━━━━━━━━━━━━━━\u001b[0m\u001b[37m\u001b[0m \u001b[1m17s\u001b[0m 172ms/step - loss: 6.3068e-07 - val_loss: 0.0070\n",
            "Epoch 3/100\n",
            "\u001b[1m101/101\u001b[0m \u001b[32m━━━━━━━━━━━━━━━━━━━━\u001b[0m\u001b[37m\u001b[0m \u001b[1m21s\u001b[0m 179ms/step - loss: 6.2632e-07 - val_loss: 0.0043\n",
            "Epoch 4/100\n",
            "\u001b[1m101/101\u001b[0m \u001b[32m━━━━━━━━━━━━━━━━━━━━\u001b[0m\u001b[37m\u001b[0m \u001b[1m20s\u001b[0m 171ms/step - loss: 6.2301e-07 - val_loss: 0.0053\n",
            "Epoch 5/100\n",
            "\u001b[1m101/101\u001b[0m \u001b[32m━━━━━━━━━━━━━━━━━━━━\u001b[0m\u001b[37m\u001b[0m \u001b[1m22s\u001b[0m 183ms/step - loss: 5.2988e-07 - val_loss: 0.0046\n",
            "Epoch 6/100\n",
            "\u001b[1m101/101\u001b[0m \u001b[32m━━━━━━━━━━━━━━━━━━━━\u001b[0m\u001b[37m\u001b[0m \u001b[1m19s\u001b[0m 172ms/step - loss: 5.8039e-07 - val_loss: 0.0031\n",
            "Epoch 7/100\n",
            "\u001b[1m101/101\u001b[0m \u001b[32m━━━━━━━━━━━━━━━━━━━━\u001b[0m\u001b[37m\u001b[0m \u001b[1m21s\u001b[0m 181ms/step - loss: 5.1495e-07 - val_loss: 0.0038\n",
            "Epoch 8/100\n",
            "\u001b[1m101/101\u001b[0m \u001b[32m━━━━━━━━━━━━━━━━━━━━\u001b[0m\u001b[37m\u001b[0m \u001b[1m20s\u001b[0m 172ms/step - loss: 5.5242e-07 - val_loss: 0.0028\n",
            "Epoch 9/100\n",
            "\u001b[1m101/101\u001b[0m \u001b[32m━━━━━━━━━━━━━━━━━━━━\u001b[0m\u001b[37m\u001b[0m \u001b[1m22s\u001b[0m 184ms/step - loss: 5.8737e-07 - val_loss: 0.0024\n",
            "Epoch 10/100\n",
            "\u001b[1m101/101\u001b[0m \u001b[32m━━━━━━━━━━━━━━━━━━━━\u001b[0m\u001b[37m\u001b[0m \u001b[1m19s\u001b[0m 173ms/step - loss: 3.9240e-07 - val_loss: 0.0013\n",
            "Epoch 11/100\n",
            "\u001b[1m101/101\u001b[0m \u001b[32m━━━━━━━━━━━━━━━━━━━━\u001b[0m\u001b[37m\u001b[0m \u001b[1m17s\u001b[0m 172ms/step - loss: 4.9299e-07 - val_loss: 0.0019\n",
            "Epoch 12/100\n",
            "\u001b[1m101/101\u001b[0m \u001b[32m━━━━━━━━━━━━━━━━━━━━\u001b[0m\u001b[37m\u001b[0m \u001b[1m20s\u001b[0m 170ms/step - loss: 4.7438e-07 - val_loss: 0.0030\n",
            "Epoch 13/100\n",
            "\u001b[1m101/101\u001b[0m \u001b[32m━━━━━━━━━━━━━━━━━━━━\u001b[0m\u001b[37m\u001b[0m \u001b[1m21s\u001b[0m 176ms/step - loss: 4.2224e-07 - val_loss: 0.0022\n",
            "Epoch 14/100\n",
            "\u001b[1m101/101\u001b[0m \u001b[32m━━━━━━━━━━━━━━━━━━━━\u001b[0m\u001b[37m\u001b[0m \u001b[1m20s\u001b[0m 173ms/step - loss: 3.2996e-07 - val_loss: 0.0017\n",
            "Epoch 15/100\n",
            "\u001b[1m101/101\u001b[0m \u001b[32m━━━━━━━━━━━━━━━━━━━━\u001b[0m\u001b[37m\u001b[0m \u001b[1m18s\u001b[0m 174ms/step - loss: 4.0958e-07 - val_loss: 0.0011\n",
            "Epoch 16/100\n",
            "\u001b[1m101/101\u001b[0m \u001b[32m━━━━━━━━━━━━━━━━━━━━\u001b[0m\u001b[37m\u001b[0m \u001b[1m20s\u001b[0m 172ms/step - loss: 4.0626e-07 - val_loss: 0.0023\n",
            "Epoch 17/100\n",
            "\u001b[1m101/101\u001b[0m \u001b[32m━━━━━━━━━━━━━━━━━━━━\u001b[0m\u001b[37m\u001b[0m \u001b[1m21s\u001b[0m 175ms/step - loss: 4.4760e-07 - val_loss: 7.0734e-04\n",
            "Epoch 18/100\n",
            "\u001b[1m101/101\u001b[0m \u001b[32m━━━━━━━━━━━━━━━━━━━━\u001b[0m\u001b[37m\u001b[0m \u001b[1m20s\u001b[0m 174ms/step - loss: 3.7017e-07 - val_loss: 8.9346e-04\n",
            "Epoch 19/100\n",
            "\u001b[1m101/101\u001b[0m \u001b[32m━━━━━━━━━━━━━━━━━━━━\u001b[0m\u001b[37m\u001b[0m \u001b[1m21s\u001b[0m 179ms/step - loss: 3.8964e-07 - val_loss: 0.0011\n",
            "Epoch 20/100\n",
            "\u001b[1m101/101\u001b[0m \u001b[32m━━━━━━━━━━━━━━━━━━━━\u001b[0m\u001b[37m\u001b[0m \u001b[1m20s\u001b[0m 171ms/step - loss: 4.8680e-07 - val_loss: 0.0021\n",
            "Epoch 21/100\n",
            "\u001b[1m101/101\u001b[0m \u001b[32m━━━━━━━━━━━━━━━━━━━━\u001b[0m\u001b[37m\u001b[0m \u001b[1m22s\u001b[0m 185ms/step - loss: 3.5814e-07 - val_loss: 0.0016\n",
            "Epoch 22/100\n",
            "\u001b[1m101/101\u001b[0m \u001b[32m━━━━━━━━━━━━━━━━━━━━\u001b[0m\u001b[37m\u001b[0m \u001b[1m17s\u001b[0m 172ms/step - loss: 3.4030e-07 - val_loss: 0.0015\n",
            "Epoch 23/100\n",
            "\u001b[1m101/101\u001b[0m \u001b[32m━━━━━━━━━━━━━━━━━━━━\u001b[0m\u001b[37m\u001b[0m \u001b[1m18s\u001b[0m 174ms/step - loss: 2.8521e-07 - val_loss: 0.0023\n",
            "Epoch 24/100\n",
            "\u001b[1m101/101\u001b[0m \u001b[32m━━━━━━━━━━━━━━━━━━━━\u001b[0m\u001b[37m\u001b[0m \u001b[1m18s\u001b[0m 177ms/step - loss: 4.5435e-07 - val_loss: 0.0015\n",
            "Epoch 25/100\n",
            "\u001b[1m101/101\u001b[0m \u001b[32m━━━━━━━━━━━━━━━━━━━━\u001b[0m\u001b[37m\u001b[0m \u001b[1m20s\u001b[0m 173ms/step - loss: 2.8770e-07 - val_loss: 0.0010\n",
            "Epoch 26/100\n",
            "\u001b[1m101/101\u001b[0m \u001b[32m━━━━━━━━━━━━━━━━━━━━\u001b[0m\u001b[37m\u001b[0m \u001b[1m22s\u001b[0m 185ms/step - loss: 4.1229e-07 - val_loss: 0.0013\n",
            "Epoch 27/100\n",
            "\u001b[1m101/101\u001b[0m \u001b[32m━━━━━━━━━━━━━━━━━━━━\u001b[0m\u001b[37m\u001b[0m \u001b[1m18s\u001b[0m 174ms/step - loss: 2.6265e-07 - val_loss: 9.5029e-04\n",
            "Epoch 28/100\n",
            "\u001b[1m101/101\u001b[0m \u001b[32m━━━━━━━━━━━━━━━━━━━━\u001b[0m\u001b[37m\u001b[0m \u001b[1m21s\u001b[0m 175ms/step - loss: 3.2428e-07 - val_loss: 0.0018\n",
            "Epoch 29/100\n",
            "\u001b[1m101/101\u001b[0m \u001b[32m━━━━━━━━━━━━━━━━━━━━\u001b[0m\u001b[37m\u001b[0m \u001b[1m19s\u001b[0m 187ms/step - loss: 3.5856e-07 - val_loss: 0.0012\n",
            "Epoch 30/100\n",
            "\u001b[1m101/101\u001b[0m \u001b[32m━━━━━━━━━━━━━━━━━━━━\u001b[0m\u001b[37m\u001b[0m \u001b[1m17s\u001b[0m 173ms/step - loss: 3.6554e-07 - val_loss: 0.0018\n",
            "Epoch 31/100\n",
            "\u001b[1m101/101\u001b[0m \u001b[32m━━━━━━━━━━━━━━━━━━━━\u001b[0m\u001b[37m\u001b[0m \u001b[1m18s\u001b[0m 174ms/step - loss: 3.6705e-07 - val_loss: 0.0011\n",
            "Epoch 32/100\n",
            "\u001b[1m101/101\u001b[0m \u001b[32m━━━━━━━━━━━━━━━━━━━━\u001b[0m\u001b[37m\u001b[0m \u001b[1m21s\u001b[0m 175ms/step - loss: 3.6101e-07 - val_loss: 0.0013\n",
            "Epoch 33/100\n",
            "\u001b[1m101/101\u001b[0m \u001b[32m━━━━━━━━━━━━━━━━━━━━\u001b[0m\u001b[37m\u001b[0m \u001b[1m21s\u001b[0m 178ms/step - loss: 3.6242e-07 - val_loss: 0.0014\n",
            "Epoch 34/100\n",
            "\u001b[1m101/101\u001b[0m \u001b[32m━━━━━━━━━━━━━━━━━━━━\u001b[0m\u001b[37m\u001b[0m \u001b[1m20s\u001b[0m 174ms/step - loss: 3.1281e-07 - val_loss: 0.0016\n",
            "Epoch 35/100\n",
            "\u001b[1m101/101\u001b[0m \u001b[32m━━━━━━━━━━━━━━━━━━━━\u001b[0m\u001b[37m\u001b[0m \u001b[1m22s\u001b[0m 186ms/step - loss: 2.9258e-07 - val_loss: 0.0011\n",
            "Epoch 36/100\n",
            "\u001b[1m101/101\u001b[0m \u001b[32m━━━━━━━━━━━━━━━━━━━━\u001b[0m\u001b[37m\u001b[0m \u001b[1m19s\u001b[0m 174ms/step - loss: 3.2020e-07 - val_loss: 0.0015\n",
            "Epoch 37/100\n",
            "\u001b[1m101/101\u001b[0m \u001b[32m━━━━━━━━━━━━━━━━━━━━\u001b[0m\u001b[37m\u001b[0m \u001b[1m17s\u001b[0m 173ms/step - loss: 3.0902e-07 - val_loss: 0.0012\n",
            "Epoch 38/100\n",
            "\u001b[1m101/101\u001b[0m \u001b[32m━━━━━━━━━━━━━━━━━━━━\u001b[0m\u001b[37m\u001b[0m \u001b[1m19s\u001b[0m 189ms/step - loss: 2.4503e-07 - val_loss: 0.0012\n",
            "Epoch 39/100\n",
            "\u001b[1m101/101\u001b[0m \u001b[32m━━━━━━━━━━━━━━━━━━━━\u001b[0m\u001b[37m\u001b[0m \u001b[1m19s\u001b[0m 174ms/step - loss: 3.9971e-07 - val_loss: 0.0012\n",
            "Epoch 40/100\n",
            "\u001b[1m101/101\u001b[0m \u001b[32m━━━━━━━━━━━━━━━━━━━━\u001b[0m\u001b[37m\u001b[0m \u001b[1m22s\u001b[0m 189ms/step - loss: 3.0469e-07 - val_loss: 0.0015\n",
            "Epoch 41/100\n",
            "\u001b[1m101/101\u001b[0m \u001b[32m━━━━━━━━━━━━━━━━━━━━\u001b[0m\u001b[37m\u001b[0m \u001b[1m19s\u001b[0m 175ms/step - loss: 2.3636e-07 - val_loss: 0.0014\n",
            "Epoch 42/100\n",
            "\u001b[1m101/101\u001b[0m \u001b[32m━━━━━━━━━━━━━━━━━━━━\u001b[0m\u001b[37m\u001b[0m \u001b[1m22s\u001b[0m 187ms/step - loss: 4.4370e-07 - val_loss: 0.0013\n",
            "Epoch 43/100\n",
            "\u001b[1m101/101\u001b[0m \u001b[32m━━━━━━━━━━━━━━━━━━━━\u001b[0m\u001b[37m\u001b[0m \u001b[1m19s\u001b[0m 174ms/step - loss: 2.9678e-07 - val_loss: 0.0016\n",
            "Epoch 44/100\n",
            "\u001b[1m101/101\u001b[0m \u001b[32m━━━━━━━━━━━━━━━━━━━━\u001b[0m\u001b[37m\u001b[0m \u001b[1m18s\u001b[0m 175ms/step - loss: 3.0535e-07 - val_loss: 0.0012\n",
            "Epoch 45/100\n",
            "\u001b[1m101/101\u001b[0m \u001b[32m━━━━━━━━━━━━━━━━━━━━\u001b[0m\u001b[37m\u001b[0m \u001b[1m19s\u001b[0m 184ms/step - loss: 3.3560e-07 - val_loss: 0.0011\n",
            "Epoch 46/100\n",
            "\u001b[1m101/101\u001b[0m \u001b[32m━━━━━━━━━━━━━━━━━━━━\u001b[0m\u001b[37m\u001b[0m \u001b[1m19s\u001b[0m 175ms/step - loss: 3.2045e-07 - val_loss: 0.0019\n",
            "Epoch 47/100\n",
            "\u001b[1m101/101\u001b[0m \u001b[32m━━━━━━━━━━━━━━━━━━━━\u001b[0m\u001b[37m\u001b[0m \u001b[1m21s\u001b[0m 183ms/step - loss: 2.6741e-07 - val_loss: 0.0017\n",
            "Epoch 48/100\n",
            "\u001b[1m101/101\u001b[0m \u001b[32m━━━━━━━━━━━━━━━━━━━━\u001b[0m\u001b[37m\u001b[0m \u001b[1m20s\u001b[0m 175ms/step - loss: 2.4010e-07 - val_loss: 0.0019\n",
            "Epoch 49/100\n",
            "\u001b[1m101/101\u001b[0m \u001b[32m━━━━━━━━━━━━━━━━━━━━\u001b[0m\u001b[37m\u001b[0m \u001b[1m21s\u001b[0m 181ms/step - loss: 2.0370e-07 - val_loss: 0.0020\n",
            "Epoch 50/100\n",
            "\u001b[1m101/101\u001b[0m \u001b[32m━━━━━━━━━━━━━━━━━━━━\u001b[0m\u001b[37m\u001b[0m \u001b[1m18s\u001b[0m 174ms/step - loss: 2.9311e-07 - val_loss: 0.0015\n",
            "Epoch 51/100\n",
            "\u001b[1m101/101\u001b[0m \u001b[32m━━━━━━━━━━━━━━━━━━━━\u001b[0m\u001b[37m\u001b[0m \u001b[1m18s\u001b[0m 181ms/step - loss: 3.1425e-07 - val_loss: 0.0012\n",
            "Epoch 52/100\n",
            "\u001b[1m101/101\u001b[0m \u001b[32m━━━━━━━━━━━━━━━━━━━━\u001b[0m\u001b[37m\u001b[0m \u001b[1m20s\u001b[0m 175ms/step - loss: 2.4557e-07 - val_loss: 9.9701e-04\n",
            "Epoch 53/100\n",
            "\u001b[1m101/101\u001b[0m \u001b[32m━━━━━━━━━━━━━━━━━━━━\u001b[0m\u001b[37m\u001b[0m \u001b[1m21s\u001b[0m 183ms/step - loss: 2.6966e-07 - val_loss: 0.0014\n",
            "Epoch 54/100\n",
            "\u001b[1m101/101\u001b[0m \u001b[32m━━━━━━━━━━━━━━━━━━━━\u001b[0m\u001b[37m\u001b[0m \u001b[1m20s\u001b[0m 173ms/step - loss: 2.2598e-07 - val_loss: 0.0016\n",
            "Epoch 55/100\n",
            "\u001b[1m101/101\u001b[0m \u001b[32m━━━━━━━━━━━━━━━━━━━━\u001b[0m\u001b[37m\u001b[0m \u001b[1m18s\u001b[0m 174ms/step - loss: 1.9123e-07 - val_loss: 0.0011\n",
            "Epoch 56/100\n",
            "\u001b[1m101/101\u001b[0m \u001b[32m━━━━━━━━━━━━━━━━━━━━\u001b[0m\u001b[37m\u001b[0m \u001b[1m20s\u001b[0m 173ms/step - loss: 2.9552e-07 - val_loss: 0.0016\n",
            "Epoch 57/100\n",
            "\u001b[1m101/101\u001b[0m \u001b[32m━━━━━━━━━━━━━━━━━━━━\u001b[0m\u001b[37m\u001b[0m \u001b[1m18s\u001b[0m 174ms/step - loss: 3.0494e-07 - val_loss: 0.0019\n",
            "Epoch 58/100\n",
            "\u001b[1m101/101\u001b[0m \u001b[32m━━━━━━━━━━━━━━━━━━━━\u001b[0m\u001b[37m\u001b[0m \u001b[1m21s\u001b[0m 182ms/step - loss: 2.8117e-07 - val_loss: 0.0013\n",
            "Epoch 59/100\n",
            "\u001b[1m101/101\u001b[0m \u001b[32m━━━━━━━━━━━━━━━━━━━━\u001b[0m\u001b[37m\u001b[0m \u001b[1m20s\u001b[0m 173ms/step - loss: 3.1907e-07 - val_loss: 0.0013\n",
            "Epoch 60/100\n",
            "\u001b[1m101/101\u001b[0m \u001b[32m━━━━━━━━━━━━━━━━━━━━\u001b[0m\u001b[37m\u001b[0m \u001b[1m21s\u001b[0m 174ms/step - loss: 2.0613e-07 - val_loss: 0.0014\n",
            "Epoch 61/100\n",
            "\u001b[1m101/101\u001b[0m \u001b[32m━━━━━━━━━━━━━━━━━━━━\u001b[0m\u001b[37m\u001b[0m \u001b[1m21s\u001b[0m 176ms/step - loss: 2.2251e-07 - val_loss: 0.0015\n",
            "Epoch 62/100\n",
            "\u001b[1m101/101\u001b[0m \u001b[32m━━━━━━━━━━━━━━━━━━━━\u001b[0m\u001b[37m\u001b[0m \u001b[1m20s\u001b[0m 174ms/step - loss: 2.1536e-07 - val_loss: 0.0015\n",
            "Epoch 63/100\n",
            "\u001b[1m101/101\u001b[0m \u001b[32m━━━━━━━━━━━━━━━━━━━━\u001b[0m\u001b[37m\u001b[0m \u001b[1m18s\u001b[0m 175ms/step - loss: 1.7922e-07 - val_loss: 0.0016\n",
            "Epoch 64/100\n",
            "\u001b[1m101/101\u001b[0m \u001b[32m━━━━━━━━━━━━━━━━━━━━\u001b[0m\u001b[37m\u001b[0m \u001b[1m21s\u001b[0m 175ms/step - loss: 2.0497e-07 - val_loss: 0.0014\n",
            "Epoch 65/100\n",
            "\u001b[1m101/101\u001b[0m \u001b[32m━━━━━━━━━━━━━━━━━━━━\u001b[0m\u001b[37m\u001b[0m \u001b[1m17s\u001b[0m 173ms/step - loss: 2.2341e-07 - val_loss: 0.0012\n",
            "Epoch 66/100\n",
            "\u001b[1m101/101\u001b[0m \u001b[32m━━━━━━━━━━━━━━━━━━━━\u001b[0m\u001b[37m\u001b[0m \u001b[1m22s\u001b[0m 183ms/step - loss: 2.2437e-07 - val_loss: 0.0018\n",
            "Epoch 67/100\n",
            "\u001b[1m101/101\u001b[0m \u001b[32m━━━━━━━━━━━━━━━━━━━━\u001b[0m\u001b[37m\u001b[0m \u001b[1m19s\u001b[0m 174ms/step - loss: 2.8393e-07 - val_loss: 0.0015\n",
            "Epoch 68/100\n",
            "\u001b[1m101/101\u001b[0m \u001b[32m━━━━━━━━━━━━━━━━━━━━\u001b[0m\u001b[37m\u001b[0m \u001b[1m21s\u001b[0m 183ms/step - loss: 2.1993e-07 - val_loss: 0.0019\n",
            "Epoch 69/100\n",
            "\u001b[1m101/101\u001b[0m \u001b[32m━━━━━━━━━━━━━━━━━━━━\u001b[0m\u001b[37m\u001b[0m \u001b[1m19s\u001b[0m 172ms/step - loss: 1.8774e-07 - val_loss: 0.0021\n",
            "Epoch 70/100\n",
            "\u001b[1m101/101\u001b[0m \u001b[32m━━━━━━━━━━━━━━━━━━━━\u001b[0m\u001b[37m\u001b[0m \u001b[1m19s\u001b[0m 185ms/step - loss: 2.2427e-07 - val_loss: 0.0019\n",
            "Epoch 71/100\n",
            "\u001b[1m101/101\u001b[0m \u001b[32m━━━━━━━━━━━━━━━━━━━━\u001b[0m\u001b[37m\u001b[0m \u001b[1m18s\u001b[0m 174ms/step - loss: 2.0630e-07 - val_loss: 0.0015\n",
            "Epoch 72/100\n",
            "\u001b[1m101/101\u001b[0m \u001b[32m━━━━━━━━━━━━━━━━━━━━\u001b[0m\u001b[37m\u001b[0m \u001b[1m18s\u001b[0m 174ms/step - loss: 2.2146e-07 - val_loss: 0.0016\n",
            "Epoch 73/100\n",
            "\u001b[1m101/101\u001b[0m \u001b[32m━━━━━━━━━━━━━━━━━━━━\u001b[0m\u001b[37m\u001b[0m \u001b[1m22s\u001b[0m 187ms/step - loss: 2.1921e-07 - val_loss: 0.0016\n",
            "Epoch 74/100\n",
            "\u001b[1m101/101\u001b[0m \u001b[32m━━━━━━━━━━━━━━━━━━━━\u001b[0m\u001b[37m\u001b[0m \u001b[1m19s\u001b[0m 174ms/step - loss: 1.7557e-07 - val_loss: 0.0016\n",
            "Epoch 75/100\n",
            "\u001b[1m101/101\u001b[0m \u001b[32m━━━━━━━━━━━━━━━━━━━━\u001b[0m\u001b[37m\u001b[0m \u001b[1m22s\u001b[0m 184ms/step - loss: 2.0865e-07 - val_loss: 0.0017\n",
            "Epoch 76/100\n",
            "\u001b[1m101/101\u001b[0m \u001b[32m━━━━━━━━━━━━━━━━━━━━\u001b[0m\u001b[37m\u001b[0m \u001b[1m19s\u001b[0m 174ms/step - loss: 1.7322e-07 - val_loss: 0.0014\n",
            "Epoch 77/100\n",
            "\u001b[1m101/101\u001b[0m \u001b[32m━━━━━━━━━━━━━━━━━━━━\u001b[0m\u001b[37m\u001b[0m \u001b[1m21s\u001b[0m 180ms/step - loss: 2.3113e-07 - val_loss: 0.0019\n",
            "Epoch 78/100\n",
            "\u001b[1m101/101\u001b[0m \u001b[32m━━━━━━━━━━━━━━━━━━━━\u001b[0m\u001b[37m\u001b[0m \u001b[1m20s\u001b[0m 175ms/step - loss: 1.7083e-07 - val_loss: 0.0014\n",
            "Epoch 79/100\n",
            "\u001b[1m101/101\u001b[0m \u001b[32m━━━━━━━━━━━━━━━━━━━━\u001b[0m\u001b[37m\u001b[0m \u001b[1m20s\u001b[0m 174ms/step - loss: 1.7099e-07 - val_loss: 0.0019\n",
            "Epoch 80/100\n",
            "\u001b[1m101/101\u001b[0m \u001b[32m━━━━━━━━━━━━━━━━━━━━\u001b[0m\u001b[37m\u001b[0m \u001b[1m20s\u001b[0m 173ms/step - loss: 1.6679e-07 - val_loss: 0.0012\n",
            "Epoch 81/100\n",
            "\u001b[1m101/101\u001b[0m \u001b[32m━━━━━━━━━━━━━━━━━━━━\u001b[0m\u001b[37m\u001b[0m \u001b[1m21s\u001b[0m 174ms/step - loss: 2.2074e-07 - val_loss: 0.0015\n",
            "Epoch 82/100\n",
            "\u001b[1m101/101\u001b[0m \u001b[32m━━━━━━━━━━━━━━━━━━━━\u001b[0m\u001b[37m\u001b[0m \u001b[1m21s\u001b[0m 184ms/step - loss: 1.9777e-07 - val_loss: 0.0023\n",
            "Epoch 83/100\n",
            "\u001b[1m101/101\u001b[0m \u001b[32m━━━━━━━━━━━━━━━━━━━━\u001b[0m\u001b[37m\u001b[0m \u001b[1m19s\u001b[0m 172ms/step - loss: 1.6606e-07 - val_loss: 0.0018\n",
            "Epoch 84/100\n",
            "\u001b[1m101/101\u001b[0m \u001b[32m━━━━━━━━━━━━━━━━━━━━\u001b[0m\u001b[37m\u001b[0m \u001b[1m17s\u001b[0m 172ms/step - loss: 1.2246e-07 - val_loss: 0.0016\n",
            "Epoch 85/100\n",
            "\u001b[1m101/101\u001b[0m \u001b[32m━━━━━━━━━━━━━━━━━━━━\u001b[0m\u001b[37m\u001b[0m \u001b[1m21s\u001b[0m 174ms/step - loss: 2.0672e-07 - val_loss: 0.0020\n",
            "Epoch 86/100\n",
            "\u001b[1m101/101\u001b[0m \u001b[32m━━━━━━━━━━━━━━━━━━━━\u001b[0m\u001b[37m\u001b[0m \u001b[1m18s\u001b[0m 174ms/step - loss: 1.6683e-07 - val_loss: 0.0016\n",
            "Epoch 87/100\n",
            "\u001b[1m101/101\u001b[0m \u001b[32m━━━━━━━━━━━━━━━━━━━━\u001b[0m\u001b[37m\u001b[0m \u001b[1m19s\u001b[0m 186ms/step - loss: 2.4622e-07 - val_loss: 0.0020\n",
            "Epoch 88/100\n",
            "\u001b[1m101/101\u001b[0m \u001b[32m━━━━━━━━━━━━━━━━━━━━\u001b[0m\u001b[37m\u001b[0m \u001b[1m19s\u001b[0m 174ms/step - loss: 2.4636e-07 - val_loss: 0.0012\n",
            "Epoch 89/100\n",
            "\u001b[1m101/101\u001b[0m \u001b[32m━━━━━━━━━━━━━━━━━━━━\u001b[0m\u001b[37m\u001b[0m \u001b[1m17s\u001b[0m 173ms/step - loss: 1.5027e-07 - val_loss: 0.0017\n",
            "Epoch 90/100\n",
            "\u001b[1m101/101\u001b[0m \u001b[32m━━━━━━━━━━━━━━━━━━━━\u001b[0m\u001b[37m\u001b[0m \u001b[1m20s\u001b[0m 172ms/step - loss: 3.7747e-07 - val_loss: 0.0015\n",
            "Epoch 91/100\n",
            "\u001b[1m101/101\u001b[0m \u001b[32m━━━━━━━━━━━━━━━━━━━━\u001b[0m\u001b[37m\u001b[0m \u001b[1m18s\u001b[0m 174ms/step - loss: 1.4740e-07 - val_loss: 0.0016\n",
            "Epoch 92/100\n",
            "\u001b[1m101/101\u001b[0m \u001b[32m━━━━━━━━━━━━━━━━━━━━\u001b[0m\u001b[37m\u001b[0m \u001b[1m21s\u001b[0m 176ms/step - loss: 2.1127e-07 - val_loss: 0.0020\n",
            "Epoch 93/100\n",
            "\u001b[1m101/101\u001b[0m \u001b[32m━━━━━━━━━━━━━━━━━━━━\u001b[0m\u001b[37m\u001b[0m \u001b[1m20s\u001b[0m 173ms/step - loss: 1.4109e-07 - val_loss: 0.0016\n",
            "Epoch 94/100\n",
            "\u001b[1m101/101\u001b[0m \u001b[32m━━━━━━━━━━━━━━━━━━━━\u001b[0m\u001b[37m\u001b[0m \u001b[1m20s\u001b[0m 172ms/step - loss: 1.6588e-07 - val_loss: 0.0016\n",
            "Epoch 95/100\n",
            "\u001b[1m101/101\u001b[0m \u001b[32m━━━━━━━━━━━━━━━━━━━━\u001b[0m\u001b[37m\u001b[0m \u001b[1m18s\u001b[0m 174ms/step - loss: 1.7040e-07 - val_loss: 0.0016\n",
            "Epoch 96/100\n",
            "\u001b[1m101/101\u001b[0m \u001b[32m━━━━━━━━━━━━━━━━━━━━\u001b[0m\u001b[37m\u001b[0m \u001b[1m21s\u001b[0m 176ms/step - loss: 1.4966e-07 - val_loss: 0.0014\n",
            "Epoch 97/100\n",
            "\u001b[1m101/101\u001b[0m \u001b[32m━━━━━━━━━━━━━━━━━━━━\u001b[0m\u001b[37m\u001b[0m \u001b[1m18s\u001b[0m 174ms/step - loss: 1.4267e-07 - val_loss: 0.0014\n",
            "Epoch 98/100\n",
            "\u001b[1m101/101\u001b[0m \u001b[32m━━━━━━━━━━━━━━━━━━━━\u001b[0m\u001b[37m\u001b[0m \u001b[1m22s\u001b[0m 187ms/step - loss: 1.4344e-07 - val_loss: 0.0018\n",
            "Epoch 99/100\n",
            "\u001b[1m101/101\u001b[0m \u001b[32m━━━━━━━━━━━━━━━━━━━━\u001b[0m\u001b[37m\u001b[0m \u001b[1m18s\u001b[0m 174ms/step - loss: 1.3733e-07 - val_loss: 0.0023\n",
            "Epoch 100/100\n",
            "\u001b[1m101/101\u001b[0m \u001b[32m━━━━━━━━━━━━━━━━━━━━\u001b[0m\u001b[37m\u001b[0m \u001b[1m18s\u001b[0m 174ms/step - loss: 1.6699e-07 - val_loss: 0.0016\n"
          ]
        },
        {
          "output_type": "execute_result",
          "data": {
            "text/plain": [
              "<keras.src.callbacks.history.History at 0x7ef1e7b4f4c0>"
            ]
          },
          "metadata": {},
          "execution_count": 44
        }
      ]
    },
    {
      "cell_type": "code",
      "source": [
        "import tensorflow as tf"
      ],
      "metadata": {
        "id": "B5p3g6Zt2lfM"
      },
      "execution_count": 45,
      "outputs": []
    },
    {
      "cell_type": "code",
      "source": [
        "tf.__version__"
      ],
      "metadata": {
        "colab": {
          "base_uri": "https://localhost:8080/",
          "height": 35
        },
        "id": "PMHcAzZy2oMf",
        "outputId": "35adba7b-0862-4e8c-8357-ad0987a5a8ab"
      },
      "execution_count": 46,
      "outputs": [
        {
          "output_type": "execute_result",
          "data": {
            "text/plain": [
              "'2.17.0'"
            ],
            "application/vnd.google.colaboratory.intrinsic+json": {
              "type": "string"
            }
          },
          "metadata": {},
          "execution_count": 46
        }
      ]
    },
    {
      "cell_type": "code",
      "source": [
        "### Lets Do the prediction and check performance metrics\n",
        "train_predict=model.predict(X_train)\n",
        "test_predict=model.predict(X_test)"
      ],
      "metadata": {
        "colab": {
          "base_uri": "https://localhost:8080/"
        },
        "id": "MoCU_aXv2pzK",
        "outputId": "94771afa-cf8b-4616-d181-63fda91e72c1"
      },
      "execution_count": 47,
      "outputs": [
        {
          "output_type": "stream",
          "name": "stdout",
          "text": [
            "\u001b[1m202/202\u001b[0m \u001b[32m━━━━━━━━━━━━━━━━━━━━\u001b[0m\u001b[37m\u001b[0m \u001b[1m7s\u001b[0m 34ms/step\n",
            "\u001b[1m108/108\u001b[0m \u001b[32m━━━━━━━━━━━━━━━━━━━━\u001b[0m\u001b[37m\u001b[0m \u001b[1m4s\u001b[0m 39ms/step\n"
          ]
        }
      ]
    },
    {
      "cell_type": "code",
      "source": [
        "##Transformback to original form\n",
        "train_predict=scaler.inverse_transform(train_predict)\n",
        "test_predict=scaler.inverse_transform(test_predict)"
      ],
      "metadata": {
        "id": "DMng7S542rtC"
      },
      "execution_count": 48,
      "outputs": []
    },
    {
      "cell_type": "code",
      "source": [
        "### Calculate RMSE performance metrics\n",
        "import math\n",
        "from sklearn.metrics import mean_squared_error\n",
        "math.sqrt(mean_squared_error(y_train,train_predict))"
      ],
      "metadata": {
        "colab": {
          "base_uri": "https://localhost:8080/"
        },
        "id": "H6Y1onez2tk7",
        "outputId": "46ca73c9-1b39-429d-9316-52f097f4c25e"
      },
      "execution_count": 49,
      "outputs": [
        {
          "output_type": "execute_result",
          "data": {
            "text/plain": [
              "2.388688113078447"
            ]
          },
          "metadata": {},
          "execution_count": 49
        }
      ]
    },
    {
      "cell_type": "code",
      "source": [
        "### Test Data RMSE\n",
        "math.sqrt(mean_squared_error(ytest,test_predict))"
      ],
      "metadata": {
        "colab": {
          "base_uri": "https://localhost:8080/"
        },
        "id": "eR0QsJsj2v2P",
        "outputId": "2fc0f754-a93a-4098-d709-462dfeaf9179"
      },
      "execution_count": 50,
      "outputs": [
        {
          "output_type": "execute_result",
          "data": {
            "text/plain": [
              "85.34551941400666"
            ]
          },
          "metadata": {},
          "execution_count": 50
        }
      ]
    },
    {
      "cell_type": "code",
      "source": [
        "### Plotting\n",
        "# shift train predictions for plotting\n",
        "look_back=100\n",
        "trainPredictPlot = numpy.empty_like(df1)\n",
        "trainPredictPlot[:, :] = np.nan\n",
        "trainPredictPlot[look_back:len(train_predict)+look_back, :] = train_predict\n",
        "# shift test predictions for plotting\n",
        "testPredictPlot = numpy.empty_like(df1)\n",
        "testPredictPlot[:, :] = numpy.nan\n",
        "testPredictPlot[len(train_predict)+(look_back*2)+1:len(df1)-1, :] = test_predict\n",
        "# plot baseline and predictions\n",
        "plt.plot(scaler.inverse_transform(df1))\n",
        "plt.plot(trainPredictPlot)\n",
        "plt.plot(testPredictPlot)\n",
        "plt.show()"
      ],
      "metadata": {
        "colab": {
          "base_uri": "https://localhost:8080/",
          "height": 430
        },
        "id": "zXOoXLcM2xab",
        "outputId": "7be5a536-542f-4ec7-e864-44553f3f0995"
      },
      "execution_count": 51,
      "outputs": [
        {
          "output_type": "display_data",
          "data": {
            "text/plain": [
              "<Figure size 640x480 with 1 Axes>"
            ],
            "image/png": "[encoded data removed]"
          },
          "metadata": {}
        }
      ]
    },
    {
      "cell_type": "code",
      "source": [
        "len(test_data)"
      ],
      "metadata": {
        "colab": {
          "base_uri": "https://localhost:8080/"
        },
        "id": "qBtob5OX2zZC",
        "outputId": "b66b3eb9-4b11-4328-84f8-0ab48cb7d593"
      },
      "execution_count": 52,
      "outputs": [
        {
          "output_type": "execute_result",
          "data": {
            "text/plain": [
              "3528"
            ]
          },
          "metadata": {},
          "execution_count": 52
        }
      ]
    },
    {
      "cell_type": "code",
      "source": [
        "x_input=test_data[3428:].reshape(1,-1)\n",
        "x_input.shape"
      ],
      "metadata": {
        "colab": {
          "base_uri": "https://localhost:8080/"
        },
        "id": "RT2w88T721j2",
        "outputId": "473c793c-7bdf-406e-f253-d9d3215e359c"
      },
      "execution_count": 53,
      "outputs": [
        {
          "output_type": "execute_result",
          "data": {
            "text/plain": [
              "(1, 100)"
            ]
          },
          "metadata": {},
          "execution_count": 53
        }
      ]
    },
    {
      "cell_type": "code",
      "source": [
        "temp_input=list(x_input)\n",
        "temp_input=temp_input[0].tolist()"
      ],
      "metadata": {
        "id": "XEnSDOeD23P6"
      },
      "execution_count": 54,
      "outputs": []
    },
    {
      "cell_type": "code",
      "source": [
        "temp_input"
      ],
      "metadata": {
        "colab": {
          "base_uri": "https://localhost:8080/"
        },
        "id": "l7ZU7P5G25Lr",
        "outputId": "ecc9918c-2a01-4908-e3e9-8b628421a729"
      },
      "execution_count": 55,
      "outputs": [
        {
          "output_type": "execute_result",
          "data": {
            "text/plain": [
              "[0.7106773710026426,\n",
              " 0.7197080961825165,\n",
              " 0.7234140623891835,\n",
              " 0.7209008224329083,\n",
              " 0.7387917811874911,\n",
              " 0.7252883650680008,\n",
              " 0.7209008224329083,\n",
              " 0.7367896910531823,\n",
              " 0.7808781831615343,\n",
              " 0.7737643998114454,\n",
              " 0.7767035762864574,\n",
              " 0.7781519424465381,\n",
              " 0.7859473022250524,\n",
              " 0.7794724561524213,\n",
              " 0.7932314471828947,\n",
              " 0.7981301396399535,\n",
              " 0.8078850154005149,\n",
              " 0.8083961652224814,\n",
              " 0.8085239526779727,\n",
              " 0.8135078584382612,\n",
              " 0.8190881923224511,\n",
              " 0.8129114953130654,\n",
              " 0.7957873262901376,\n",
              " 0.808992528347677,\n",
              " 0.8090351674986449,\n",
              " 0.8103130420535605,\n",
              " 0.8145727972331614,\n",
              " 0.8186621908050089,\n",
              " 0.8262445498248021,\n",
              " 0.8276077026816531,\n",
              " 0.8340824837555785,\n",
              " 0.8281614266558812,\n",
              " 0.838427452238409,\n",
              " 0.8223681570116759,\n",
              " 0.8821325169815808,\n",
              " 0.9073503248436793,\n",
              " 0.9123342306039679,\n",
              " 0.9048796590396662,\n",
              " 0.9226854044910193,\n",
              " 0.9125471663639833,\n",
              " 0.8929096923860746,\n",
              " 0.8835808831416615,\n",
              " 0.8863496980089197,\n",
              " 0.8903113041252756,\n",
              " 0.9081170495766288,\n",
              " 0.9117378674787717,\n",
              " 0.8969138726546925,\n",
              " 0.923026192705232,\n",
              " 0.9380205491370649,\n",
              " 0.9434730305670578,\n",
              " 0.9638772292779159,\n",
              " 0.9701817137427933,\n",
              " 0.9738450407984925,\n",
              " 0.9921620010705177,\n",
              " 0.9691167749478931,\n",
              " 0.9817681880324985,\n",
              " 0.9982108456257066,\n",
              " 1.0,\n",
              " 0.9746970438333774,\n",
              " 0.9546761424902883,\n",
              " 0.9552299314632222,\n",
              " 0.9537390561495854,\n",
              " 0.958211747089202,\n",
              " 0.9306511258772873,\n",
              " 0.9261784349376709,\n",
              " 0.9281805250719797,\n",
              " 0.9293732513223717,\n",
              " 0.9317587038231552,\n",
              " 0.9457306956123498,\n",
              " 0.9298844011443379,\n",
              " 0.9362740339137393,\n",
              " 0.8911632421614545,\n",
              " 0.8824733051957934,\n",
              " 0.8935061205099762,\n",
              " 0.9083726244876118,\n",
              " 0.9208537409631697,\n",
              " 0.9263487965454243,\n",
              " 0.9422803043166659,\n",
              " 0.9441971811477452,\n",
              " 0.956976446686548,\n",
              " 0.962641928875262,\n",
              " 0.9619603524468365,\n",
              " 0.9646013798586034,\n",
              " 0.964132804188899,\n",
              " 0.956167082802631,\n",
              " 0.9660071068677164,\n",
              " 0.9674554080290911,\n",
              " 0.9710762259312343,\n",
              " 0.9645162315540795,\n",
              " 0.9785733716477979,\n",
              " 0.9752081936553436,\n",
              " 0.9486699370860673,\n",
              " 0.9404912149410781,\n",
              " 0.9470086351659712,\n",
              " 0.9403634274855867,\n",
              " 0.9407467898520613,\n",
              " 0.9373389727086396,\n",
              " 0.9482013614163629,\n",
              " 0.9486699370860673,\n",
              " 0.9475197849879375]"
            ]
          },
          "metadata": {},
          "execution_count": 55
        }
      ]
    },
    {
      "cell_type": "code",
      "source": [
        "# demonstrate prediction for next 10 days\n",
        "from numpy import array\n",
        "\n",
        "lst_output=[]\n",
        "n_steps=100\n",
        "i=0\n",
        "while(i<30):\n",
        "\n",
        "    if(len(temp_input)>100):\n",
        "        #print(temp_input)\n",
        "        x_input=np.array(temp_input[1:])\n",
        "        print(\"{} day input {}\".format(i,x_input))\n",
        "        x_input=x_input.reshape(1,-1)\n",
        "        x_input = x_input.reshape((1, n_steps, 1))\n",
        "        #print(x_input)\n",
        "        yhat = model.predict(x_input, verbose=0)\n",
        "        print(\"{} day output {}\".format(i,yhat))\n",
        "        temp_input.extend(yhat[0].tolist())\n",
        "        temp_input=temp_input[1:]\n",
        "        #print(temp_input)\n",
        "        lst_output.extend(yhat.tolist())\n",
        "        i=i+1\n",
        "    else:\n",
        "        x_input = x_input.reshape((1, n_steps,1))\n",
        "        yhat = model.predict(x_input, verbose=0)\n",
        "        print(yhat[0])\n",
        "        temp_input.extend(yhat[0].tolist())\n",
        "        print(len(temp_input))\n",
        "        lst_output.extend(yhat.tolist())\n",
        "        i=i+1\n",
        "\n",
        "\n",
        "print(lst_output)"
      ],
      "metadata": {
        "colab": {
          "base_uri": "https://localhost:8080/"
        },
        "id": "cv1slXaT261T",
        "outputId": "4a7d215f-ba22-4287-defa-00de0462dba5"
      },
      "execution_count": 56,
      "outputs": [
        {
          "output_type": "stream",
          "name": "stdout",
          "text": [
            "[0.79563206]\n",
            "101\n",
            "1 day input [0.7197081  0.72341406 0.72090082 0.73879178 0.72528837 0.72090082\n",
            " 0.73678969 0.78087818 0.7737644  0.77670358 0.77815194 0.7859473\n",
            " 0.77947246 0.79323145 0.79813014 0.80788502 0.80839617 0.80852395\n",
            " 0.81350786 0.81908819 0.8129115  0.79578733 0.80899253 0.80903517\n",
            " 0.81031304 0.8145728  0.81866219 0.82624455 0.8276077  0.83408248\n",
            " 0.82816143 0.83842745 0.82236816 0.88213252 0.90735032 0.91233423\n",
            " 0.90487966 0.9226854  0.91254717 0.89290969 0.88358088 0.8863497\n",
            " 0.8903113  0.90811705 0.91173787 0.89691387 0.92302619 0.93802055\n",
            " 0.94347303 0.96387723 0.97018171 0.97384504 0.992162   0.96911677\n",
            " 0.98176819 0.99821085 1.         0.97469704 0.95467614 0.95522993\n",
            " 0.95373906 0.95821175 0.93065113 0.92617843 0.92818053 0.92937325\n",
            " 0.9317587  0.9457307  0.9298844  0.93627403 0.89116324 0.88247331\n",
            " 0.89350612 0.90837262 0.92085374 0.9263488  0.9422803  0.94419718\n",
            " 0.95697645 0.96264193 0.96196035 0.96460138 0.9641328  0.95616708\n",
            " 0.96600711 0.96745541 0.97107623 0.96451623 0.97857337 0.97520819\n",
            " 0.94866994 0.94049121 0.94700864 0.94036343 0.94074679 0.93733897\n",
            " 0.94820136 0.94866994 0.94751978 0.79563206]\n",
            "1 day output [[0.7796108]]\n",
            "2 day input [0.72341406 0.72090082 0.73879178 0.72528837 0.72090082 0.73678969\n",
            " 0.78087818 0.7737644  0.77670358 0.77815194 0.7859473  0.77947246\n",
            " 0.79323145 0.79813014 0.80788502 0.80839617 0.80852395 0.81350786\n",
            " 0.81908819 0.8129115  0.79578733 0.80899253 0.80903517 0.81031304\n",
            " 0.8145728  0.81866219 0.82624455 0.8276077  0.83408248 0.82816143\n",
            " 0.83842745 0.82236816 0.88213252 0.90735032 0.91233423 0.90487966\n",
            " 0.9226854  0.91254717 0.89290969 0.88358088 0.8863497  0.8903113\n",
            " 0.90811705 0.91173787 0.89691387 0.92302619 0.93802055 0.94347303\n",
            " 0.96387723 0.97018171 0.97384504 0.992162   0.96911677 0.98176819\n",
            " 0.99821085 1.         0.97469704 0.95467614 0.95522993 0.95373906\n",
            " 0.95821175 0.93065113 0.92617843 0.92818053 0.92937325 0.9317587\n",
            " 0.9457307  0.9298844  0.93627403 0.89116324 0.88247331 0.89350612\n",
            " 0.90837262 0.92085374 0.9263488  0.9422803  0.94419718 0.95697645\n",
            " 0.96264193 0.96196035 0.96460138 0.9641328  0.95616708 0.96600711\n",
            " 0.96745541 0.97107623 0.96451623 0.97857337 0.97520819 0.94866994\n",
            " 0.94049121 0.94700864 0.94036343 0.94074679 0.93733897 0.94820136\n",
            " 0.94866994 0.94751978 0.79563206 0.77961081]\n",
            "2 day output [[0.75294286]]\n",
            "3 day input [0.72090082 0.73879178 0.72528837 0.72090082 0.73678969 0.78087818\n",
            " 0.7737644  0.77670358 0.77815194 0.7859473  0.77947246 0.79323145\n",
            " 0.79813014 0.80788502 0.80839617 0.80852395 0.81350786 0.81908819\n",
            " 0.8129115  0.79578733 0.80899253 0.80903517 0.81031304 0.8145728\n",
            " 0.81866219 0.82624455 0.8276077  0.83408248 0.82816143 0.83842745\n",
            " 0.82236816 0.88213252 0.90735032 0.91233423 0.90487966 0.9226854\n",
            " 0.91254717 0.89290969 0.88358088 0.8863497  0.8903113  0.90811705\n",
            " 0.91173787 0.89691387 0.92302619 0.93802055 0.94347303 0.96387723\n",
            " 0.97018171 0.97384504 0.992162   0.96911677 0.98176819 0.99821085\n",
            " 1.         0.97469704 0.95467614 0.95522993 0.95373906 0.95821175\n",
            " 0.93065113 0.92617843 0.92818053 0.92937325 0.9317587  0.9457307\n",
            " 0.9298844  0.93627403 0.89116324 0.88247331 0.89350612 0.90837262\n",
            " 0.92085374 0.9263488  0.9422803  0.94419718 0.95697645 0.96264193\n",
            " 0.96196035 0.96460138 0.9641328  0.95616708 0.96600711 0.96745541\n",
            " 0.97107623 0.96451623 0.97857337 0.97520819 0.94866994 0.94049121\n",
            " 0.94700864 0.94036343 0.94074679 0.93733897 0.94820136 0.94866994\n",
            " 0.94751978 0.79563206 0.77961081 0.75294286]\n",
            "3 day output [[0.7226125]]\n",
            "4 day input [0.73879178 0.72528837 0.72090082 0.73678969 0.78087818 0.7737644\n",
            " 0.77670358 0.77815194 0.7859473  0.77947246 0.79323145 0.79813014\n",
            " 0.80788502 0.80839617 0.80852395 0.81350786 0.81908819 0.8129115\n",
            " 0.79578733 0.80899253 0.80903517 0.81031304 0.8145728  0.81866219\n",
            " 0.82624455 0.8276077  0.83408248 0.82816143 0.83842745 0.82236816\n",
            " 0.88213252 0.90735032 0.91233423 0.90487966 0.9226854  0.91254717\n",
            " 0.89290969 0.88358088 0.8863497  0.8903113  0.90811705 0.91173787\n",
            " 0.89691387 0.92302619 0.93802055 0.94347303 0.96387723 0.97018171\n",
            " 0.97384504 0.992162   0.96911677 0.98176819 0.99821085 1.\n",
            " 0.97469704 0.95467614 0.95522993 0.95373906 0.95821175 0.93065113\n",
            " 0.92617843 0.92818053 0.92937325 0.9317587  0.9457307  0.9298844\n",
            " 0.93627403 0.89116324 0.88247331 0.89350612 0.90837262 0.92085374\n",
            " 0.9263488  0.9422803  0.94419718 0.95697645 0.96264193 0.96196035\n",
            " 0.96460138 0.9641328  0.95616708 0.96600711 0.96745541 0.97107623\n",
            " 0.96451623 0.97857337 0.97520819 0.94866994 0.94049121 0.94700864\n",
            " 0.94036343 0.94074679 0.93733897 0.94820136 0.94866994 0.94751978\n",
            " 0.79563206 0.77961081 0.75294286 0.7226125 ]\n",
            "4 day output [[0.69232756]]\n",
            "5 day input [0.72528837 0.72090082 0.73678969 0.78087818 0.7737644  0.77670358\n",
            " 0.77815194 0.7859473  0.77947246 0.79323145 0.79813014 0.80788502\n",
            " 0.80839617 0.80852395 0.81350786 0.81908819 0.8129115  0.79578733\n",
            " 0.80899253 0.80903517 0.81031304 0.8145728  0.81866219 0.82624455\n",
            " 0.8276077  0.83408248 0.82816143 0.83842745 0.82236816 0.88213252\n",
            " 0.90735032 0.91233423 0.90487966 0.9226854  0.91254717 0.89290969\n",
            " 0.88358088 0.8863497  0.8903113  0.90811705 0.91173787 0.89691387\n",
            " 0.92302619 0.93802055 0.94347303 0.96387723 0.97018171 0.97384504\n",
            " 0.992162   0.96911677 0.98176819 0.99821085 1.         0.97469704\n",
            " 0.95467614 0.95522993 0.95373906 0.95821175 0.93065113 0.92617843\n",
            " 0.92818053 0.92937325 0.9317587  0.9457307  0.9298844  0.93627403\n",
            " 0.89116324 0.88247331 0.89350612 0.90837262 0.92085374 0.9263488\n",
            " 0.9422803  0.94419718 0.95697645 0.96264193 0.96196035 0.96460138\n",
            " 0.9641328  0.95616708 0.96600711 0.96745541 0.97107623 0.96451623\n",
            " 0.97857337 0.97520819 0.94866994 0.94049121 0.94700864 0.94036343\n",
            " 0.94074679 0.93733897 0.94820136 0.94866994 0.94751978 0.79563206\n",
            " 0.77961081 0.75294286 0.7226125  0.69232756]\n",
            "5 day output [[0.66361064]]\n",
            "6 day input [0.72090082 0.73678969 0.78087818 0.7737644  0.77670358 0.77815194\n",
            " 0.7859473  0.77947246 0.79323145 0.79813014 0.80788502 0.80839617\n",
            " 0.80852395 0.81350786 0.81908819 0.8129115  0.79578733 0.80899253\n",
            " 0.80903517 0.81031304 0.8145728  0.81866219 0.82624455 0.8276077\n",
            " 0.83408248 0.82816143 0.83842745 0.82236816 0.88213252 0.90735032\n",
            " 0.91233423 0.90487966 0.9226854  0.91254717 0.89290969 0.88358088\n",
            " 0.8863497  0.8903113  0.90811705 0.91173787 0.89691387 0.92302619\n",
            " 0.93802055 0.94347303 0.96387723 0.97018171 0.97384504 0.992162\n",
            " 0.96911677 0.98176819 0.99821085 1.         0.97469704 0.95467614\n",
            " 0.95522993 0.95373906 0.95821175 0.93065113 0.92617843 0.92818053\n",
            " 0.92937325 0.9317587  0.9457307  0.9298844  0.93627403 0.89116324\n",
            " 0.88247331 0.89350612 0.90837262 0.92085374 0.9263488  0.9422803\n",
            " 0.94419718 0.95697645 0.96264193 0.96196035 0.96460138 0.9641328\n",
            " 0.95616708 0.96600711 0.96745541 0.97107623 0.96451623 0.97857337\n",
            " 0.97520819 0.94866994 0.94049121 0.94700864 0.94036343 0.94074679\n",
            " 0.93733897 0.94820136 0.94866994 0.94751978 0.79563206 0.77961081\n",
            " 0.75294286 0.7226125  0.69232756 0.66361064]\n",
            "6 day output [[0.63695294]]\n",
            "7 day input [0.73678969 0.78087818 0.7737644  0.77670358 0.77815194 0.7859473\n",
            " 0.77947246 0.79323145 0.79813014 0.80788502 0.80839617 0.80852395\n",
            " 0.81350786 0.81908819 0.8129115  0.79578733 0.80899253 0.80903517\n",
            " 0.81031304 0.8145728  0.81866219 0.82624455 0.8276077  0.83408248\n",
            " 0.82816143 0.83842745 0.82236816 0.88213252 0.90735032 0.91233423\n",
            " 0.90487966 0.9226854  0.91254717 0.89290969 0.88358088 0.8863497\n",
            " 0.8903113  0.90811705 0.91173787 0.89691387 0.92302619 0.93802055\n",
            " 0.94347303 0.96387723 0.97018171 0.97384504 0.992162   0.96911677\n",
            " 0.98176819 0.99821085 1.         0.97469704 0.95467614 0.95522993\n",
            " 0.95373906 0.95821175 0.93065113 0.92617843 0.92818053 0.92937325\n",
            " 0.9317587  0.9457307  0.9298844  0.93627403 0.89116324 0.88247331\n",
            " 0.89350612 0.90837262 0.92085374 0.9263488  0.9422803  0.94419718\n",
            " 0.95697645 0.96264193 0.96196035 0.96460138 0.9641328  0.95616708\n",
            " 0.96600711 0.96745541 0.97107623 0.96451623 0.97857337 0.97520819\n",
            " 0.94866994 0.94049121 0.94700864 0.94036343 0.94074679 0.93733897\n",
            " 0.94820136 0.94866994 0.94751978 0.79563206 0.77961081 0.75294286\n",
            " 0.7226125  0.69232756 0.66361064 0.63695294]\n",
            "7 day output [[0.6124521]]\n",
            "8 day input [0.78087818 0.7737644  0.77670358 0.77815194 0.7859473  0.77947246\n",
            " 0.79323145 0.79813014 0.80788502 0.80839617 0.80852395 0.81350786\n",
            " 0.81908819 0.8129115  0.79578733 0.80899253 0.80903517 0.81031304\n",
            " 0.8145728  0.81866219 0.82624455 0.8276077  0.83408248 0.82816143\n",
            " 0.83842745 0.82236816 0.88213252 0.90735032 0.91233423 0.90487966\n",
            " 0.9226854  0.91254717 0.89290969 0.88358088 0.8863497  0.8903113\n",
            " 0.90811705 0.91173787 0.89691387 0.92302619 0.93802055 0.94347303\n",
            " 0.96387723 0.97018171 0.97384504 0.992162   0.96911677 0.98176819\n",
            " 0.99821085 1.         0.97469704 0.95467614 0.95522993 0.95373906\n",
            " 0.95821175 0.93065113 0.92617843 0.92818053 0.92937325 0.9317587\n",
            " 0.9457307  0.9298844  0.93627403 0.89116324 0.88247331 0.89350612\n",
            " 0.90837262 0.92085374 0.9263488  0.9422803  0.94419718 0.95697645\n",
            " 0.96264193 0.96196035 0.96460138 0.9641328  0.95616708 0.96600711\n",
            " 0.96745541 0.97107623 0.96451623 0.97857337 0.97520819 0.94866994\n",
            " 0.94049121 0.94700864 0.94036343 0.94074679 0.93733897 0.94820136\n",
            " 0.94866994 0.94751978 0.79563206 0.77961081 0.75294286 0.7226125\n",
            " 0.69232756 0.66361064 0.63695294 0.61245209]\n",
            "8 day output [[0.5900764]]\n",
            "9 day input [0.7737644  0.77670358 0.77815194 0.7859473  0.77947246 0.79323145\n",
            " 0.79813014 0.80788502 0.80839617 0.80852395 0.81350786 0.81908819\n",
            " 0.8129115  0.79578733 0.80899253 0.80903517 0.81031304 0.8145728\n",
            " 0.81866219 0.82624455 0.8276077  0.83408248 0.82816143 0.83842745\n",
            " 0.82236816 0.88213252 0.90735032 0.91233423 0.90487966 0.9226854\n",
            " 0.91254717 0.89290969 0.88358088 0.8863497  0.8903113  0.90811705\n",
            " 0.91173787 0.89691387 0.92302619 0.93802055 0.94347303 0.96387723\n",
            " 0.97018171 0.97384504 0.992162   0.96911677 0.98176819 0.99821085\n",
            " 1.         0.97469704 0.95467614 0.95522993 0.95373906 0.95821175\n",
            " 0.93065113 0.92617843 0.92818053 0.92937325 0.9317587  0.9457307\n",
            " 0.9298844  0.93627403 0.89116324 0.88247331 0.89350612 0.90837262\n",
            " 0.92085374 0.9263488  0.9422803  0.94419718 0.95697645 0.96264193\n",
            " 0.96196035 0.96460138 0.9641328  0.95616708 0.96600711 0.96745541\n",
            " 0.97107623 0.96451623 0.97857337 0.97520819 0.94866994 0.94049121\n",
            " 0.94700864 0.94036343 0.94074679 0.93733897 0.94820136 0.94866994\n",
            " 0.94751978 0.79563206 0.77961081 0.75294286 0.7226125  0.69232756\n",
            " 0.66361064 0.63695294 0.61245209 0.59007639]\n",
            "9 day output [[0.5697475]]\n",
            "10 day input [0.77670358 0.77815194 0.7859473  0.77947246 0.79323145 0.79813014\n",
            " 0.80788502 0.80839617 0.80852395 0.81350786 0.81908819 0.8129115\n",
            " 0.79578733 0.80899253 0.80903517 0.81031304 0.8145728  0.81866219\n",
            " 0.82624455 0.8276077  0.83408248 0.82816143 0.83842745 0.82236816\n",
            " 0.88213252 0.90735032 0.91233423 0.90487966 0.9226854  0.91254717\n",
            " 0.89290969 0.88358088 0.8863497  0.8903113  0.90811705 0.91173787\n",
            " 0.89691387 0.92302619 0.93802055 0.94347303 0.96387723 0.97018171\n",
            " 0.97384504 0.992162   0.96911677 0.98176819 0.99821085 1.\n",
            " 0.97469704 0.95467614 0.95522993 0.95373906 0.95821175 0.93065113\n",
            " 0.92617843 0.92818053 0.92937325 0.9317587  0.9457307  0.9298844\n",
            " 0.93627403 0.89116324 0.88247331 0.89350612 0.90837262 0.92085374\n",
            " 0.9263488  0.9422803  0.94419718 0.95697645 0.96264193 0.96196035\n",
            " 0.96460138 0.9641328  0.95616708 0.96600711 0.96745541 0.97107623\n",
            " 0.96451623 0.97857337 0.97520819 0.94866994 0.94049121 0.94700864\n",
            " 0.94036343 0.94074679 0.93733897 0.94820136 0.94866994 0.94751978\n",
            " 0.79563206 0.77961081 0.75294286 0.7226125  0.69232756 0.66361064\n",
            " 0.63695294 0.61245209 0.59007639 0.56974751]\n",
            "10 day output [[0.55136085]]\n",
            "11 day input [0.77815194 0.7859473  0.77947246 0.79323145 0.79813014 0.80788502\n",
            " 0.80839617 0.80852395 0.81350786 0.81908819 0.8129115  0.79578733\n",
            " 0.80899253 0.80903517 0.81031304 0.8145728  0.81866219 0.82624455\n",
            " 0.8276077  0.83408248 0.82816143 0.83842745 0.82236816 0.88213252\n",
            " 0.90735032 0.91233423 0.90487966 0.9226854  0.91254717 0.89290969\n",
            " 0.88358088 0.8863497  0.8903113  0.90811705 0.91173787 0.89691387\n",
            " 0.92302619 0.93802055 0.94347303 0.96387723 0.97018171 0.97384504\n",
            " 0.992162   0.96911677 0.98176819 0.99821085 1.         0.97469704\n",
            " 0.95467614 0.95522993 0.95373906 0.95821175 0.93065113 0.92617843\n",
            " 0.92818053 0.92937325 0.9317587  0.9457307  0.9298844  0.93627403\n",
            " 0.89116324 0.88247331 0.89350612 0.90837262 0.92085374 0.9263488\n",
            " 0.9422803  0.94419718 0.95697645 0.96264193 0.96196035 0.96460138\n",
            " 0.9641328  0.95616708 0.96600711 0.96745541 0.97107623 0.96451623\n",
            " 0.97857337 0.97520819 0.94866994 0.94049121 0.94700864 0.94036343\n",
            " 0.94074679 0.93733897 0.94820136 0.94866994 0.94751978 0.79563206\n",
            " 0.77961081 0.75294286 0.7226125  0.69232756 0.66361064 0.63695294\n",
            " 0.61245209 0.59007639 0.56974751 0.55136085]\n",
            "11 day output [[0.53478855]]\n",
            "12 day input [0.7859473  0.77947246 0.79323145 0.79813014 0.80788502 0.80839617\n",
            " 0.80852395 0.81350786 0.81908819 0.8129115  0.79578733 0.80899253\n",
            " 0.80903517 0.81031304 0.8145728  0.81866219 0.82624455 0.8276077\n",
            " 0.83408248 0.82816143 0.83842745 0.82236816 0.88213252 0.90735032\n",
            " 0.91233423 0.90487966 0.9226854  0.91254717 0.89290969 0.88358088\n",
            " 0.8863497  0.8903113  0.90811705 0.91173787 0.89691387 0.92302619\n",
            " 0.93802055 0.94347303 0.96387723 0.97018171 0.97384504 0.992162\n",
            " 0.96911677 0.98176819 0.99821085 1.         0.97469704 0.95467614\n",
            " 0.95522993 0.95373906 0.95821175 0.93065113 0.92617843 0.92818053\n",
            " 0.92937325 0.9317587  0.9457307  0.9298844  0.93627403 0.89116324\n",
            " 0.88247331 0.89350612 0.90837262 0.92085374 0.9263488  0.9422803\n",
            " 0.94419718 0.95697645 0.96264193 0.96196035 0.96460138 0.9641328\n",
            " 0.95616708 0.96600711 0.96745541 0.97107623 0.96451623 0.97857337\n",
            " 0.97520819 0.94866994 0.94049121 0.94700864 0.94036343 0.94074679\n",
            " 0.93733897 0.94820136 0.94866994 0.94751978 0.79563206 0.77961081\n",
            " 0.75294286 0.7226125  0.69232756 0.66361064 0.63695294 0.61245209\n",
            " 0.59007639 0.56974751 0.55136085 0.53478855]\n",
            "12 day output [[0.51988417]]\n",
            "13 day input [0.77947246 0.79323145 0.79813014 0.80788502 0.80839617 0.80852395\n",
            " 0.81350786 0.81908819 0.8129115  0.79578733 0.80899253 0.80903517\n",
            " 0.81031304 0.8145728  0.81866219 0.82624455 0.8276077  0.83408248\n",
            " 0.82816143 0.83842745 0.82236816 0.88213252 0.90735032 0.91233423\n",
            " 0.90487966 0.9226854  0.91254717 0.89290969 0.88358088 0.8863497\n",
            " 0.8903113  0.90811705 0.91173787 0.89691387 0.92302619 0.93802055\n",
            " 0.94347303 0.96387723 0.97018171 0.97384504 0.992162   0.96911677\n",
            " 0.98176819 0.99821085 1.         0.97469704 0.95467614 0.95522993\n",
            " 0.95373906 0.95821175 0.93065113 0.92617843 0.92818053 0.92937325\n",
            " 0.9317587  0.9457307  0.9298844  0.93627403 0.89116324 0.88247331\n",
            " 0.89350612 0.90837262 0.92085374 0.9263488  0.9422803  0.94419718\n",
            " 0.95697645 0.96264193 0.96196035 0.96460138 0.9641328  0.95616708\n",
            " 0.96600711 0.96745541 0.97107623 0.96451623 0.97857337 0.97520819\n",
            " 0.94866994 0.94049121 0.94700864 0.94036343 0.94074679 0.93733897\n",
            " 0.94820136 0.94866994 0.94751978 0.79563206 0.77961081 0.75294286\n",
            " 0.7226125  0.69232756 0.66361064 0.63695294 0.61245209 0.59007639\n",
            " 0.56974751 0.55136085 0.53478855 0.51988417]\n",
            "13 day output [[0.50648755]]\n",
            "14 day input [0.79323145 0.79813014 0.80788502 0.80839617 0.80852395 0.81350786\n",
            " 0.81908819 0.8129115  0.79578733 0.80899253 0.80903517 0.81031304\n",
            " 0.8145728  0.81866219 0.82624455 0.8276077  0.83408248 0.82816143\n",
            " 0.83842745 0.82236816 0.88213252 0.90735032 0.91233423 0.90487966\n",
            " 0.9226854  0.91254717 0.89290969 0.88358088 0.8863497  0.8903113\n",
            " 0.90811705 0.91173787 0.89691387 0.92302619 0.93802055 0.94347303\n",
            " 0.96387723 0.97018171 0.97384504 0.992162   0.96911677 0.98176819\n",
            " 0.99821085 1.         0.97469704 0.95467614 0.95522993 0.95373906\n",
            " 0.95821175 0.93065113 0.92617843 0.92818053 0.92937325 0.9317587\n",
            " 0.9457307  0.9298844  0.93627403 0.89116324 0.88247331 0.89350612\n",
            " 0.90837262 0.92085374 0.9263488  0.9422803  0.94419718 0.95697645\n",
            " 0.96264193 0.96196035 0.96460138 0.9641328  0.95616708 0.96600711\n",
            " 0.96745541 0.97107623 0.96451623 0.97857337 0.97520819 0.94866994\n",
            " 0.94049121 0.94700864 0.94036343 0.94074679 0.93733897 0.94820136\n",
            " 0.94866994 0.94751978 0.79563206 0.77961081 0.75294286 0.7226125\n",
            " 0.69232756 0.66361064 0.63695294 0.61245209 0.59007639 0.56974751\n",
            " 0.55136085 0.53478855 0.51988417 0.50648755]\n",
            "14 day output [[0.49443144]]\n",
            "15 day input [0.79813014 0.80788502 0.80839617 0.80852395 0.81350786 0.81908819\n",
            " 0.8129115  0.79578733 0.80899253 0.80903517 0.81031304 0.8145728\n",
            " 0.81866219 0.82624455 0.8276077  0.83408248 0.82816143 0.83842745\n",
            " 0.82236816 0.88213252 0.90735032 0.91233423 0.90487966 0.9226854\n",
            " 0.91254717 0.89290969 0.88358088 0.8863497  0.8903113  0.90811705\n",
            " 0.91173787 0.89691387 0.92302619 0.93802055 0.94347303 0.96387723\n",
            " 0.97018171 0.97384504 0.992162   0.96911677 0.98176819 0.99821085\n",
            " 1.         0.97469704 0.95467614 0.95522993 0.95373906 0.95821175\n",
            " 0.93065113 0.92617843 0.92818053 0.92937325 0.9317587  0.9457307\n",
            " 0.9298844  0.93627403 0.89116324 0.88247331 0.89350612 0.90837262\n",
            " 0.92085374 0.9263488  0.9422803  0.94419718 0.95697645 0.96264193\n",
            " 0.96196035 0.96460138 0.9641328  0.95616708 0.96600711 0.96745541\n",
            " 0.97107623 0.96451623 0.97857337 0.97520819 0.94866994 0.94049121\n",
            " 0.94700864 0.94036343 0.94074679 0.93733897 0.94820136 0.94866994\n",
            " 0.94751978 0.79563206 0.77961081 0.75294286 0.7226125  0.69232756\n",
            " 0.66361064 0.63695294 0.61245209 0.59007639 0.56974751 0.55136085\n",
            " 0.53478855 0.51988417 0.50648755 0.49443144]\n",
            "15 day output [[0.48354867]]\n",
            "16 day input [0.80788502 0.80839617 0.80852395 0.81350786 0.81908819 0.8129115\n",
            " 0.79578733 0.80899253 0.80903517 0.81031304 0.8145728  0.81866219\n",
            " 0.82624455 0.8276077  0.83408248 0.82816143 0.83842745 0.82236816\n",
            " 0.88213252 0.90735032 0.91233423 0.90487966 0.9226854  0.91254717\n",
            " 0.89290969 0.88358088 0.8863497  0.8903113  0.90811705 0.91173787\n",
            " 0.89691387 0.92302619 0.93802055 0.94347303 0.96387723 0.97018171\n",
            " 0.97384504 0.992162   0.96911677 0.98176819 0.99821085 1.\n",
            " 0.97469704 0.95467614 0.95522993 0.95373906 0.95821175 0.93065113\n",
            " 0.92617843 0.92818053 0.92937325 0.9317587  0.9457307  0.9298844\n",
            " 0.93627403 0.89116324 0.88247331 0.89350612 0.90837262 0.92085374\n",
            " 0.9263488  0.9422803  0.94419718 0.95697645 0.96264193 0.96196035\n",
            " 0.96460138 0.9641328  0.95616708 0.96600711 0.96745541 0.97107623\n",
            " 0.96451623 0.97857337 0.97520819 0.94866994 0.94049121 0.94700864\n",
            " 0.94036343 0.94074679 0.93733897 0.94820136 0.94866994 0.94751978\n",
            " 0.79563206 0.77961081 0.75294286 0.7226125  0.69232756 0.66361064\n",
            " 0.63695294 0.61245209 0.59007639 0.56974751 0.55136085 0.53478855\n",
            " 0.51988417 0.50648755 0.49443144 0.48354867]\n",
            "16 day output [[0.47367775]]\n",
            "17 day input [0.80839617 0.80852395 0.81350786 0.81908819 0.8129115  0.79578733\n",
            " 0.80899253 0.80903517 0.81031304 0.8145728  0.81866219 0.82624455\n",
            " 0.8276077  0.83408248 0.82816143 0.83842745 0.82236816 0.88213252\n",
            " 0.90735032 0.91233423 0.90487966 0.9226854  0.91254717 0.89290969\n",
            " 0.88358088 0.8863497  0.8903113  0.90811705 0.91173787 0.89691387\n",
            " 0.92302619 0.93802055 0.94347303 0.96387723 0.97018171 0.97384504\n",
            " 0.992162   0.96911677 0.98176819 0.99821085 1.         0.97469704\n",
            " 0.95467614 0.95522993 0.95373906 0.95821175 0.93065113 0.92617843\n",
            " 0.92818053 0.92937325 0.9317587  0.9457307  0.9298844  0.93627403\n",
            " 0.89116324 0.88247331 0.89350612 0.90837262 0.92085374 0.9263488\n",
            " 0.9422803  0.94419718 0.95697645 0.96264193 0.96196035 0.96460138\n",
            " 0.9641328  0.95616708 0.96600711 0.96745541 0.97107623 0.96451623\n",
            " 0.97857337 0.97520819 0.94866994 0.94049121 0.94700864 0.94036343\n",
            " 0.94074679 0.93733897 0.94820136 0.94866994 0.94751978 0.79563206\n",
            " 0.77961081 0.75294286 0.7226125  0.69232756 0.66361064 0.63695294\n",
            " 0.61245209 0.59007639 0.56974751 0.55136085 0.53478855 0.51988417\n",
            " 0.50648755 0.49443144 0.48354867 0.47367775]\n",
            "17 day output [[0.4646683]]\n",
            "18 day input [0.80852395 0.81350786 0.81908819 0.8129115  0.79578733 0.80899253\n",
            " 0.80903517 0.81031304 0.8145728  0.81866219 0.82624455 0.8276077\n",
            " 0.83408248 0.82816143 0.83842745 0.82236816 0.88213252 0.90735032\n",
            " 0.91233423 0.90487966 0.9226854  0.91254717 0.89290969 0.88358088\n",
            " 0.8863497  0.8903113  0.90811705 0.91173787 0.89691387 0.92302619\n",
            " 0.93802055 0.94347303 0.96387723 0.97018171 0.97384504 0.992162\n",
            " 0.96911677 0.98176819 0.99821085 1.         0.97469704 0.95467614\n",
            " 0.95522993 0.95373906 0.95821175 0.93065113 0.92617843 0.92818053\n",
            " 0.92937325 0.9317587  0.9457307  0.9298844  0.93627403 0.89116324\n",
            " 0.88247331 0.89350612 0.90837262 0.92085374 0.9263488  0.9422803\n",
            " 0.94419718 0.95697645 0.96264193 0.96196035 0.96460138 0.9641328\n",
            " 0.95616708 0.96600711 0.96745541 0.97107623 0.96451623 0.97857337\n",
            " 0.97520819 0.94866994 0.94049121 0.94700864 0.94036343 0.94074679\n",
            " 0.93733897 0.94820136 0.94866994 0.94751978 0.79563206 0.77961081\n",
            " 0.75294286 0.7226125  0.69232756 0.66361064 0.63695294 0.61245209\n",
            " 0.59007639 0.56974751 0.55136085 0.53478855 0.51988417 0.50648755\n",
            " 0.49443144 0.48354867 0.47367775 0.4646683 ]\n",
            "18 day output [[0.45638415]]\n",
            "19 day input [0.81350786 0.81908819 0.8129115  0.79578733 0.80899253 0.80903517\n",
            " 0.81031304 0.8145728  0.81866219 0.82624455 0.8276077  0.83408248\n",
            " 0.82816143 0.83842745 0.82236816 0.88213252 0.90735032 0.91233423\n",
            " 0.90487966 0.9226854  0.91254717 0.89290969 0.88358088 0.8863497\n",
            " 0.8903113  0.90811705 0.91173787 0.89691387 0.92302619 0.93802055\n",
            " 0.94347303 0.96387723 0.97018171 0.97384504 0.992162   0.96911677\n",
            " 0.98176819 0.99821085 1.         0.97469704 0.95467614 0.95522993\n",
            " 0.95373906 0.95821175 0.93065113 0.92617843 0.92818053 0.92937325\n",
            " 0.9317587  0.9457307  0.9298844  0.93627403 0.89116324 0.88247331\n",
            " 0.89350612 0.90837262 0.92085374 0.9263488  0.9422803  0.94419718\n",
            " 0.95697645 0.96264193 0.96196035 0.96460138 0.9641328  0.95616708\n",
            " 0.96600711 0.96745541 0.97107623 0.96451623 0.97857337 0.97520819\n",
            " 0.94866994 0.94049121 0.94700864 0.94036343 0.94074679 0.93733897\n",
            " 0.94820136 0.94866994 0.94751978 0.79563206 0.77961081 0.75294286\n",
            " 0.7226125  0.69232756 0.66361064 0.63695294 0.61245209 0.59007639\n",
            " 0.56974751 0.55136085 0.53478855 0.51988417 0.50648755 0.49443144\n",
            " 0.48354867 0.47367775 0.4646683  0.45638415]\n",
            "19 day output [[0.4487056]]\n",
            "20 day input [0.81908819 0.8129115  0.79578733 0.80899253 0.80903517 0.81031304\n",
            " 0.8145728  0.81866219 0.82624455 0.8276077  0.83408248 0.82816143\n",
            " 0.83842745 0.82236816 0.88213252 0.90735032 0.91233423 0.90487966\n",
            " 0.9226854  0.91254717 0.89290969 0.88358088 0.8863497  0.8903113\n",
            " 0.90811705 0.91173787 0.89691387 0.92302619 0.93802055 0.94347303\n",
            " 0.96387723 0.97018171 0.97384504 0.992162   0.96911677 0.98176819\n",
            " 0.99821085 1.         0.97469704 0.95467614 0.95522993 0.95373906\n",
            " 0.95821175 0.93065113 0.92617843 0.92818053 0.92937325 0.9317587\n",
            " 0.9457307  0.9298844  0.93627403 0.89116324 0.88247331 0.89350612\n",
            " 0.90837262 0.92085374 0.9263488  0.9422803  0.94419718 0.95697645\n",
            " 0.96264193 0.96196035 0.96460138 0.9641328  0.95616708 0.96600711\n",
            " 0.96745541 0.97107623 0.96451623 0.97857337 0.97520819 0.94866994\n",
            " 0.94049121 0.94700864 0.94036343 0.94074679 0.93733897 0.94820136\n",
            " 0.94866994 0.94751978 0.79563206 0.77961081 0.75294286 0.7226125\n",
            " 0.69232756 0.66361064 0.63695294 0.61245209 0.59007639 0.56974751\n",
            " 0.55136085 0.53478855 0.51988417 0.50648755 0.49443144 0.48354867\n",
            " 0.47367775 0.4646683  0.45638415 0.44870561]\n",
            "20 day output [[0.4415304]]\n",
            "21 day input [0.8129115  0.79578733 0.80899253 0.80903517 0.81031304 0.8145728\n",
            " 0.81866219 0.82624455 0.8276077  0.83408248 0.82816143 0.83842745\n",
            " 0.82236816 0.88213252 0.90735032 0.91233423 0.90487966 0.9226854\n",
            " 0.91254717 0.89290969 0.88358088 0.8863497  0.8903113  0.90811705\n",
            " 0.91173787 0.89691387 0.92302619 0.93802055 0.94347303 0.96387723\n",
            " 0.97018171 0.97384504 0.992162   0.96911677 0.98176819 0.99821085\n",
            " 1.         0.97469704 0.95467614 0.95522993 0.95373906 0.95821175\n",
            " 0.93065113 0.92617843 0.92818053 0.92937325 0.9317587  0.9457307\n",
            " 0.9298844  0.93627403 0.89116324 0.88247331 0.89350612 0.90837262\n",
            " 0.92085374 0.9263488  0.9422803  0.94419718 0.95697645 0.96264193\n",
            " 0.96196035 0.96460138 0.9641328  0.95616708 0.96600711 0.96745541\n",
            " 0.97107623 0.96451623 0.97857337 0.97520819 0.94866994 0.94049121\n",
            " 0.94700864 0.94036343 0.94074679 0.93733897 0.94820136 0.94866994\n",
            " 0.94751978 0.79563206 0.77961081 0.75294286 0.7226125  0.69232756\n",
            " 0.66361064 0.63695294 0.61245209 0.59007639 0.56974751 0.55136085\n",
            " 0.53478855 0.51988417 0.50648755 0.49443144 0.48354867 0.47367775\n",
            " 0.4646683  0.45638415 0.44870561 0.44153041]\n",
            "21 day output [[0.43477362]]\n",
            "22 day input [0.79578733 0.80899253 0.80903517 0.81031304 0.8145728  0.81866219\n",
            " 0.82624455 0.8276077  0.83408248 0.82816143 0.83842745 0.82236816\n",
            " 0.88213252 0.90735032 0.91233423 0.90487966 0.9226854  0.91254717\n",
            " 0.89290969 0.88358088 0.8863497  0.8903113  0.90811705 0.91173787\n",
            " 0.89691387 0.92302619 0.93802055 0.94347303 0.96387723 0.97018171\n",
            " 0.97384504 0.992162   0.96911677 0.98176819 0.99821085 1.\n",
            " 0.97469704 0.95467614 0.95522993 0.95373906 0.95821175 0.93065113\n",
            " 0.92617843 0.92818053 0.92937325 0.9317587  0.9457307  0.9298844\n",
            " 0.93627403 0.89116324 0.88247331 0.89350612 0.90837262 0.92085374\n",
            " 0.9263488  0.9422803  0.94419718 0.95697645 0.96264193 0.96196035\n",
            " 0.96460138 0.9641328  0.95616708 0.96600711 0.96745541 0.97107623\n",
            " 0.96451623 0.97857337 0.97520819 0.94866994 0.94049121 0.94700864\n",
            " 0.94036343 0.94074679 0.93733897 0.94820136 0.94866994 0.94751978\n",
            " 0.79563206 0.77961081 0.75294286 0.7226125  0.69232756 0.66361064\n",
            " 0.63695294 0.61245209 0.59007639 0.56974751 0.55136085 0.53478855\n",
            " 0.51988417 0.50648755 0.49443144 0.48354867 0.47367775 0.4646683\n",
            " 0.45638415 0.44870561 0.44153041 0.43477362]\n",
            "22 day output [[0.42836648]]\n",
            "23 day input [0.80899253 0.80903517 0.81031304 0.8145728  0.81866219 0.82624455\n",
            " 0.8276077  0.83408248 0.82816143 0.83842745 0.82236816 0.88213252\n",
            " 0.90735032 0.91233423 0.90487966 0.9226854  0.91254717 0.89290969\n",
            " 0.88358088 0.8863497  0.8903113  0.90811705 0.91173787 0.89691387\n",
            " 0.92302619 0.93802055 0.94347303 0.96387723 0.97018171 0.97384504\n",
            " 0.992162   0.96911677 0.98176819 0.99821085 1.         0.97469704\n",
            " 0.95467614 0.95522993 0.95373906 0.95821175 0.93065113 0.92617843\n",
            " 0.92818053 0.92937325 0.9317587  0.9457307  0.9298844  0.93627403\n",
            " 0.89116324 0.88247331 0.89350612 0.90837262 0.92085374 0.9263488\n",
            " 0.9422803  0.94419718 0.95697645 0.96264193 0.96196035 0.96460138\n",
            " 0.9641328  0.95616708 0.96600711 0.96745541 0.97107623 0.96451623\n",
            " 0.97857337 0.97520819 0.94866994 0.94049121 0.94700864 0.94036343\n",
            " 0.94074679 0.93733897 0.94820136 0.94866994 0.94751978 0.79563206\n",
            " 0.77961081 0.75294286 0.7226125  0.69232756 0.66361064 0.63695294\n",
            " 0.61245209 0.59007639 0.56974751 0.55136085 0.53478855 0.51988417\n",
            " 0.50648755 0.49443144 0.48354867 0.47367775 0.4646683  0.45638415\n",
            " 0.44870561 0.44153041 0.43477362 0.42836648]\n",
            "23 day output [[0.42225528]]\n",
            "24 day input [0.80903517 0.81031304 0.8145728  0.81866219 0.82624455 0.8276077\n",
            " 0.83408248 0.82816143 0.83842745 0.82236816 0.88213252 0.90735032\n",
            " 0.91233423 0.90487966 0.9226854  0.91254717 0.89290969 0.88358088\n",
            " 0.8863497  0.8903113  0.90811705 0.91173787 0.89691387 0.92302619\n",
            " 0.93802055 0.94347303 0.96387723 0.97018171 0.97384504 0.992162\n",
            " 0.96911677 0.98176819 0.99821085 1.         0.97469704 0.95467614\n",
            " 0.95522993 0.95373906 0.95821175 0.93065113 0.92617843 0.92818053\n",
            " 0.92937325 0.9317587  0.9457307  0.9298844  0.93627403 0.89116324\n",
            " 0.88247331 0.89350612 0.90837262 0.92085374 0.9263488  0.9422803\n",
            " 0.94419718 0.95697645 0.96264193 0.96196035 0.96460138 0.9641328\n",
            " 0.95616708 0.96600711 0.96745541 0.97107623 0.96451623 0.97857337\n",
            " 0.97520819 0.94866994 0.94049121 0.94700864 0.94036343 0.94074679\n",
            " 0.93733897 0.94820136 0.94866994 0.94751978 0.79563206 0.77961081\n",
            " 0.75294286 0.7226125  0.69232756 0.66361064 0.63695294 0.61245209\n",
            " 0.59007639 0.56974751 0.55136085 0.53478855 0.51988417 0.50648755\n",
            " 0.49443144 0.48354867 0.47367775 0.4646683  0.45638415 0.44870561\n",
            " 0.44153041 0.43477362 0.42836648 0.42225528]\n",
            "24 day output [[0.41639867]]\n",
            "25 day input [0.81031304 0.8145728  0.81866219 0.82624455 0.8276077  0.83408248\n",
            " 0.82816143 0.83842745 0.82236816 0.88213252 0.90735032 0.91233423\n",
            " 0.90487966 0.9226854  0.91254717 0.89290969 0.88358088 0.8863497\n",
            " 0.8903113  0.90811705 0.91173787 0.89691387 0.92302619 0.93802055\n",
            " 0.94347303 0.96387723 0.97018171 0.97384504 0.992162   0.96911677\n",
            " 0.98176819 0.99821085 1.         0.97469704 0.95467614 0.95522993\n",
            " 0.95373906 0.95821175 0.93065113 0.92617843 0.92818053 0.92937325\n",
            " 0.9317587  0.9457307  0.9298844  0.93627403 0.89116324 0.88247331\n",
            " 0.89350612 0.90837262 0.92085374 0.9263488  0.9422803  0.94419718\n",
            " 0.95697645 0.96264193 0.96196035 0.96460138 0.9641328  0.95616708\n",
            " 0.96600711 0.96745541 0.97107623 0.96451623 0.97857337 0.97520819\n",
            " 0.94866994 0.94049121 0.94700864 0.94036343 0.94074679 0.93733897\n",
            " 0.94820136 0.94866994 0.94751978 0.79563206 0.77961081 0.75294286\n",
            " 0.7226125  0.69232756 0.66361064 0.63695294 0.61245209 0.59007639\n",
            " 0.56974751 0.55136085 0.53478855 0.51988417 0.50648755 0.49443144\n",
            " 0.48354867 0.47367775 0.4646683  0.45638415 0.44870561 0.44153041\n",
            " 0.43477362 0.42836648 0.42225528 0.41639867]\n",
            "25 day output [[0.41076645]]\n",
            "26 day input [0.8145728  0.81866219 0.82624455 0.8276077  0.83408248 0.82816143\n",
            " 0.83842745 0.82236816 0.88213252 0.90735032 0.91233423 0.90487966\n",
            " 0.9226854  0.91254717 0.89290969 0.88358088 0.8863497  0.8903113\n",
            " 0.90811705 0.91173787 0.89691387 0.92302619 0.93802055 0.94347303\n",
            " 0.96387723 0.97018171 0.97384504 0.992162   0.96911677 0.98176819\n",
            " 0.99821085 1.         0.97469704 0.95467614 0.95522993 0.95373906\n",
            " 0.95821175 0.93065113 0.92617843 0.92818053 0.92937325 0.9317587\n",
            " 0.9457307  0.9298844  0.93627403 0.89116324 0.88247331 0.89350612\n",
            " 0.90837262 0.92085374 0.9263488  0.9422803  0.94419718 0.95697645\n",
            " 0.96264193 0.96196035 0.96460138 0.9641328  0.95616708 0.96600711\n",
            " 0.96745541 0.97107623 0.96451623 0.97857337 0.97520819 0.94866994\n",
            " 0.94049121 0.94700864 0.94036343 0.94074679 0.93733897 0.94820136\n",
            " 0.94866994 0.94751978 0.79563206 0.77961081 0.75294286 0.7226125\n",
            " 0.69232756 0.66361064 0.63695294 0.61245209 0.59007639 0.56974751\n",
            " 0.55136085 0.53478855 0.51988417 0.50648755 0.49443144 0.48354867\n",
            " 0.47367775 0.4646683  0.45638415 0.44870561 0.44153041 0.43477362\n",
            " 0.42836648 0.42225528 0.41639867 0.41076645]\n",
            "26 day output [[0.40533704]]\n",
            "27 day input [0.81866219 0.82624455 0.8276077  0.83408248 0.82816143 0.83842745\n",
            " 0.82236816 0.88213252 0.90735032 0.91233423 0.90487966 0.9226854\n",
            " 0.91254717 0.89290969 0.88358088 0.8863497  0.8903113  0.90811705\n",
            " 0.91173787 0.89691387 0.92302619 0.93802055 0.94347303 0.96387723\n",
            " 0.97018171 0.97384504 0.992162   0.96911677 0.98176819 0.99821085\n",
            " 1.         0.97469704 0.95467614 0.95522993 0.95373906 0.95821175\n",
            " 0.93065113 0.92617843 0.92818053 0.92937325 0.9317587  0.9457307\n",
            " 0.9298844  0.93627403 0.89116324 0.88247331 0.89350612 0.90837262\n",
            " 0.92085374 0.9263488  0.9422803  0.94419718 0.95697645 0.96264193\n",
            " 0.96196035 0.96460138 0.9641328  0.95616708 0.96600711 0.96745541\n",
            " 0.97107623 0.96451623 0.97857337 0.97520819 0.94866994 0.94049121\n",
            " 0.94700864 0.94036343 0.94074679 0.93733897 0.94820136 0.94866994\n",
            " 0.94751978 0.79563206 0.77961081 0.75294286 0.7226125  0.69232756\n",
            " 0.66361064 0.63695294 0.61245209 0.59007639 0.56974751 0.55136085\n",
            " 0.53478855 0.51988417 0.50648755 0.49443144 0.48354867 0.47367775\n",
            " 0.4646683  0.45638415 0.44870561 0.44153041 0.43477362 0.42836648\n",
            " 0.42225528 0.41639867 0.41076645 0.40533704]\n",
            "27 day output [[0.40009534]]\n",
            "28 day input [0.82624455 0.8276077  0.83408248 0.82816143 0.83842745 0.82236816\n",
            " 0.88213252 0.90735032 0.91233423 0.90487966 0.9226854  0.91254717\n",
            " 0.89290969 0.88358088 0.8863497  0.8903113  0.90811705 0.91173787\n",
            " 0.89691387 0.92302619 0.93802055 0.94347303 0.96387723 0.97018171\n",
            " 0.97384504 0.992162   0.96911677 0.98176819 0.99821085 1.\n",
            " 0.97469704 0.95467614 0.95522993 0.95373906 0.95821175 0.93065113\n",
            " 0.92617843 0.92818053 0.92937325 0.9317587  0.9457307  0.9298844\n",
            " 0.93627403 0.89116324 0.88247331 0.89350612 0.90837262 0.92085374\n",
            " 0.9263488  0.9422803  0.94419718 0.95697645 0.96264193 0.96196035\n",
            " 0.96460138 0.9641328  0.95616708 0.96600711 0.96745541 0.97107623\n",
            " 0.96451623 0.97857337 0.97520819 0.94866994 0.94049121 0.94700864\n",
            " 0.94036343 0.94074679 0.93733897 0.94820136 0.94866994 0.94751978\n",
            " 0.79563206 0.77961081 0.75294286 0.7226125  0.69232756 0.66361064\n",
            " 0.63695294 0.61245209 0.59007639 0.56974751 0.55136085 0.53478855\n",
            " 0.51988417 0.50648755 0.49443144 0.48354867 0.47367775 0.4646683\n",
            " 0.45638415 0.44870561 0.44153041 0.43477362 0.42836648 0.42225528\n",
            " 0.41639867 0.41076645 0.40533704 0.40009534]\n",
            "28 day output [[0.3950316]]\n",
            "29 day input [0.8276077  0.83408248 0.82816143 0.83842745 0.82236816 0.88213252\n",
            " 0.90735032 0.91233423 0.90487966 0.9226854  0.91254717 0.89290969\n",
            " 0.88358088 0.8863497  0.8903113  0.90811705 0.91173787 0.89691387\n",
            " 0.92302619 0.93802055 0.94347303 0.96387723 0.97018171 0.97384504\n",
            " 0.992162   0.96911677 0.98176819 0.99821085 1.         0.97469704\n",
            " 0.95467614 0.95522993 0.95373906 0.95821175 0.93065113 0.92617843\n",
            " 0.92818053 0.92937325 0.9317587  0.9457307  0.9298844  0.93627403\n",
            " 0.89116324 0.88247331 0.89350612 0.90837262 0.92085374 0.9263488\n",
            " 0.9422803  0.94419718 0.95697645 0.96264193 0.96196035 0.96460138\n",
            " 0.9641328  0.95616708 0.96600711 0.96745541 0.97107623 0.96451623\n",
            " 0.97857337 0.97520819 0.94866994 0.94049121 0.94700864 0.94036343\n",
            " 0.94074679 0.93733897 0.94820136 0.94866994 0.94751978 0.79563206\n",
            " 0.77961081 0.75294286 0.7226125  0.69232756 0.66361064 0.63695294\n",
            " 0.61245209 0.59007639 0.56974751 0.55136085 0.53478855 0.51988417\n",
            " 0.50648755 0.49443144 0.48354867 0.47367775 0.4646683  0.45638415\n",
            " 0.44870561 0.44153041 0.43477362 0.42836648 0.42225528 0.41639867\n",
            " 0.41076645 0.40533704 0.40009534 0.3950316 ]\n",
            "29 day output [[0.3901396]]\n",
            "[[0.7956320643424988], [0.779610812664032], [0.7529428601264954], [0.7226125001907349], [0.6923275589942932], [0.6636106371879578], [0.6369529366493225], [0.6124520897865295], [0.5900763869285583], [0.5697475075721741], [0.5513608455657959], [0.5347885489463806], [0.5198841691017151], [0.5064875483512878], [0.49443143606185913], [0.48354867100715637], [0.47367775440216064], [0.46466830372810364], [0.45638415217399597], [0.44870561361312866], [0.44153040647506714], [0.43477362394332886], [0.428366482257843], [0.422255277633667], [0.41639867424964905], [0.41076645255088806], [0.40533703565597534], [0.4000953435897827], [0.395031601190567], [0.3901396095752716]]\n"
          ]
        }
      ]
    },
    {
      "cell_type": "code",
      "source": [
        "day_new=np.arange(1,101)\n",
        "day_pred=np.arange(101,131)"
      ],
      "metadata": {
        "id": "bhxsn92f2_cm"
      },
      "execution_count": 57,
      "outputs": []
    },
    {
      "cell_type": "code",
      "source": [
        "import matplotlib.pyplot as plt"
      ],
      "metadata": {
        "id": "Yr9ZSSaW3DTB"
      },
      "execution_count": 58,
      "outputs": []
    },
    {
      "cell_type": "code",
      "source": [
        "len(df1)"
      ],
      "metadata": {
        "colab": {
          "base_uri": "https://localhost:8080/"
        },
        "id": "eK38mo4g3FLy",
        "outputId": "b4b02f29-111e-48e8-8f76-7c49f94b7f92"
      },
      "execution_count": 59,
      "outputs": [
        {
          "output_type": "execute_result",
          "data": {
            "text/plain": [
              "10080"
            ]
          },
          "metadata": {},
          "execution_count": 59
        }
      ]
    },
    {
      "cell_type": "code",
      "source": [
        "plt.plot(day_new,scaler.inverse_transform(df1[9980:]))\n",
        "plt.plot(day_pred,scaler.inverse_transform(lst_output))"
      ],
      "metadata": {
        "colab": {
          "base_uri": "https://localhost:8080/",
          "height": 448
        },
        "id": "dihzrji73Gp-",
        "outputId": "09007e74-8d7f-4999-d432-54be8c2551bf"
      },
      "execution_count": 60,
      "outputs": [
        {
          "output_type": "execute_result",
          "data": {
            "text/plain": [
              "[<matplotlib.lines.Line2D at 0x7ef1e7b4ed10>]"
            ]
          },
          "metadata": {},
          "execution_count": 60
        },
        {
          "output_type": "display_data",
          "data": {
            "text/plain": [
              "<Figure size 640x480 with 1 Axes>"
            ],
            "image/png": "[encoded data removed]"
          },
          "metadata": {}
        }
      ]
    },
    {
      "cell_type": "code",
      "source": [
        "df3=df1.tolist()\n",
        "df3.extend(lst_output)\n",
        "plt.plot(df3[0:])"
      ],
      "metadata": {
        "colab": {
          "base_uri": "https://localhost:8080/",
          "height": 447
        },
        "id": "jwycjbKp3WmJ",
        "outputId": "73a7242c-b99d-4788-d0bb-5a3486306ba6"
      },
      "execution_count": 61,
      "outputs": [
        {
          "output_type": "execute_result",
          "data": {
            "text/plain": [
              "[<matplotlib.lines.Line2D at 0x7ef1e54035e0>]"
            ]
          },
          "metadata": {},
          "execution_count": 61
        },
        {
          "output_type": "display_data",
          "data": {
            "text/plain": [
              "<Figure size 640x480 with 1 Axes>"
            ],
            "image/png": "[encoded data removed]"
          },
          "metadata": {}
        }
      ]
    },
    {
      "cell_type": "code",
      "source": [
        "df3=scaler.inverse_transform(df3).tolist()"
      ],
      "metadata": {
        "id": "Hi2YWyMW3gHd"
      },
      "execution_count": 62,
      "outputs": []
    },
    {
      "cell_type": "code",
      "source": [
        "plt.plot(df3)"
      ],
      "metadata": {
        "colab": {
          "base_uri": "https://localhost:8080/",
          "height": 447
        },
        "id": "LkAJlIWQ3hwM",
        "outputId": "10c67ab2-98da-4c0b-d8a7-bd0ab81003d5"
      },
      "execution_count": 63,
      "outputs": [
        {
          "output_type": "execute_result",
          "data": {
            "text/plain": [
              "[<matplotlib.lines.Line2D at 0x7ef1e5306500>]"
            ]
          },
          "metadata": {},
          "execution_count": 63
        },
        {
          "output_type": "display_data",
          "data": {
            "text/plain": [
              "<Figure size 640x480 with 1 Axes>"
            ],
            "image/png": "[encoded data removed]"
          },
          "metadata": {}
        }
      ]
    },
    {
      "cell_type": "code",
      "source": [
        "import joblib\n",
        "\n",
        "# Assuming you have a trained model named `model`\n",
        "# Save the model to a file\n",
        "joblib.dump(model, 'Stock_Price_Predication.pkl')\n",
        "\n",
        "print(\"Model saved successfully.\")\n"
      ],
      "metadata": {
        "colab": {
          "base_uri": "https://localhost:8080/"
        },
        "id": "PZ5DSwzj3jMY",
        "outputId": "13dd3e7d-e936-40d9-9553-16a0c00ea596"
      },
      "execution_count": 65,
      "outputs": [
        {
          "output_type": "stream",
          "name": "stdout",
          "text": [
            "Model saved successfully.\n"
          ]
        }
      ]
    }
  ]
}